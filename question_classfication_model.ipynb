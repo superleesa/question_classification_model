{
 "cells": [
  {
   "cell_type": "markdown",
   "metadata": {
    "id": "5bP-W9Sklx97"
   },
   "source": [
    "## Section 2: Coding Questions"
   ]
  },
  {
   "cell_type": "markdown",
   "metadata": {
    "id": "WBqw-xRHlx99"
   },
   "source": [
    "This section consists of coding questions. The total mark for this section is **85**.\n",
    "The task we are considering in this section is the text classification task. In this section, some code has been provided to help you get started. For each cell marked with **# Insert your code here**, these are placeholders where you **must** supply your own codes when instructed.\n",
    "This section consists of 5 parts:\n",
    "* Part 0: Downloading and preprocessing data. This part has been completed. No marks are allocated for this part.\n",
    "* Part 1: Coding assessment on using Word2Vect to transform texts to vectors (20 marks).\n",
    "* Part 2: Coding assessment on Text CNN for sequence modeling and neural embedding (10 marks).\n",
    "* Part 3: Coding assessment on RNNs for sequence modeling and neural embedding (32 marks).\n",
    "* Part 4: Coding assessment on Transformer for sequence modeling and neural embedding and the overall ranking (23 marks)."
   ]
  },
  {
   "cell_type": "markdown",
   "metadata": {
    "id": "MNPvRjRzlx9-"
   },
   "source": [
    "## <span style=\"color:#0b486b\">Set random seeds</span>"
   ]
  },
  {
   "cell_type": "markdown",
   "metadata": {
    "id": "M5RzTmX_lx9-"
   },
   "source": [
    "We start with importing tensorflow and numpy and setting random seeds for TF and numpy. You can use any seeds you prefer."
   ]
  },
  {
   "cell_type": "code",
   "execution_count": 1,
   "metadata": {
    "id": "FVIdDdW3lx9-"
   },
   "outputs": [],
   "source": [
    "import numpy as np\n",
    "import tensorflow as tf\n",
    "\n",
    "tf.random.set_seed(6789)\n",
    "np.random.seed(6789)"
   ]
  },
  {
   "cell_type": "markdown",
   "metadata": {
    "id": "N6vcHkCUlx9_"
   },
   "source": [
    "## <span style=\"color:#0b486b\">Part 0: Download and preprocess the data</span>\n",
    "\n",
    "<div style=\"text-align: right\"><span style=\"color:red; font-weight:bold\"><span></div>"
   ]
  },
  {
   "cell_type": "markdown",
   "metadata": {
    "id": "9pRnMDwMlx9_"
   },
   "source": [
    "The dataset we use for this assignment is a question classification dataset for which the training set consists of $5,500$ questions belonging to 6 coarse question categories including:\n",
    "- abbreviation (ABBR),\n",
    "- entity (ENTY),\n",
    "- description (DESC),\n",
    "- human (HUM),\n",
    "- location (LOC) and\n",
    "- numeric (NUM).\n",
    "\n",
    "In this assignment, we will utilize a subset of this dataset, containing $2,000$ questions for training and validation. We will use 80% of those 2000 questions for trainning and the rest for validation.\n"
   ]
  },
  {
   "cell_type": "markdown",
   "metadata": {
    "id": "AbFr7eCLlx-A"
   },
   "source": [
    "Preprocessing data is a crucial initial step in any machine learning or deep learning project. The *TextDataManager* class simplifies the process by providing functionalities to download and preprocess data specifically designed for the subsequent questions in this assignment. It is highly recommended to gain a comprehensive understanding of the class's functionality by **carefully reading** the content provided in the *TextDataManager.py* file before proceeding to answer the questions in Part 1."
   ]
  },
  {
   "cell_type": "code",
   "execution_count": 2,
   "metadata": {
    "colab": {
     "base_uri": "https://localhost:8080/"
    },
    "id": "8-4KKw7ylx-A",
    "outputId": "f3369b23-c80e-4233-b033-4ed6ca5a9d2a"
   },
   "outputs": [
    {
     "name": "stdout",
     "output_type": "stream",
     "text": [
      "Loading data...\n",
      "Downloaded successfully train_2000.label\n",
      "\n",
      "Sample questions and corresponding labels... \n",
      "\n",
      "['manner how did serfdom develop in and then leave russia ?', 'cremat what films featured the character popeye doyle ?', \"manner how can i find a list of celebrities ' real names ?\", 'animal what fowl grabs the spotlight after the chinese year of the monkey ?', 'exp what is the full form of .com ?']\n",
      "['DESC', 'ENTY', 'DESC', 'ENTY', 'ABBR']\n"
     ]
    }
   ],
   "source": [
    "from TextDataManager import SimpleTextDataset as DataManager\n",
    "\n",
    "print('Loading data...')\n",
    "DataManager.maybe_download(\"data\", \"train_2000.label\", \"http://cogcomp.org/Data/QA/QC/\")\n",
    "\n",
    "dm = DataManager(maxlen=100)\n",
    "dm.read_data(\"data/\", [\"train_2000.label\"])"
   ]
  },
  {
   "cell_type": "code",
   "execution_count": 3,
   "metadata": {
    "id": "UT-m_8Ltlx-B"
   },
   "outputs": [],
   "source": [
    "dm.manipulate_data()\n",
    "dm.train_valid_split(train_ratio=0.8)"
   ]
  },
  {
   "cell_type": "code",
   "execution_count": null,
   "metadata": {
    "colab": {
     "base_uri": "https://localhost:8080/"
    },
    "id": "H3d7F3PTlx-B",
    "outputId": "b8856bd1-1ea2-425b-c06d-86f043e5e491",
    "scrolled": true,
    "tags": []
   },
   "outputs": [
    {
     "name": "stdout",
     "output_type": "stream",
     "text": [
      "['manner how did serfdom develop in and then leave russia ?', 'cremat what films featured the character popeye doyle ?', \"manner how can i find a list of celebrities ' real names ?\", 'animal what fowl grabs the spotlight after the chinese year of the monkey ?', 'exp what is the full form of .com ?', 'ind what contemptible scoundrel stole the cork from my lunch ?', \"gr what team did baseball 's st. louis browns become ?\", 'title what is the oldest profession ?', 'def what are liver enzymes ?', 'ind name the scar-faced bounty hunter of the old west .', 'date when was ozzy osbourne born ?', 'reason why do heavier objects travel downhill faster ?', 'ind who was the pride of the yankees ?', 'ind who killed gandhi ?', 'event what is considered the costliest disaster the insurance industry has ever faced ?', 'state what sprawling u.s. state boasts the most airports ?', 'desc what did the only repealed amendment to the u.s. constitution deal with ?', 'count how many jews were executed in concentration camps during wwii ?', \"def what is `` nine inch nails '' ?\", 'def what is an annotated bibliography ?', 'date what is the date of boxing day ?', 'other what articles of clothing are tokens in monopoly ?', 'ind name 11 famous martyrs .', \"desc what 's the olympic motto ?\", \"desc what is the origin of the name ` scarlett ' ?\", \"letter what 's the second-most-used vowel in english ?\", 'ind who was the inventor of silly putty ?', 'other what is the highest waterfall in the united states ?', 'other name a golf course in myrtle beach .', 'state which two states enclose chesapeake bay ?', 'exp what does the abbreviation aids stand for ?', 'other what does a spermologer collect ?', 'count how many points make up a perfect fivepin bowling score ?', \"gr which company that manufactures video-game hardware sells the `` super system '' ?\", 'count how many community chest cards are there in monopoly ?', 'desc what do mormons believe ?', 'date when did the neanderthal man live ?', 'religion in what religion was isis the nature goddess ?', \"other where do the adventures of `` the swiss family robinson '' take place ?\", 'animal what relative of the racoon is sometimes known as the cat-bear ?', 'manner how can i register my website in yahoo for free ?', 'other what was cash-conscious colonel edwin l. drake the first to drill ?', 'count how many people in the world speak french ?', 'count how many inches over six feet is the venus de milo ?', 'manner how do they find or choose witnesses to an execution ?', 'ind what 1920s cowboy star rode tony the wonder horse ?', 'food what cocktail inspired john doxat to write the book stirred-not shaken ?', 'gr what isps exist in the caribbean ?', 'manner how do you ask a total stranger out on a date ?', 'other what weapon is the mythological character apollo most proficient with ?', 'country what country do the galapagos islands belong to ?', 'def what is ethology ?', 'ind who was the prophet of the muslim people ?', \"desc where did the term `` 86ed '' come from ?\", \"ind who is snoopy 's arch-enemy ?\", 'def what is the nature of learning ?', \"color what 's the only color johnny cash wears on stage ?\", \"termeq what 's the term for a young fox ?\", 'state what u.s. state lived under six flags ?', 'def what is the kashmir issue ?', 'other where is the loop ?', \"def what does `` extended definition '' mean and how would one write a paper on it ?\", \"country what country 's capital is tirana ?\", 'def what is titanium ?', 'ind who do herb and tootsie live next door to ?', 'city which city has the oldest relationship as a sisterðcity with los angeles ?', 'def what is a caldera ?', 'reason why do people get calluses ?', 'other what are the names of the tourist attractions in reims ?', 'reason what are cushman and wakefield known for ?', 'other what body of water does the danube river flow into ?', 'ind who is the founder of scientology ?', 'other what does the six-footed musca domestica become when it enters a house ?', 'desc what is the history of skateboarding ?', 'ind who starred in singing in the rain and the singing nun ?', 'manner how do i make fuel bricks from recycled newspaper ?', 'ind what 19th-century painter died in the marquesas islands ?', 'body the corpus callosum is in what part of the body ?', 'manner how do i log on to home page at headquarters u.s. european command ?', 'country what country did the nazis occupy for 1 , cd nns in nnp nnp nnp .', \"other what is nebraska 's most valuable resource ?\", 'count how many species of the great white shark are there ?', 'desc what is the origin of head lice ?', 'state what is the nickname for the state of mississippi ?', 'animal what was the first domesticated bird ?', 'count how many villi are found in the small intestine ?', 'country what country did king wenceslas rule ?', 'dismed what is a fear of shadows ?', 'ind who were the five marx brothers ?', 'date in which year was new zealand excluded from the anzus alliance ?', 'date when did cnn begin broadcasting ?', 'reason what causes the body to shiver in cold temperatures ?', 'def what are bear and bull markets ?', 'cremat what j.r.r. tolkien book features bilbo baggins as the central character ?', \"def what is `` dew point '' ?\", 'def what is the meaning of jesus ?', \"gr what company 's logo is a `` w '' in a circle ?\", 'def what is the definition of a cascade ?', 'date when did rococo painting and architecture flourish ?', \"country what country 's national passenger rail system is called via ?\", 'ind who invented make-up ?', \"desc what is the origin of the word `` attic '' ?\", \"desc what did delilah do to samson 's hair ?\", 'animal what kind of animals were in the paleozoic era ?', 'ind which of the following was rhodes scholar ?', 'ind who comprised the now-defunct comic book team known as the champions ?', 'manner how do you make a paintball ?', 'state what u.s. state is fort knox in ?', 'animal what is a female rabbit called ?', 'mount where is the highest point in japan ?', 'desc where do chihuahuas come from ?', \"other where does barney rubble go to work after he drops fred off in the `` flintstones '' cartoon series ?\", \"other what are the world 's four oceans ?\", \"cremat what 's the only work by michelangelo that bears his signature ?\", 'animal what is the largest snake in the world ?', 'cremat in what medium is stuart hamblen considered to be the first singing cowboy ?', 'other where on the internet can i find a song lyrics database similar to the international lyrics server ?', 'money how much money does a back injury lawsuit get ?', \"termeq what 's the common name for acetylsalicylic acid ?\", \"def what does the georgetown `` hoya '' mean ?\", \"other where can i find a list of `` classic '' books 5th and 6th graders should read ?\", 'product which two products use a tiger as their symbol ?', 'manner how is the election of a new pope announced to the world ?', 'period how long does it take for your blood to make one complete trip through the body ?', 'manner how do chickens have baby chicks ?', 'desc what is the historical relationship of catholic church and bingo ?', 'manner how was the element calcium named ?', 'ind what crooner joined the andrews sisters for pistol packin mama ?', \"gr what piano company claims its product is the `` instrument of the immortals '' ?\", 'date when did the bounty mutiny take place ?', 'cremat what novel inspired the movie bladerunner ?', 'def what is a transistor ?', 'cremat what is a film starring jude law ?', 'animal what hollywood dog died in the arms of jean harlow in 1932 ?', \"substance what are the most common elements in the earth 's crust ?\", 'money how much would it cost to purchase a 2-foot-square party tent , with sides , ?', 'ind what actress has received the most oscar nominations ?', 'def what are equity securities ?', 'def what is gymnophobia ?', 'count how many years do fossils take to form ?', 'other where is the orinoco ?', \"animal what was the name of the `` little rascals '' dog ?\", \"city what city boasts penn 's landing , on the banks of the delaware river ?\", \"cremat what broadway musical was inspired by cervantes 's don quixote ?\", 'desc what is the origin of the word , jj .', 'count how many hostages were killed in the entebbe raid ?', 'manner how you can raise your iq ?', \"exp what does inri stand for when used on jesus ' cross ?\", 'gr who produces spumante ?', 'ind who earns their money the hard way ?', \"ind who founded the people 's temple commune ?\", 'ind what athlete makes the most money from sports merchandise sales ?', 'count how many bends are there in a standard paper clip ?', 'ind who discovered electricity ?', 'body what part of your body contains the corpus callosum ?', 'ind who was the first american in space ?', \"country what two south american countries do n't border brazil ?\", 'cremat what album put the beatles on the cover of time in 1967 ?', \"cremat what poem contains the line , `` grow old with me the best is yet to be '' .\", 'def what is a dental root canal ?', 'event what war did the wanna-go-home riots occur after ?', 'date what is the busiest air travel season ?', \"body what 's the colored part of the eye called ?\", 'def what are hook worms ?', 'other where is the rose bowl played ?', 'gr which japanese car maker had its biggest percentage of sale in the domestic market ?', 'ind who is the mayor of marbella ?', 'other what sun-blasted , 14-mile wide valley is just north of the mojave desert ?', 'date in what year did thatcher become prime minister ?', 'count how many months does it take the moon to revolve around the earth ?', 'other where are the 49 steps ?', 'date in what year was de gaulle elected president of france ?', \"ind who sings the themes for `` dawson 's creek '' and `` felicity '' ?\", \"ind who directed `` jaws '' ?\", 'cremat on what t.v. show could tom terrific be found ?', 'gr what indian tribe is f troop perpetually doing battle with ?', 'desc where did indian pudding come from ?', \"reason why do some clothing labels say `` use a nonchlorine bleach '' ?\", 'count how many colonies were involved in the american revolution ?', 'city what is the name of the city that maurizio pellegrin lives in ?', 'other where can i find pictorial directions on how to build a very simple treehouse ?', \"sport what game 's board shows the territories of irkutsk , yakutsk and kamchatka ?\", 'ind what is the name of the managing director of apricot computer ?', 'title what is the occupation of nicholas cage ?', 'reason why do horseshoes bring luck ?', 'def what is the 401 , k , plan ?', 'reason what causes pneumonia ?', 'date what are the three winter months in the southern hemisphere ?', 'def what does gringo mean ?', \"country what country contains africa 's northernmost point ?\", \"dismed what therapy attempts to elicit the `` primal scream '' ?\", 'other where is the kalahari desert ?', \"gr which ventura county police department seized the largest cocaine shipment in it 's history ?\", 'city what city is sometimes called gotham ?', 'body what dangles over the tongue from the palate ?', 'ind who created dennis the menace ?', 'ind what dummy received an honorary degree from northwestern university ?', 'date when was the first wall street journal published ?', 'country what countries have the largest areas of forest ?', 'manner how do i start a web based business ?', \"ind name alvin 's brothers\", \"def what is eagle 's syndrome styloid process ?\", 'manner how did jayne mansfield die ?', 'date when did the royal wedding of prince andrew and fergie take place ?', 'ind what actor said in a day at the races', \"ind what explorer was nicknamed iberia 's pilot ?\", 'date cnn began broadcasting in what year ?', 'termeq what is a ball that hits the foul pole called ?', 'reason what makes hamburgers taste like steakburgers ?', 'gr which company created the internet browser mosaic ?', 'event what are the rites accompanying the circumcision of a newly born-child in judaism called ?', \"other what was the education system in the 1960 's ?\", \"city what south american city has the world 's highest commercial landing field ?\", 'manner how can i find out which cities have cable-modem access ?', 'reason what is betsy ross famous for ?', 'count how many species of sharks are there ?', \"def what is `` snoogans '' ?\", 'count how many people are there in the world ?', 'plant what shrubs can be planted that will be safe from deer ?', \"gr what organization 's offices were broken into at watergate in 1972 ?\", 'desc what is the design of the ship titanic ?', 'exp what does s.o.s. stand for ?', 'techmeth name a technique widely used to detect birth defects ?', 'desc what is the daily requirement of folic acid for an expectant mother ?', \"def what is the `` 7-minute cigarette '' ?\", 'other what four forms does gold occur in ?', 'volsize what is the acreage of the chappellet vineyard ?', \"manner how do you correctly say the word ` qigong ' ?\", 'date when did beethoven die ?', 'money how much does a new railroad coal car cost ?', 'country what two european countries entered the war of american independence against the british ?', 'def what is the filmmakers collabrative ?', \"ind what russian composer 's prelude in c sharp minor brought him fame and fortune ?\", \"reason what caused harry houdini 's death ?\", 'ind who was the mother of the man who would not be king , the duke of windsor ?', 'count how many revolutions does a standard lp make in three minutes ?', 'mount what is the name of the tallest mountain in the world ?', 'other where can i find a review of nightmare on elm street in a film journal ?', \"techmeth what 's the slowest olympic swimming stroke ?\", 'ind what was the name of the first russian astronaut to do a spacewalk ?', 'dismed what disease is transmitted by the anopheles mosquito ?', \"food what rum is so `` mixable '' it is a one-brand bar ?\", 'count how many south american countries have the letter z in their names ?', 'def what is the contents of proposition 98 ?', 'other where was george washington born ?', 'count how many people on the ground were killed from the bombing of pan am flight 103 over lockerbie , scotland , december 21 , cd .', \"ind who wrote nn dt nnp nnp '' ?\", 'def what is paracetamol ?', \"desc what are the powers and weaknesses of green lantern 's ring ?\", \"animal which mosquito 's bite draws blood , dt nn cc dt nn .\", 'date when was the first steel mill in the united states built ?', 'ind what diminutive american female gymnast stole the show at the 1984 olympics ?', 'desc what is the origin of the name katie ?', 'gr what schools in the washington , dc nn nn vbp nn nn nn nn .', 'date when did the berlin wall go up ?', 'desc who is terrence malick ?', 'instru what instrument is ray charles best known for playing ?', \"def what 's the meaning of the latin battle cry\", 'other what is the mascot for notre dame university ?', 'other what las vegas hotel burned in november , 1980 , with the loss of 84 lives ?', 'date when did mount st. helen last have a significant eruption ?', 'exp cnn is the abbreviation for what ?', 'date when did world war i start ?', 'count how many feet are there in a fathom ?', 'def what is a canada two-penny black ?', 'city what european city do nicois live in ?', 'manner how can i find out what year a beanie baby was introduced ?', 'def what is the classic definition of tragic hero ?', \"other to what does microsoft 's windows 3 owe its success ?\", 'ind who was president of afghanistan in 1994 ?', 'techmeth what are other ways of getting stretch marks besides pregnancy , weight loss , and weight lifting ?', 'food what did brontosauruses eat ?', 'color what color bottles do good rhine wines come in ?', \"ind who was the lead actress in the movie ` sleepless in seattle ' ?\", 'ind who was the 16th president of the united states ?', 'ind who are the two sons of ozzie and harriet nelson ?', 'def what is molybdenum ?', 'date when is boxing day ?', 'other what is the lowest level of the american judiciary ?', 'date when was the battle of the somme fought ?', 'count how many people did randy craft kill ?', \"animal what 's the official animal of canada ?\", \"date when did spielberg direct `` jaws '' ?\", 'volsize what is the size of the largest akita ?', 'animal what animal has the biggest eyes ?', \"city what is california 's capital ?\", \"ind who was the author of the book about computer hackers called `` the cuckoo 's egg\", 'ind who was the founding member of the pink floyd band ?', 'country what european country is home to the beer-producing city of budweis ?', 'manner how do i find the balance of my social security account ?', \"desc what is the history of valentine 's day cards ?\", 'other where was christopher columbus born ?', 'termeq what do italians call florence ?', 'manner how do you get to the top of the eiffel tower ?', \"exp what does ` psi ' stand for ?\", 'other what sea did the romans call mare nostrum ?', \"termeq what 's the term for a bet before cards are dealt ?\", 'animal which came first , according to genesis 1', 'city what city did the flintstones live in ?', 'termeq what is latin for incompetent ?', 'dismed what chemicals are used in lethal injection ?', \"gr what toy company is the world 's no.1 maker of female apparel ?\", \"sport what board game does a `` wood-pusher '' play poorly ?\", 'ind which doonesbury character was likely to turn into a werewolf ?', 'abb what is the abbreviation for micro ?', 'other what are the 7 articles of the constitution ?', 'gr who has won the most super bowls ?', 'exp what does nasdaq stand for ?', 'exp what is bph ?', 'other what is the fastest commercial automobile that can be bought in the us ?', 'other what stadium do the miami dolphins play their home games in ?', \"ind who has the only speaking role in `` silent movie '' ?\", 'reason why is poop sometimes different colors ?', \"other what was einstein 's iq ?\", 'date what day was pearl harbor attacked in 1942 ?', \"ind what girl 's name is `` teddy '' an affectionate form of ?\", 'state what state is john f. kennedy buried in ?', 'techmeth what is the best way to remove wallpaper ?', 'state what u.s. state has an element named for it ?', 'gr what company tabulates the ballots in voting for the academy awards ?', 'manner how did the tradition of best man start ?', 'count how many years ago did the ship titanic sink ?', 'other what is the deepest area of the arctic ocean ?', \"color what are halloween 's colors ?\", 'manner how is silk screening done ?', 'other what is the latitude and longitude of el paso , texas ?', 'ind who made a boat out of gopher wood ?', \"other where can i find a `` fifth element '' screensaver ?\", 'ind which bloom county resident wreaks havoc with a computer ?', 'manner how do you match a name to a social security number ?', 'manner how does a rainbow form ?', 'other what is the normal resting heart rate of a healthy adult ?', 'other what is the population of ohio ?', 'count how many calories are there in a big mac ?', 'def hazmat stands for what ?', \"animal what creature scares people in the film `` jaws '' ?\", 'ind what part did john peter zenger play in the deveopment of the newspaper in america ?', 'ind who followed caesar ?', 'substance what are the four elements ?', 'ind who was the first woman golfer to earn a million ?', \"other what 's the tallest piece on a chessboard ?\", \"other what is answers.com 's address ?\", 'other where can i buy movies on videotape online ?', 'ind who does the advertizing for frito-lay ?', 'gr who is the leading competitor of trans union company ?', 'product what product did robert conrad dare people to knock off his shoulder ?', 'ind who invented the radio ?', \"count what 's the american dollar equivalent for 8 pounds in the u.k. ?\", 'techmeth what are the different approaches of systems analysis ?', 'manner how do doctors diagnose bone cancer ?', 'ind who is the man behind the pig-the man who pulls the strings and speaks for miss piggy ?', 'speed what is the speed of the mississippi river ?', 'other what are the developmental stages of a swimmer ?', 'ind what actor first portrayed james bond ?', 'other what ocean is the largest in the world ?', 'ind who was the first american poet to win the nobel prize for literature , in 1948 ?', 'date what year did jack nicklaus join the professional golfers association tour ?', 'count how many sonnets did shakespeare write ?', 'reason what causes the redness in your cheeks when you blush ?', 'ind who won the nobel peace prize in 1991 ?', 'gr who are the challengers of the unknown ?', 'def define the pheonix club ?', 'city which city did christian crusaders fight to recapture from the muslims ?', \"def what does it mean `` rupee depreciates '' ?\", \"other what gaming devices were dubbed `` mississippi marbles '' and `` memphis dominoes '' ?\", 'ind who was the first coach of the cleveland browns ?', 'manner how successful is arometherapy ?', 'event what jewish holiday saw the start of the 1973 mideast war ?', 'manner how does a copier work ?', 'speed what is the speed of the mississippi river ?', 'ind who said of super bowl iii in 1969', \"animal what is dudley do-right 's horse 's name ?\", 'ind who declared', 'other where does chocolate come from ?', 'cremat what tv game show once saw a contestant admit to picking his toes in the shower ?', 'ind what soviet leader owned a rolls-royce ?', 'other where can i find a case on individuals with disabilities education act of 1991 ?', 'event what war did florence nightingale tend the troops in ?', \"ind who wrote the song , `` stardust '' ?\", \"count how many beatles ' records went #1 ?\", 'ind who is the only prime minister of canada to serve 22 years but not necessarily consecutively ?', \"abb what is the abbreviation of the company name ` general motors ' ?\", 'mount what mountains lie between the arkansas and missouri rivers ?', 'ind who received the will rogers award in 1989 ?', 'reason what is the function of ram ?', \"other what 's the closest g2 spectrum yellow dwarf to earth ?\", 'count how many equal angles are there in an isosceles triangle ?', 'dismed what is the fear of cockroaches called ?', \"cremat what cbs soap opera was interrupted by the bulletin of john f. kennedy 's assassination ?\", 'desc what is the use of a 24-hour clock instead of a 12-hour clock ?', 'ind what was the name of the lawyer who represented randy craft ?', 'ind what united states president had dreamed that he was assassinated ?', 'cremat what film did lee marvin win the 1965 best actor oscar for ?', 'other where is basque country located ?', \"product what product does `` mrs. olsen '' promote ?\", 'date what time of day did emperor hirohito die ?', 'def what is dry ice ?', \"other what 's the most powerful card in euchre ?\", \"def what does `` intractable plantar keratoma '' mean ?\", 'count how many years did it take james joyce to write ulysses ?', 'food what crop failure caused the irish famine ?', 'city what south korean city is served by kimpo international airport ?', \"count how many types of dogs ' tails are there - three\", 'cremat what is the longest-running television series ?', 'animal what predators exist on antarctica ?', 'desc what is the difference between a generator and an alternator ?', 'manner how is energy created ?', \"food what beer advertised that it had `` three rings '' ?\", 'other what is the quantity of american soldiers still unaccounted for from the vietnam war ?', 'techmeth what golfing accessory was patented by george grant on december 12', 'other what are the different types of plastic ?', \"manner how is it correct to say ` qigong ' ?\", 'mount what was the highest mountain on earth before mount everest was discovered ?', 'other where was the ligurian republic , 1797-185 , ?', \"country what country 's people are the top television watchers ?\", \"date when was the women 's suffrage amendment ratified ?\", 'gr what polynesian people inhabit new zealand ?', 'cremat what movie tour of the roman empire features the admonition', 'city what nevada center has been dubbed the biggest little city in the world ?', 'ind what president lived at 219 north delaware street , independence , missouri ?', 'reason give a reason for american indians oftentimes dropping out of school .', 'other where must a soccer goalie stand to be permitted to handle the ball ?', 'desc what is the difference between classical conditioning and operant conditioning ?', 'state in what u.s. state was the first woman governor elected ?', 'desc what are some interesting facts and information about dogsledding ?', 'date what year did hitler die ?', 'ind what famous model was married to billy joel ?', 'animal what kind of animal is babar ?', 'reason what is jane goodall known for ?', 'other what killed bob marley ?', \"money how much money are dumbo 's ears insured for ?\", \"ind who danced into stardom with fred astaire in 1941 's you 'll never get rich ?\", 'desc who is stein eriksen ?', 'def what does the name billie mean ?', 'ind who is the fastest swimmer in the world ?', 'mount what is the highest peak in africa ?', 'other where is procter & gamble headquartered in the u.s. ?', 'other what desert has been called the garden of allah ?', 'other what do bicornate animals have two of ?', \"reason what function does a community 's water tower serve ?\", 'dismed what is a fear of weakness ?', 'count how many miles is it to ohio from north carolina ?', 'count how much snow equals an inch of rain ?', 'exp what does g.m.t. stand for ?', 'def what does inuit and eskimo mean ?', 'cremat what song served as the closing theme of the johnny cash show ?', 'sport what field sport did dentist william beers promote and write a standard book of rules for ?', 'manner how do i tie dye clothes ?', 'date when does the average teenager first have intercourse ?', \"reason why doesn 't www.answers.com have any answers to my questions ?\", \"ind what actor 's autobiography is titled all my yesterdays ?\", 'ind what russian master spy lived in the u.s. under the name emil goldfus ?', \"other where 's the 19th hole on a golf course ?\", \"reason what 's nature 's purpose for tornadoes ?\", \"ind who played the original charlie 's angels ?\", \"other where can i find a person 's address from a telephone number ?\", 'word what english word comes from the old french covrefeu , meaning cover fire ?', \"instru what musical instrument did prewitt play in james jones 's from here to eternity ?\", 'other where did sarge steel get his metal hand ?', 'reason what makes popcorn pop ?', 'ind who wrote the night of the iguana ?', 'body where does your hair grow the fastest ?', 'country what country did king gustav v reign over from 197 to 195 ?', 'ind who painted mother and child ?', 'speed what is the speed of the mississippi river ?', 'other in what area of the world was the six day war fought ?', 'other what is the brightest star visible from earth ?', \"cremat what film marked robert redford 's directorial debut ?\", \"ind what was mao 's second name ?\", 'cremat what film or films has jude law appeared in ?', 'other where do hyenas live ?', \"desc who is the `` queen mother '' ?\", \"lang what 's the most commonly-spoken language in belgium ?\", 'ind who has more dna - a man or a woman ?', 'def what are maid-rites ?', \"cremat what children 's tale contains the line\", 'gr what level of government or governmental agency is responsible for dealing with racism ?', 'count how many referees work a soccer game ?', 'food what cocktail do you concoct with whisky and sweet vermouth ?', \"termeq how do you say `` fresh '' in spanish ?\", 'desc what do bee hives do in cranberry bogs ?', 'reason what caused the lynmouth floods ?', 'date when is the tulip festival in michigan ?', 'ind who came up with the name , el nino ?', 'cremat what movie did madilyn kahn star in with gene wilder ?', 'other what type of bridge is the golden gate bridge ?', \"ind what dictator has the nickname `` el maximo '' ?\", \"gr what stereo manufacturer is `` slightly ahead of its time '' ?\", 'city what u.s. city is the queen of the pacific ?', 'ind what tv sitcom character had the maiden name ethel potter ?', 'food what was the first lifesaver flavor ?', 'ind who kept the most famous diary in the english language ?', 'other where can i find out the top 1 singles ?', 'count how many degrees cooler is the inside of a cucumber than the air outside ?', 'ind what spanish artist painted crucifixion ?', 'cremat what is the jewish bible called ?', 'reason why is the grass green ?', 'def what is a firewall ?', 'ind what spy novelist served as moscow correspondent for reuter and the times of london ?', \"gr which oil company almost picked a word that meant `` stalled car '' in japanese as its new international name ?\", \"period how long does it take for spider-man 's web to evaporate ?\", \"ind who was randy steven craft 's lawyer ?\", 'other what was known as the spice island ?', 'ind who was the first host of person to person ?', 'ind name the ranger who was always after yogi bear .', 'other what deck of cards includes the wheel of fortune , the lovers , and death ?', 'other what does the statue of liberty wear on her feet ?', 'ind who is the superstar in rent-a-cars ?', 'city mccarren airport is located in what city ?', 'other what household facility contains a float ball , ballcock , and overflow tube ?', \"animal what was the name of betty boop 's dog ?\", \"perc what fraction of a beaver 's life is spent swimming ?\", 'substance what was the bridge of san luis rey made of ?', 'desc what do economists do ?', 'country what country has the largest sheep population ?', 'desc what do i need to do to take my dog with me to live in dominica , west indies for a year ?', \"country what country is the world 's largest importer of cognac ?\", 'count how many years is johnnie walker black label aged ?', 'exp what does sids stand for ?', \"other what is grenada 's main commodity export ?\", 'money how much would a black-and-white 1-cent stamp be worth , thomas jefferson on it , ?', 'reason what makes a clitoris sensitive ?', 'country what country has the most time zones , with 11 ?', \"other what `` magic '' does mandrake employ ?\", 'ind who is the president of stanford university ?', 'ind whose first presidential order was', 'other what was introduced commercially by bayer a.g. of leverkusen , in 1899 ?', 'city what city is logan airport in ?', 'def what is a nanometer ?', 'count how many innings are there in a regulation softball game ?', 'date when did cnn go on the air ?', 'city what is the largest city on the great lakes ?', 'code what is the telephone number for the university of kentucky ?', 'ind who invented baseball ?', 'count how many wives did brigham young have ?', 'product what product on the market is good for hiding facial scars ?', 'dist how long is the coney island boardwalk ?', 'city what city gained renown for its pea-soup fogs ?', \"def what does `` janelle '' mean ?\", \"manner how do i get another city 's newspaper ?\", 'cremat name a movie about the sioux indians starring kevin costner .', 'ind who was shot in the back during a poker game in deadwood , the dakota territory ?', 'desc what are the distinct physical characterstics of the arabian horse ?', 'dismed what is a fear of thunder ?', 'animal what animal has killed the most people ?', 'count how many colleges are in wyoming ?', \"city what russian seaport has a name meaning `` lord of the east '' ?\", 'other where can stocks be traded on-line ?', 'date when was the battle of hastings ?', 'other what kind of file has the extension .dbf ?', 'date when did muhammad live ?', 'termeq what then-derogatory term was applied to the painters monet , sisley , pissarro , renoir and degas ?', 'def what is a wop ?', 'desc where do rocks come from ?', 'manner how do i stop background noise in a car stereo ?', 'mount where do people mountain climb in nepal ?', 'gr what is the best college in the country ?', 'def what is viscosity ?', 'cremat what was the name of the sitcom that alyssa milano starred in with tony danza ?', 'country what are the nordic nations ?', 'other where on the internet can i get information about the fifth amendment on the american bill of rights ?', 'state what u.s. state borders illinois to the north ?', 'cremat name a film in which jude law acted .', 'temp what is the temperature for baking peachy oat muffins ?', 'dismed what is a fear of bees ?', 'cremat what vladimir nabokov novel features professor humbert in love with a 12-year-old girl ?', 'def what is a green bog ?', 'other where did the myth of santa claus originate ?', 'other what does a chairbound basophobic fear ?', 'city what city is served by logan international airport ?', \"ind what wrestling star became `` the incredible hulk '' ?\", 'other what attracts tourists to reims ?', 'sport what game do steve mcqueen and edward g. robinson play in the cincinnati kid ?', 'other what fastener did whitcomb judson patent in 1893 ?', \"def what 's an auberge in france ?\", 'ind who was the star of the 1965 broadway hit golden boy ?', 'other where is procter & gamble based in the u.s. ?', 'gr what army was founded by william booth and his wife catherine ?', 'substance what does ribavirin consist of ?', \"food name the soft drink that is `` number one in the sun . ''\", 'other what is the web address of the list of e-mail addresses of members of the house of representatives ?', 'ind what was her real name ?', 'reason why are the ears your center of balance ?', 'ind who invented the toothbrush ?', 'cremat what was the name of that popular song the creeps sang ?', 'other where is the abominable snowman said to wander ?', 'dismed what is a fear of being alone ?', \"count how many dots make up the symbol for `` because '' ?\", 'food what do you get by adding lactobacillus bulgaricus to milk ?', 'exp when reading classified ads , what does eenty', 'count how many hearts does an octopus have ?', 'plant what plant has the largest seed ?', 'country what was the only country you were allowed to drive into israel from in 1979 ?', \"other what 's approaching when a cyclist shouts\", \"ind what baseball star turned down a $1 , 000-a-year contract because he felt he had n't earned it ?\", 'sport what kind of sport is often associated with hooligans ?', 'ind what video game hero do some of his fans call chomper ?', 'count how many holes are there in a tenpin bowling ball ?', 'word what is the longest word in the english language ?', 'other in what city or state do the most gay men live in ?', \"ind what tv comediennes 's characters include former movie star nora desmond , secretary mrs. wiggins and a housewife named eunice ?\", \"animal what is `` the bear of beers '' ?\", 'other name the operating system that runs on ibm-compatible machines .', \"def what does the name `` justin '' mean ?\", 'perc what percentage of the body is muscle ?', 'color what color of dry wine should be served with veal roasts and chops ?', 'substance what is a golf ball made of ?', 'def what is the amish religion ?', 'money what does an average daycare provider get paid in new england ?', 'gr what was the name of the 187s irish terrorist group in pennsylvania mining areas ?', 'ind who played the ringo kid in the 1939 film stagecoach ?', 'ind who died 1 feet from where john f. kennedy did ?', \"def what is the `` coppertop '' battery ?\", 'symbol what sign is the water carrier the zodiacal symbol for ?', 'animal what animals do you find in the stock market ?', 'def what is color ?', 'date when is the site www.questions.com going to open ?', 'cremat what did shostakovich write for rostropovich ?', 'ind what first name was nipsy russell given at birth ?', 'manner how can i get some free technical information on electric vehicle ?', 'ind who is the youngest of the beatles ?', 'manner how did shipyard inspector james j. kilroy designate equipment as being satisfactory ?', 'def what is a jellicle cat ?', 'other where can i find the best free evidence for debate about russia ?', 'other what is bill gates of microsoft e-mail address ?', 'substance what is the second hardest substance ?', 'reason why did several san diego schools stop serving apples to students ?', 'city what russian city boasts the hermitage museum ?', 'date when is bastille day ?', 'reason what makes a tornado turn ?', 'count how many shots can a stock m16 hold ?', 'color what two colors are you blind to if you suffer from protanopia ?', \"reason why do n't you guys have some sort of contest where you ask a question and whoever finds the answers wins a prize ?\", 'desc who is coronado ?', 'cremat what was the name of the movie that starred sharon stone and arnold schwarzenegger ?', 'def what is artificial intelligence ?', 'food what do flatfish eat ?', 'ind who was the first holy roman emperor ?', 'other what can i use to remove the stubborn gummed labels from some diskettes ?', 'date what day of the week sees the most fatal car accidents ?', 'desc what is the origin of the word , magic ?', 'sport what sport do you shag flies in ?', 'def what is white chocolate ?', 'other where is trinidad ?', 'gr name the organization that is presided by a security council .', \"ind who graced the airwaves with such pearls as `` do ya lo-o-ove me ? get naked , baby ! '' ?\", 'food what kind of wine is spumante ?', 'ind who portrayed portly criminologist carl hyatt on checkmate ?', 'termeq how do you say i love you in spanish ?', 'def what does the name gina mean ?', 'product what is the most advanced handheld calculator in the world ?', 'speed how fast is light ?', 'termeq what is the belt of low pressure around the equator called ?', 'def what are shooting stars ?', 'gr whom did the chicago bulls beat in the 1993 championship ?', 'date when was the first american encyclopedia published ?', \"other what 's the tallest building in new york city ?\", \"manner how is easter sunday 's date determined ?\", 'desc what is the motto for the state of maryland ?', 'desc who is desmond tutu ?', 'other where can i find information on the narragansett indians and other tribes in rhode island ?', 'animal name a tiger that is extinct .', 'count how many quarters equal a pound ?', \"cremat what kind of books does fodor 's publish ?\", \"ind what are the first names of rowan and martin , the stars of tv 's laugh-in ?\", 'ord what chapter of the bible has the most verses ?', 'ind who is the worst us president ever ?', 'ind what asian leader was known as the little brown saint ?', 'abb what is the abbreviated expression for the national bureau of investigation ?', 'speed how fast does the fastest car go ?', 'mount what is the highest mountain in the world ?', 'other what arch can you see from the place de la concorde ?', \"ind who sings the song `` drink to me with thine eyes '' by ben johnson ?\", 'period how long should a person wash their hands before they are clean ?', 'other which way do you turn your bic to increase the flame - clockwise or counterclockwise ?', 'country which is the wealthiest country in the world ?', 'manner how can i find a phone number of someone if i only know their email address ?', 'manner how can you contact play producers and promoters on-line ?', 'ind who is the monarch of the united kingdom ?', 'dismed what is a fear of passing high objects ?', 'desc what do players try to do when the music stops in a game of musical chairs ?', 'ind what are the top ten most common girl names in the us ?', 'reason why is black the color of mourning in the west ?', 'other what is the rarest coin ?', 'cremat what judith rossner novel was made into a film starring diane keaton ?', \"country which country is australia 's largest export market ?\", 'other where is the kentucky horse park located ?', 'dismed what is a fear of parasites ?', 'sport in what olympic games did nadia comaneci become popular ?', 'ind who does data collection in tourism ?', 'ind what was the name of the daughter of the virginia chief powhatan that married john rolfe ?', 'state what is the leading pecan and peanut growing state ?', 'desc what does a nihilist believe in ?', 'desc what did richard feynman say upon hearing he would receive the nobel prize in physics ?', 'sport in what sport are these following numbers relevant', 'ind who were the four famous founders of united artists ?', 'cremat what 2 statues did france give to other countries ?', 'def what are amphibians ?', 'count how many sperm cells are in an average ejaculation ?', \"product name the disposable razor that `` costs about 19 cents . ''\", 'dist how far do you have to run if you hit a home run ?', 'ind who was the only u.s. president to wear a nazi uniform ?', 'gr woodrow wilson served as president of what university ?', 'other where are the tropical rain forest distributions ?', \"ind what 's the nickname of oddsmaker jimmy snyder ?\", 'dismed what is the fear of being loved ?', 'other what was the number of people that randy steven craft was convicted of killing ?', \"title what was queen victoria 's title regarding india ?\", 'manner how is a hydrogen bomb different from a nuclear bomb ?', 'dist how far can a man travel in outer space ?', 'other where was lincoln assassinated ?', 'food what type of food makes you fat ?', 'dismed what is the name of the chronic neurological autoimmune disease which attacks the protein sheath that surrounds nerve cells causing a gradual loss of movement in the body ?', 'count what was the u.s. highway death toll in 1969 ?', 'animal what kind of animals are dorsets , lincolns , oxfords and southdowns ?', 'cremat what are the shortest and the longest songs ever produced ?', 'letter what letter is to the right of k on a typewriter keyboard ?', \"desc what is the origin and the meaning of the name , `` hajo ? ''\", 'word what is the plural of gulf ?', 'ind whose autobiography is titled yes i can ?', 'date what year did the united states pass the copyright law ?', 'perc what percentage of americans own their homes ?', \"date what 's the first day of the week ?\", 'city what city was president william mckinley shot in ?', \"city what city has the world 's longest subway system ?\", 'ind who claimed he killed 4 , 280 buffalo as food for the crew building the kansas pacific railway ?', 'def what is bombay duck ?', 'count how many degrees cooler is the inside of a cucumber than the air outside ?', \"ind what double talking `` professor '' holds a doctorate in nothing ?\", 'city what are the five most expensive cities in the world ?', 'ind what 19th-century writer had a country estate on the hudson dubbed sunnyside ?', 'count how many layers of yellow paint is a faber mongol pencil lucky enough to be sprayed with ?', 'def what is a virtual ip address ?', 'ind what was the name of the cook on rawhide ?', 'other what county is chicago in ?', 'dist what is the wingspan of a condor ?', 'desc what facial feature typically contains about 55 hairs ?', 'ind who was named admiral of the ocean seas and viceroy and governor general of all the islands he might discover , and also granted 10-?? of all profits of his voyage .', 'manner how can i transport files from one computer to another ?', \"termeq what 's the literary term for a play on words ?\", 'color what color were their horses ?', 'money what does an average daycare provider get paid in new england ?', \"ind what author landed a 468-pound marlin without harness in the early 193 's ?\", 'count how many americans fought for the british in the american revolution ?', 'other what kind of education do i need to become a flight attendant ?', 'lang what are the two languages of malta ?', 'count how many oceans are there and name them ?', 'desc what happened during the blackhawk indian war of 1832 ?', 'count how many pairs of legs does a lobster have ?', 'def what does the latin ante mortem mean ?', 'def what does the name shawn mean ?', 'other where is the danube ?', 'ind what lawyer won the largest divorce settlement , $85 million , in u.s. history for sheika dena al-farri ?', 'animal what do you call a group of geese ?', 'ind who delivered his last newscast on march 6 , 1981 ?', \"count how many times has `` louie , louie '' been recorded ?\", 'manner how is answers.com different from knowpost.com ?', 'other what is the longest place name in the u.s. ?', 'perc what percent liked thatcher after she had been in power for a decade ?', 'other where does buzz aldrin want to build a permanent , manned space station ?', \"cremat what was mel gibson 's first movie ?\", 'reason why was the l.a. office of shea and gould closed ?', 'manner how do i start a bank ?', 'manner how do ouija boards work ?', 'animal what horse did zorro ride ?', 'manner how do you get a broken cork out of a bottle ?', 'other where can i find correct tabs for third eye blind songs ?', 'manner how do you determine heating requirements for your home ?', \"ind what former major-league left-handed baseball pitcher was known as `` space man '' ?\", \"product which hair care product told us `` hate that gray , wash it away '' ?\", 'reason why did the chicken cross the road ?', \"ind what was michelangelo 's last name ?\", 'desc who is barbara jordan ?', 'ind who was the democratic nominee in the american presidential election ?', \"cremat what was connecticut 's first constitution called ?\", 'event what historical event happened in dogtown in 1899 ?', 'def what is being done about the millennium bug ?', 'reason what was the claim to fame of king camp gillette ?', 'dismed what is the most common kind of skin cancer in the u.s. ?', 'def what is olestra ?', 'country what asian country has a bill of rights for cows ?', 'count how many fingers are used to draw a bow ?', 'plant what are two plants that clothes are made from ?', 'date when was hurricane hugo ?', 'food what is the most heavily caffeinated soft drink ?', 'ind what president-to-be was the first member of congress to enlist following the attack on pearl harbor ?', \"money what was the price of varian associates ' vacuum products division ?\", \"date when was `` the great depression '' ?\", 'lang what language is mostly spoken in brazil ?', 'gr what college produced the most winning super bowl quarterbacks ?', \"manner how do you solve `` rubik 's cube '' ?\", 'def what is prepared mustard ?', 'ind what classical spanish writer warned', \"def what does `` antidisestablishmentarianism '' mean ?\", \"ind what actor married john f. kennedy 's sister ?\", 'dismed what does a topophobic actor suffer from ?', 'ind who fired maria ybarra from her position in san diego council ?', 'period the italian artist , maurizio pellegrin , is how old ?', 'other what type of hunting are retrievers used for ?', 'reason what is colin powell best known for ?', 'ind who was the first black golfer to tee off in the masters ?', \"city what city is the setting for puccini 's opera la boheme ?\", 'ind what u.s. president showed a fondness for munching on bee pollen bars ?', 'def what is measured in curies ?', 'ind whose cover is that of an employee of universal import and export ?', \"ind what former president 's daughter has written a book titled murder in the white house ?\", \"ind what fictional character is known as the `` melancholy dane '' ?\", 'product italy is the largest producer of what ?', 'ind what longtime game show host dropped dead while jogging in central park in 1984 ?', \"def what is the meaning of w.b. yeat 's poem , `` the three hermits ? ''\", \"ind who were the `` filthiest people alive ? ''\", \"dismed what infectious disease is the world 's deadliest ?\", 'def what is spumante ?', 'date in what year did ireland elect its first woman president ?', 'def what is an isthmus ?', 'animal what was the name of the orca that died of a fungal infection ?', 'other where is mozambique located ?', \"animal what is mississippi 's state animal ?\", \"desc what 's the origin of the word ` news ' ?\", 'other what did dan aykroyd and john belushi quit saturday night live to become ?', 'count how many months does a normal human pregnancy last ?', 'manner how do fuel injectors work ?', \"manner how can your school march in the macy 's thanksgiving parade ?\", \"ind what is the real name of disc jockey `` wolfman jack '' ?\", 'veh what italian liner was hijacked in 1985 ?', 'city what city houses the u.s. headquarters of procter and gamble ?', \"product what soap was touted as being `` for people who like people '' ?\", 'money how much was the minimum wage in 1991 ?', 'exp what does nafta stand for ?', 'ind who invented silly putty ?', 'gr what new middle school was built in philadelphia , pennsylvania last year ?', 'ind who patented the first phonograph ?', 'techmeth what are some tips for building a fire in a fireplace ?', 'food what do manatees eat ?', 'termeq how do you say 2 in latin ?', 'cremat what were popular songs and types of songs in the 1920s ?', 'count how many vietnamese were there in the soviet union ?', \"other what is november 's birthstone ?\", 'def what is a certified nurse midwife ?', 'count on average , how many miles are there to the moon ?', 'ind who created private detective philip marlowe ?', 'cremat what boris pasternak book sold 5 , 0 copies to become the fiction best-seller of 1958 ?', \"desc what is the origin of the expression `` tout de suite '' ?\", 'word what is the longest english word ?', 'reason what is the purpose of a car bra ?', 'reason what is d.b. cooper known for ?', 'desc who is colin powell ?', 'animal what species is a colt ?', 'exp what is the full name of the plo ?', 'country what is the smallest country in africa ?', \"ind who coined the term nn cyberspace `` in his novel nn neuromancer '' ?\", 'event what age followed the bronze age ?', 'title what is her profession ?', 'ind what is the full name of the man who invented the multicolored game cube that has 42.3 quintillion potential combinations ?', 'exp what does the word laser mean ?', \"def what does the name `` anthony '' mean ?\", \"ind who was lauren bacall 's first husband ?\", 'def what is a rhomboideus minor ?', 'count how many hands does bjorn borg use when hitting his forehand ?', 'count how many people died on d-day ?', 'ind what u.s. congressman said', 'ind who created the character of scrooge ?', 'other what is the student population at the university of massachusetts in amherst ?', 'other where is windsor castle ?', 'date when did the dow first reach ?', 'reason why were people recruited for the vietnam war ?', 'gr what party was winston churchill a member of ?', \"gr what american league baseball team 's worst finish between 1926 and 1964 was fourth ?\", 'other where can i find the names of all the 15 pokemon ?', 'state what state does martha stewart live in ?', 'animal which killer whale died at sea world of a fungal infection ?', 'country what are the benelux countries ?', \"other where 's the petrified forest ?\", 'lang what is a language spoken by the sioux ?', 'other where is tornado alley ?', \"ind who was the author of `` john brown 's body '' ?\", 'ind what american poet wrote', 'state what state in the u.s. has the most blacks ?', 'reason why are electric cars less efficient in the northeast than in california ?', 'title what was the occupation of mandy rice-davies ?', 'city what is the city in which maurizio pellegrin lives called ?', 'ind who painted the sistine chapel ?', 'ind name the various costumed personas of dr. henry pym .', \"animal what breed of dog was the `` little rascals '' dog ?\", 'desc what are the living conditions in cuba ?', 'color what color are school buses ?', 'other what is the oldest website on the internet ?', 'event what events happened january 26 , 1978 ?', 'ind what explorers followed columbus to the americas ?', \"ind who is actress goldie hawn 's current actor boyfriend ?\", 'ind who banned peter rose from baseball for betting on games ?', 'def what are the seven virtues ?', \"termeq what other name were the `` little rascals '' known as ?\", 'date when was the san francisco fire ?', 'dismed what is a fear of food ?', 'count how many casinos are in atlantic city , nj ?', 'date what year did the vietnam war end ?', \"ind what are the names of richard nixon 's two daughters ?\", \"word what 's the word for broken glass or sharp rocks embedded in cement on top of a wall ?\", 'count what is the chromosome number of an elephant ?', 'gr what organization was founded by the rev. jerry falwell ?', \"other what 's the longest river in the world ?\", 'food which soft drink does madonna advertise for ?', 'gr what company is being bought by yahoo and how much is the deal worth ?', \"date when was berlin 's brandenburg gate erected ?\", 'count how many double-word-score spaces are there on a scrabble crossword game board ?', 'date what year did germany sign its nonaggression pact with the soviet union ?', 'mount what mountain range is traversed by the highest railroad in the world ?', \"reason why were the american soldiers in wwi called `` doughboys ''\", 'ind who was nicknamed the little corporal ?', 'count how many cds has garth brooks sold ?', 'veh name the vessel used by the atari force in the dc comics .', 'other where are the leading medical groups specializing in lung diseases ?', 'manner how can i find online spelling , and punctuation drills for my 6th grader ?', \"other what 's the sacred river of india ?\", \"country what is stefan edberg 's native country ?\", 'body what is the only gland in humans that can regenerate itself ?', 'count how many gutenberg bibles are there ?', 'country name the largest country in south america .', 'event what astronomical phenomenon takes place in jan. 1999 ?', 'desc what information can you get me on fairground park in st. louis', \"ind what was american folk hero john chapman 's nickname ?\", 'desc what is the difference between a median and a mean ?', 'cremat what was the top box office movie in april 1998 ?', 'reason what makes thunder ?', \"ind what author did photographer yousuf karsh call `` the shiest man i ever met '' ?\", 'other which is the largest clock , diameter wise , in europe ?', 'plant what plant is rum made from ?', 'country what country are godiva chocolates from ?', 'ind name the poet of the poem which begins', 'food which condiment was once sold as a patent medicine ?', 'state what u.s. state records the least rainfall ?', 'reason why did the world enter a global depression in 1929 ?', 'def what was archy , and mehitabel ?', \"city what texas city got its name from the spanish for `` yellow '' ?\", 'substance what are the chemicals used in glowsticks ?', 'country what country did the nile river originate in ?', 'color what color are tennis balls ?', 'ind what barroom judge called himself the law west of the pecos ?', 'desc what excuse did the nato people give for hitting the chinese embassy ?', 'ind who was president of costa rica in 1994 ?', 'sport what sports event is meyer wolfsheim supposed to have fixed in the great gatsby ?', 'country what country has the best defensive position in the board game diplomacy ?', 'country what two countries share the khyber pass ?', 'ind who was chairman of the senate select committee that tried to get to the bottom of watergate ?', 'desc what is the origin of the surname of braun ?', 'sport what card game has variations called canfield , klondike and spider ?', 'def what is australia day ?', \"animal what mammal of north america is the world 's longest-lived for its size ?\", 'def what was the chivington massacre ?', \"ind what actor starred in 1980 's blue lagoon , 1982 's the pirate movie and 1983 's a night in heaven ?\", 'count how many home runs did lou gehrig have during his career ?', 'city in what city is the headquarters of sinn fein ?', 'other where can i find information on george bush ?', 'ind who is the voice of miss piggy ?', 'termeq what is the dialogue circle in cartoons called ?', 'def what does the word camaro mean , from the gm car the camaro ?', 'ind who replaced bert parks as the host of the miss america pageant ?', \"count how many boys play the game in winslow homer 's 1872 painting snap the whip ?\", 'def what is the aim-54c phoenix ?', 'date when are sheep shorn ?', 'sport what sport is chris jogis a top player of ?', \"other what 's the second-largest island in the world ?\", 'def what is the definition of low island ?', 'date what century does captain video live in ?', 'other what types of water pollution are there ?', 'count how many astronauts manned each project mercury flight ?', 'food what soft drink would provide me with the biggest intake of caffeine ?', \"other what 's the name of a golf course in myrtle beach ?\", 'event what are some of the significant historical events of the 1990s ?', 'cremat name the only extant trilogy of classical greek plays .', 'other where is logan airport ?', 'desc what is the difference between neoclassical art and romanticism art ?', 'ind who was the first person inducted into the u.s. swimming hall of fame ?', 'ind what golfer has been called ohio fats and blobbo ?', 'ind who murdered leno and rosemary labianca on august 1', 'money what is the average cost for four years of medical school ?', 'other what does god create in the first sentence of the bible ?', 'ind which of the following men was not married to rita hayworth ?', 'money what is the current ticket fare from from cairo to barbados ?', 'exp what does nn o `` mean when used as a prefix in irish surnames ?', 'manner how do you find oxidation numbers ?', 'state what is the state nickname of mississippi ?', 'reason what is black hills , south dakota most famous for ?', 'cremat what 1966 boob tube bomb took astronauts back to prehistoric times ?', 'count how many students attend the university of massachusetts ?', \"ind who said , `` i shall return . '' during world war two ?\", 'event what holidays are celebrated in ireland ?', 'ind who portrayed etta place , companion to butch cassidey and the sundance kid ?', 'def what are the greek numerals ?', \"other what 's the name of the temple that is located near the capital city of laos ?\", 'dismed what is a fear of sleep ?', 'sport what auto race was wilbur reed the first to win three times ?', 'animal what are the most common breeding birds in the u.s. ?', \"event what was organized as a confederate veterans ' social club in pulaski , in tennessee , in 1866 ?\", 'manner how do you look up criminal records on the internet ?', 'other where is the actress , marion davies , buried ?', 'desc what is an example of an actual case of using the fourteenth amendment ?', 'ind who was the charlie perfume woman ?', \"ind who portrayed `` rosanne rosanna-dana '' on the television show `` saturday night live '' ?\", 'ind what singer became despondent over the death of freddie prinze , quit show business , and then quit the business ?', 'date when did iraqi troops invade kuwait ?', 'termeq what was mark johnson referring to when he said', \"product what car was driven in the 199 release of `` smokey and the bandit '' ?\", 'gr what was the backup singing group for roy rogers ?', 'ind what famous singing cowboy owns the california angels baseball team ?', 'cremat what 1915 film was the first to gross $5 million ?', \"desc where did the term `` 86 '' come from ?\", 'reason what causes someone to be ticklish ?', 'perc what is the probability that at least 2 out of 25 people will have the same birthday ?', 'count how many canadians emmigrate each year ?', 'reason why did several san diego schools remove apples from students menus ?', 'instru what musical instrument did sherlock holmes play ?', \"ind who was gerald ford 's vice president ?\", \"def what is `` the washed vodka '' ?\", 'count how many different languages are spoken in europe ?', 'date what year was desmond mpilo tutu awarded the nobel peace prize ?', \"termeq what 's a `` drinker respirator '' better known as ?\", 'ind who invented batteries ?', 'reason why do recipe books recommend starting with cold water when you boil something ?', 'other where can i buy a good snowboard for less than $200 ?', 'title what title did suzette charles assume for two months in 1984 ?', 'ind what was the infamous pseudonym of peter sutcliffe ?', \"animal what is smokey the bear 's middle name ?\", \"title what is nicholas cage 's occupation ?\", 'cremat what british tv series featured emma peel ?', 'other what london street is the home of british journalism ?', 'event what tragedy befell the city of dogtown in 1899 ?', 'def what is the immaculate conception ?', 'veh what are the names of all the u.s. navy aircraft carriers ?', \"other what format was vhs 's main competition ?\", 'def what is candlemas day ?', \"city in what city is the famed st. mark 's square ?\", \"termeq what does the ouarterly review of doublespeak call an `` inoperative statement '' ?\", 'money how much did the minimum wage amount to in 1991 ?', 'other where is tufts university ?', 'def what is a pyrotechnic display ?', 'manner how do i find out about jobs ?', 'gr what japanese manufacturer is known for both its pianos and its motorcycles ?', 'other what is the chemical reactivity of argon ?', 'count how many engines does a boeing 737 have ?', \"desc what is the origin of the term `` the brooklyn side '' in bowling ?\", 'dismed what is a fear of being cold ?', \"dist how long was mao 's 1930s long march ?\", \"sport what net game sees its women 's world amateur champions receive the uber cup ?\", \"animal what four-legged creature did a cornell university study say would make man 's best companion in space ?\", 'weight what does a teaspoon of matter weigh in a black hole ?', 'other what did british companies stick 175 , 0 tons of tea into in 1982 ?', 'state what province is edmonton located in ?', 'manner how can i find out how much income tax is paid on social security income on the 1998 income tax ?', 'ind who did sonny liston succeed as world heavyweight boxing champion ?', \"animal what is california 's state bird ?\", \"date what is martin luther king jr. 's real birthday ?\", 'gr name the various super-teams to which the angel has belonged .', 'manner how does zatanna perform her magic in dc comics ?', \"veh what 's the name of jacques cousteau 's research ship ?\", 'ind what president dispatched a cruiser to carry charles lindbergh home after his epic flight ?', 'ind whose video is titled shape up with arnold ?', 'cremat in which kevin costner movie did sioux indians play a role ?', 'count how many james bond novels are there ?', \"manner how do you get dates with the `` hooters '' girls ?\", \"animal what bird can swim but can 't fly ?\", 'manner how can i get a comic character i made copyrighted and published ?', \"volsize how large is the arctic refuge to preserve unique wildlife and wilderness value on alaska 's north coast ?\", 'def what is plc ?', 'count how much electricity does the brain need to work ?', 'count how many acres in a mile ?', \"cremat what dickens novel has david carrying the message `` barkis is willin '' to peggy ?\", 'def what is a hyperlink ?', \"ind who 's the twin brother of the greek goddess artemis ?\", 'desc where did marijuana come from ?', 'money what is the per-capita income of colombia , south america , ?', 'cremat what novel has big brother watching ?', 'count how many grammys did michael jackson win in 1983 ?', 'def what does elysium mean ?', 'other what is the oldest website on the internet ?', 'def what is shalom ?', \"sport what was the favorite sport of tom wolfe 's the pump house gang ?\", \"substance what organic fuel do bog-dwellers use a `` slane '' to cut ?\", 'period what is the average age of a member of the team that worked on the manhatten project ?', 'country what country received all the nobel prizes awarded in 1976 ?', 'manner how do you get rid on woodpeckers ?', 'count how many syllables are there in a line of hendecasyllabic poetry ?', 'food what soft drink first appeared in the old corner drug store in waco , texas , in 1885 ?', \"other what is britain 's possession on the chinese mainland ?\", \"ind who was america 's first public enemy no. 1 ?\", 'count how many children under 18 are victims of some sort of physical abuse each year ?', 'desc what is the origin of thank you notes ?', 'other what did jimmy stewart invent ?', 'other what generation am i in ?', 'dismed what is a fear of hell ?', 'desc who is dear abby ?', 'ind who lives at 24 sussex drive , ottawa ?', 'substance what is jell-o made from ?', 'desc who was monet ?', 'state what are the only two states that incorporate the confederate battle flag in their flags ?', 'manner how do you make panoramic sugar eggs for easter - the ones with the scene inside ?', \"food what 's the southern dish made of pigs ' small intestines ?\", 'other where is guam ?', 'ind who was the famous door-to-door brush salesman ?', 'def what is the executor in a will ?', 'gr what inescapable purveyor of background music celebrated its 5th anniversary in july , 1984 ?', 'count how many people in america snore ?', 'ind who is always trying to get the rent from andy capp ?', 'food what soft drink is most heavily caffeinated ?', 'ind who did jackie kennedy commission to write the death of a president ?', 'dismed which drug is commonly used to treat aids ?', \"count how many stars are there on the soviet union 's flag ?\", 'desc what is the difference between microprocessors & microcontrollers ?', 'ind who sought to create the great society ?', 'other what are tourist attractions in reims ?', 'dist what are the lengths of pearl necklaces ?', 'ind who said', 'desc what is the proof that houseplants metabolize carcinogens ?', \"reason what prompted the co-pilot of the enola gay to enter only `` my god '' in his log ?\", 'period how long does it take the typical hen to lay 19 dozen eggs ?', 'city what colorado city owns its own glacier ?', \"desc what is the history of `` the toast '' ?\", 'event what was the name of the protestant revolt against the supremacy of the pope ?', 'def what is an arab strap ?', 'money how much does it cost , average or whatever is available , to produce and send junk mail catalogues in the us ? , dt cd nn nn ,', 'ind who is the current un secretary general ?', 'gr who provides telephone service in orange county , california ?', 'other where did guinea pigs originate ?', \"country what two countries ' coastlines border the bay of biscay ?\", 'reason why did egyptians shave their eyebrows ?', 'gr what organization did mr. waverly assign agents for ?', 'date when was the slinky invented ?', \"ind what are the characters ' names in the scooby-doo cartoon ?\", 'dismed what is a fear of cold ?', \"title what was eduard shevardnadze 's job in the soviet union ?\", 'reason what causes rust ?', 'ind which is the only dick tracy villain to appear three times ?', \"animal what was the monster in spielberg 's film `` jaws '' ?\", 'color what color is an arctic fox in winter ?', 'def what do the names neil , mary , and anthony mean ?', 'city what european capital celebrated its 2 , 000th anniversary in 1951 ?', \"reason why do people in the upper peninsula of michagin say `` eh ? '' ?\", 'plant what flower did vincent van gogh paint ?', 'country what country was the setting of you only live twice ?', \"perc what was thatcher 's approval rating after 10 years in power ?\", 'animal winnie the pooh is what kind of animal ?', \"desc what was the first funk 'n lata , brazilian group , success ?\", 'def what is a handheld pc ?', 'desc what did john hinckley do to impress jodie foster ?', \"title what is larry king 's job ?\", 'count how many calories are in a tomato ?', 'state in what state was the first co-educational college established', 'event what war saw a naval battle between the luxury liners cap trafalgar and the carmania ?', 'techmeth what is the treatment for depression ?', 'dismed what is a fear of slime ?', 'country what country in latin america is the largest one ?', 'other on which hawaiian island is pearl harbor ?', 'ind what feathered cartoon characters do yugoslavians know as vlaja , gaja , and raja ?', 'cremat what marx brothers movie centers on a stolen painting ?', \"desc what was unusual about alexandra 's appearance in josie and the pussycats ?\", \"desc what is the origin of the word `` mind '' ?\", 'date when was dick clark born ?', 'sport what game is fatal to anybody over 21 ?', 'other what is the death toll of people dying from tuberculosis ?', 'desc what happened to moon maiden ?', 'city what city is wiener schnitzel named for ?', 'def what are the urals ?', 'manner how can you stop the itch from poison ivy ?', 'other what desert has the highest sand dunes ?', 'country what two countries contain sierra nevada mountains ?', 'manner how do you tell your parents you are dating an older man ?', \"period how long was the tv mission of star trek 's enterprise to be ?\", 'code what phone number can i call to have a tree planted ?', \"date when did the `` star-spangled banner '' become the national anthem ?\", 'desc who was lacan ?', 'techmeth what are the four natural aids used in riding a horse ?', \"other what continent 's name appears on the upper left corner of a budweiser label ?\", 'ind who was the secretary of war in the civil war during the battle of gettysburg ?', 'ind who did bobby fischer beat to win the world chess championship ?', 'manner how do you exterminate bees that are in the walls of your home ? will bee eggs remain over winter ?', 'other where can i get information and statistics on countries and nations ?', 'lang name a gaelic language .', 'date what day is august 13 , 1971 ?', 'other where can i find a list of all the companies in america that offer a direct stock purchase plan ?', 'manner how do you send a movie transcript to hollywood so that it can be produced into a film ?', 'cremat what literary classic centers on the search for a treasure in gold worth 7 , 0 pounds ?', 'desc what is the origin of blue for boys and pink for girls ?', 'cremat what is the name of the michelangelo painting that shows two hands with fingers touching ?', 'volsize how big is a quart ?', 'def what is the hub of london ?', 'cremat jude law acted in which film ?', 'reason what causes panic attacks ?', 'def what was the filling in the first golf balls ?', 'dismed what drug did sigmund freud become fascinated with while experimenting with the treatment of neurasthenia ?', 'country what country was a terrible beauty to leon uris ?', 'def what is typhoid fever ?', 'other where can i buy a hat like the kind jay kay from jamiroquai wears ?', 'def what are the twin cities ?', \"cremat what is beethoven 's 9th symphony called ?\", 'ind name the lawyer for randy craft .', \"food which breakfast cereal brought you `` the best each morning '' ?\", 'exp what does ms. , miss , and mrs. stand for ?', 'other what is the homelite inc. home page ?', 'substance what explosive do you get by mixing charcoal , sulfur and saltpeter ?', 'other what mountainous region of the world is the lhasa apso dog native to ?', 'dismed what cancer is commonly associated with aids ?', 'period how long does it take light to reach the earth from the sun ?', 'ind who lives at 39 stone canyon way ?', 'count how many questions are on this thing ?', 'ind who played humpty dumpty in the 1933 film alice in wonderland ?', \"ind who is karenna gore , al gore 's oldest daughter , married to ?\", 'ind who played the title role in i was a teenage werewolf ?', 'reason why are there olives in martinis ?', 'date in what year did hitler gain power of germany ?', \"date what year did rossetti paint `` beata beatrix '' ?\", 'gr what record company produced the 1978 movie the wiz ?', 'other where can i find information about touring the philippines ?', 'other what did the gas house gang play ?', \"count how many square feet is bill gates ' home ?\", \"ind what is the name of actor rex harrison 's son , who starred in a modestly popular tv show during the late 1960's ?\", 'def what is the highest roman numeral ?', \"other what 's the most popular form of bridge ?\", 'ind who was the inventor of the stove ?', 'ind what comedian has a legendary reputation for stealing jokes ?', 'other where can i find information on the cyclone that hit new jersey on 8/28/1941 ?', 'date boxing day is celebrated on what date ?', 'cremat what are the first ten amendements passed ?', 'dismed what is another term for the painful wrist syndrome ?', \"desc what 's the difference between sleet and freezing rain ?\", 'manner how is the new ford econoline van f25 v1 engine ?', 'ind who was the king who was forced to agree to the magna carta ?', 'ind who was made the first honorary citizen of the u.s. ?', 'sport what game is garry kasparov really good at ?', 'other where was richard nixon when gerald ford became president ?', 'ord where does the u.s. rank among world countries in area ?', 'cremat what novel did ian fleming introduce james bond in ?', 'perc what was the target rate for m3 growth in 1992 ?', \"gr what baseball team was routinely called `` dem bums '' by its frustrated fans ?\", 'ind name of scholar on whose literal translations from the chinese and japanese ezra pound depended ?', 'date when did israel begin turning the gaza strip and jericho over to the plo ?', 'desc what are the major differences in the catholic and methodist religions ?', 'ind name the on stage character whose face was never seen .', 'count how much energy is released when oxygen and hydrogen mix ?', 'gr what is the best internet business to go into ?', 'def what does venus retrograde mean ?', \"ind who is known as `` the world 's oldest teenager '' ?\", 'other what are the largest breweries in the world ?', 'def what does las vegas mean ?', \"def what does the word `` meta '' mean ?\", 'other what keeps clouds in the air ?', \"termeq what 's the term for any four-sided figure ?\", 'instru ray charles plays which instrument ?', 'country what country and western singer is known as the silver fox ?', 'other what building appropriately enough is depicted on the back of the 1-dollar bill ?', 'def what is graduate school ?', 'desc what is the difference between new york-style and chicago-style pizza ?', 'ind what baseball team owner and sailor is known as the mouth of the south ?', 'sport what type of betting is used in horse racing ?', 'product what kind of hat does bat masterson wear ?', 'ind who was with patricia hearst the night she was kidnaped ?', \"ind what is the viking prince 's first name ?\", 'exp what does the abbreviation cwt. ?', 'other in what deodorant commercial did tenants have adjoining medicine cabinets ?', 'other where is rider college located ?', \"ind what boxer 's life story is titled raging bull ?\", 'reason for what reason did some san diego schools stop serving apples ?', \"ind who advised listeners to `` see the u.s.a. in your chevrolet '' ?\", 'other where was the first restaurant ?', 'other where can i find full written draft of ctbt ?', 'count how many horses died during the civil war ?', 'count how much waste does an average dairy cow produce in a day ?', 'ind what nobel laureate was expelled from the philippines before the conference on east timor ?', 'ind what woman has carried the most multiple births , twins , triplets , etc. , ?', 'count how many minutes were there on the original ge college bowl clock ?', 'period what is the average time it takes for a male to ejaculate ?', 'other what is website of the international court of justice ?', 'other where are 8 of the 10 highest mountains in the world ?', 'other where can i look at a perpetual calendar ?', 'count how many astronauts have been on the moon ?', 'date in what year did the bounty mutiny happen ?', \"substance what is the only substance that gives food its `` taste '' when eaten ?\", 'manner how do you reference a website ?', 'def what is pandoro ?', \"exp what do the letters zip stand for in the phrase `` zip code '' ?\", \"ind which bourbon king was restored to the french throne during napoleon 's abdication ?\", 'city what is one of the cities that the university of minnesota is located in ?', \"desc what are the words to `` my way '' written by paul anka ?\", 'manner how do i install a tile floor ?', 'techmeth what is the quickest and easiest way to get nail polish out of clothes ?', 'reason why was the zipper invented ?', \"other what 's the no. 1 killer in industrialized countries ?\", 'animal name four famous cartoon cats .', 'ind what daughter of henry viii and anne boleyn became queen of england ?', \"manner how did ` stat ' come to be used as an expression for quickly ?\", \"gr what 's the most common nickname of u.s. college football teams ?\", \"desc what 's the distinction of u.s. supreme court justice thurgood marshall ?\", 'other what is the most useful site on the internet ?', \"mount what is the world 's highest peak ?\", 'def what was a mae west on a world war ii battleship ?', 'def define cosmology .', \"ind what comedienne upstaged dwight d. eisenhower 's first inauguration by giving birth to her first child ?\", 'def what are amicable numbers ?', 'date when were the olympic games in which nadia comaneci became popular played ?', 'other where is hearst castle , built by publisher william randolph hearst ?', \"city what 's the largest u.s. city on the great lakes ?\", 'ind who sang about desmond and molly jones ?', 'cremat what magazine gives us the cream , not the skim ?', \"techmeth what does the technique called `` cold fusion '' produce ?\", 'ind what costume designer decided that michael jackson should only wear one glove ?', 'other what meter did shakespeare use in writing', 'count how many rows of sprocket holes does a roll of 35-millimeter film have ?', 'count what is the goat population of the world ?', \"gr what company was the original sponsor of tv 's superman ?\", 'termeq what term does a czech use to describe a pole ?', 'other what sea separates naples and algiers ?', 'count how many lawyers are there in the state of new jersey ?', 'substance what are the most common elements in seawater ?', \"desc describe the finnish music personality salonen 's appearance .\", \"desc what is the origin of the ethnic category `` caucasian '' ?\", 'def what is a stratocaster ?', 'other what kind of science is cosmology ?', \"ind name the blind sculptress in love with the fantastic four 's thing .\", \"substance what 's the second-lightest element ?\", \"termeq what do you call a `` twirl '' in ballet ?\", 'product what is the brand name of daminozide ?', 'termeq what is the former name of zimbabwe ?', 'ind what national basketball association superstar told his story in giant steps ?', 'animal what animals did the amazing three masquerade as ?', 'manner how did the bikini bathing suite get its name ?', 'date when did fraze get his first patent for the pull-tab can ?', 'count how many games are played in a five-team round-robin tournament ?', 'ind who developed the first polio vaccine ?', 'ind who made the first gas engine ?', 'country what country claimed rubens , van dyck and bruegel as citizens ?', 'event what civil war was fought between 1936 and 1939 ?', 'count how many questions do you have on your database ?', 'manner how do clouds form ?', 'other where can i find examples of legal cases about the individuals with disabilities education act ?', 'ind what character did tex avery first create upon arriving at mgm ?', 'date when was the triangle shirtwaist fire ?', 'ind what asian spiritual and political leader was married at the age of 13 ?', 'other where is ocho rios ?', 'def what is the half-life of p-32 ?', 'other what ocean does mauritania border ?', 'reason why do pressure cookers save time in the kitchen ?', 'reason why are there 12 people on a jury in criminal cases ?', 'desc what do christian scientists believe in ?', 'event what world war i battle saw 6 , 0 troops killed in one day ?', 'country what country is kosovo a part of ?', 'city tell me what city the kentucky horse park is near ?', 'product what computer operating system is on the most computers ?', \"other what is bill gross 's email address ?\", 'desc what is the economic impact of unemployment on the economy ?', 'exp what do the letters d.c. stand for in washington , d.c. ?', 'animal what animals can live the longest without food ?', 'ind what english queen had seventeen children ?', 'other what is the approximate population of las vegas , n.m ?', 'money how much does the president get paid ?', 'ind what two baseball players make up the battery ?', \"letter what 's the largest letter in salvador dali 's signature ?\", 'termeq what does an irate car owner call iron oxide ?', \"perc of children between the ages of two and eleven , what percentage watch `` the simpsons '' ?\", \"state what 's the northernmost u.s. state apart from alaska ?\", 'other name an art gallery in new york .', 'ind who sells viagra ?', \"instru what musical instrument did prewitt play in james jones 's from here to eternity ?\", 'def what is the home rule act ?', 'other what building are british monarchs crowned in ?', 'def what are bellworts ?', 'desc who was darius ?', \"cremat what movie told of anna anderson 's claim to be a russian czar 's daughter ?\", 'ind who did dita beard work for ?', 'animal what kind of creature is a coot ?', 'gr name the university of which woodrow wilson was president .', 'country what country was first to use the airplane as a weapon of war , against the turks in libya ?', 'gr what university was woodrow wilson president of ?', 'dismed what is a fear of disease ?', 'food what kind of meat is fray bentos synonymous with ?', 'other what did mr. magoo flog on tv for general electric ?', 'desc what are the words to the canadian national anthem ?', 'termeq what is the name of the jewish alphabet ?', \"ind who served as inspiration for the schoolteacher portrayed by robin williams in `` dead poets society '' ?\", \"code what is columbia tristar 's phone number ?\", 'title name the five positions who are in the line of succession to the presidency .', 'ind which one of the original seven mercury program astronauts did not fly on any of the mercury flights ?', 'ind who is the best known villain of the 165 gunpowder plot ?', 'city what is the capital of burkina faso ?', 'other what continent is bolivia on ?', 'reason why was muhammad ali stripped of his title and barred from boxing in 1967 ?', 'ind who killed more people , hitler or stalin ?', 'reason what caused shea & gould to close their l.a. office ?', \"animal what 's the only mammal that can 't jump ?\", 'state what u.s. state has the most blondes ?', \"event what war saw battles at parrot 's beak and black virgin ?\", 'count what was the u.s. highway death toll in 1969 ?', 'def what does the name kelly mean ?', 'def what is a phalanx ?', 'ind what mustachioed comedian portrayed frankie in north to alaska ?', 'money what does each of the utilities cost in monopoly ?', 'ind what actor and world war ii airman had a $5 , 0 bounty put on his head by hermann goering ?', 'exp what does e.g. stand for ?', 'dismed what is the name of the medical condition in which a baby is born without a brain ?', 'manner how do storms form ?', 'desc who is nicolo paganini ?', 'city what city is often called the insurance capital of the world ?', \"animal what are the three animals in sheila burnford 's the incredible journey ?\", \"ind who portrayed dracula in hammer studios ' films ?\", 'other name one of the seven wonders of the ancient world .', 'date when were fish first believed to be found on earth ?', \"ind what president 's favorite biblical quotation was\", 'count how many elevators do you ride to reach the top floor of the empire state building ?', 'gr name the food company that traveled to soviet georgia to film a series of ads .', 'country what country was sir edmund hillary born in ?', \"animal what 's an infant seal called ?\", 'desc what was the proper laugh-in respones to', 'city what city was john f. kennedy nominated for president in ?', 'period how long does a dog sleep ?', 'cremat what 1963 joseph l. mankiewicz film cost $28 million ?', 'gr what japanese electronics company was named for a coastal city northeast of tokyo ?', 'money what can you be fined for having a dog on a beach ?', 'other where did the battle of the bulge take place ?', 'count how much will the california be in the year 2000 ?', \"ind what mystery writer penned `` ...the glory that was greece , and the grandeur that was rome '' ?\", 'state what state full of milk and honey was the destination in the grapes of wrath ?', 'other what is the tallest building in japan ?', \"other where is sinn fein 's headquarters ?\", \"food name li 'l abner 's favorite indian drink .\", \"event what are some important events of the 1830 's ?\", 'date the iraqis launched their attack on kuwait on what day ?', 'letter what letter adorns the flag of rwanda ?', 'other what did 8 , cd nns vbp to vb nnp pos nn .', 'def what is god ?', \"country what country 's northernmost city is darwin ?\", 'other what sound does olympia , washington , overlook ?', 'cremat what tv show chronicled the lives of katy holstrum and congressman glen morley ?', 'city what kentucky city calls itself the horse center of america ?', 'count how many penny-farthings are there on a trivial pursuit game board ?', \"substance what 's the most abundant element in the sun ?\", 'country what european country boasts the city of furth , found where the rivers rednitz and pegnitz converge ?', 'state what u.s. state is dixville notch in ?', 'other where was the cisalpine republic , 1797-185 , ?', 'other what is the largest shopping mall in the world ?', \"ind what is the protagonist 's name in dostoevski 's `` the idiot '' ?\", 'other what penalty space lies between baltic avenue and reading railroad on a monopoly board ?', 'ind what presidential press secretary dismissed watergate as a third-rate burglary attempt ?', 'def what is a meerkat ?', 'desc who was jean nicolet ?', 'animal what kind of animal was winnie the pooh ?', 'ind which of these are authors ?', \"word what 's the international radio code word for the letter b ?\", 'ind who was the original humpty dumpty ?', 'def what is cache memory ?', 'termeq aspartame is also known as what ?', 'other where is the location of the orange bowl ?', \"date when is president nixon 's birthday ?\", \"desc what is the origin of the midwest slang , ` you 're darn tootin ' ?\", 'ind whose cupboard was bare ?', 'other what are the seven seas ?', 'exp what does ibm stand for ?', 'desc what is the difference between jazz and blues ?', 'def what is the c programming language ?', \"ind what 's the name of popeye 's adopted son ?\", 'ind who invented the vacuum cleaner ?', \"def what is a ` borrow pit ' ?\", 'ind what 2th-century fictional character attends pencey prep school ?', 'count how many people in the usa say their number one source of information is the newspaper ?', \"ind who does shakespeare 's antonio borrow 3 , 0 ducats from ?\", \"country which country is known as `` big bear '' ?\", \"food what `` melts in your mouth , not in your hands '' .\", \"count how many times a day should you take a prescription marked `` q.i.d . '' ?\", 'desc what is the origin of the atom ?', 'ind who is the voyager project manager ?', 'gr which radio stations air the jim bohannon radio talk show ?', 'ind what two commanders directed the forces in the battle of el alamein ?', \"ind name the creator of `` the muppets '' .\", 'manner how do i e-mail someone at aol.com from yahoo.com ?', \"ind who replies `` i know '' to princess leia 's confession `` i love you '' in the empire strikes back ?\", 'def what is the meaning of the name ella ?', \"other what 's the home of the rockettes ?\", 'other where can i find all the information i need to know about the english civil war , 1642-1649 , ?', 'gr what is the name of the firm that makes spumante ?', 'sport what sport is played on the largest field ?', 'ind who won the 1967 academy award for best actor ?', 'other what is after death ?', 'ind name the first private citizen to fly in space .', \"ind what was football star elroy hirsch 's nickname ?\", \"ind what singer sings `` oh boy '' ?\", 'count how much pizza do americans eat in a day ?', 'other what is the website for the usa journal ?', \"gr what army 's motto is blood and fire ?\", 'other what kind of patent did ermal fraze get in 1963 ?', 'desc what are you hearing when you put a seashell to your ear ?', 'reason why are haunted houses popular ?', 'other which gender has bigger thighs ?', 'state what u.s. state has the second-longest coastline ?', \"state what state 's home to the buffalo bill historical center ?\", 'speed how fast do cheetahs run ?', \"other what is ray bradbury 's illustrated man illustrated with ?\", 'speed how fast is a 45mhz processor ?', 'other what kind of puzzle first appeared in the u.s. in the new york world on december 21 , 1913 ?', 'ind what count did alexandre dumas write about ?', 'perc what are the odds of giving birth to twins ?', 'other what is the largest natural lake in pennsylvania ?', 'dist how far is london uk from california ?', 'animal name the two mystical ravens odin has at his command .', 'animal what was the species of winnie the pooh ?', 'def what is the virus hiv ?', 'count how many years old is benny carter ?', 'cremat what hermann hesse book gave its name to a rock group ?', 'other where does the santa fe trail begin and end ?', 'cremat what book is the follow-up to future shock ?', 'animal what african animals are known as the big five ?', 'letter what is the alphabet for latin ?', 'dismed what is the fear of frogs ?', 'city which city in canada is the least-populated ?', 'period how old is stevie wonder ?', 'ind who was the first taiwanese president ?', \"ind who is luke skywalker 's father ?\", 'other what does a dipsomaniac crave ?', \"def what is the definition of the term `` weapons system '' ?\", \"desc what are christopher marlowe 's and shakespeare 's literary contributions to english literature ?\", \"food what is nero wolfe 's favorite drink during office hours ?\", 'gr what is the first personal computer company ?', 'techmeth what is the most efficient way to start a barbeque ?', 'desc who was jane goodall ?', 'reason why are there braille things on the atm machines that people drive through ?', 'other where is the isle of man ?', 'cremat what book did aaron hass write ?', 'other what was the death toll at the eruption of mount pinatubo ?', 'date when will the millennium officially begin ?', \"ind who created the comic strip , `` garfield '' ?\", 'ind which vietnamese terrorist is now a un delegate in doonesbury ?', 'def what is real time processing ?', 'other what do we call the imaginary line along the top of the rocky mountains ?', \"country what country 's capital is lagos ?\", \"other where does ray bradbury 's chronicles take place ?\", 'ind who is the current prime minister and president of russia ?', 'ind who established a viking colony in greenland about 985 ?', \"symbol what was the distinguishing mark on the `` little rascals '' dog ?\", 'other what is the latitude and longitude of el paso , texas ?', 'other where can i get information about cystic fibrosis ?', 'other where did honecker rule ?', 'def what is the theory of equivalence states ?', 'other what does a philatelist collect ?', 'period what is the life span of the average monkey ?', 'count how many member states are in the un ?', 'ind who shot and killed himself while painting wheatfield with crows ?', 'desc what will happen when sodium is put in water ?', \"def what 's the meaning of uol ?\", 'ind what future president became senate majority whip under harry truman ?', 'ind who was the architect of central park ?', 'product which operating system runs on ibm-compatible machines ?', 'dist what are the dimensions of an ice hockey goal ?', \"date when was cnn 's first broadcast ?\", 'symbol what are the signs of a country going into a recession ?', 'def what is the circumorbital hematoma ?', 'country what african country is governed from ouagadougou ?', 'ind what was the christian name of the title character in our miss brooks ?', 'ind what hard-of hearing artist painted sunflowers ?', \"gr who were the yankee 's frequent enemies ?\", 'ind who wrote sons and lovers ?', \"termeq what is the english translation for the word `` caliente '' ?\", 'techmeth what handicraft requires you to interlace your warp and weft ?', 'city what french seaport claims to be the home of wines ?', 'period how long does it take sunlight to reach earth ?', 'count how many milliseconds in a second ?', 'ind what cherokee indian gave his name to a tree ?', 'date when were camcorders introduced in malaysia ?', 'perc what is the chance of conceiving quadruplets ?', 'ind who was the star of leave it to beaver ?', 'country what countries have the largest armed forces in the world ?', \"ind what was william f. cody 's better-known name ?\", \"manner how do i increase my biceps ' size ?\", 'ind who did richard nixon tender his resignation to ?', 'desc who was thucydides ?', 'manner how is the element strontium purified ?', \"ind which of the following rock 'n roll stars has a `` star '' on hollywood boulevard ?\", 'reason what are tonsils for ?', 'substance what molecules include fluorine , sodium and magnesium ?', 'sport what was the name of the ball game played by the mayans ?', \"cremat what was the sequel to the moon 's balloon ?\", 'money what is the exchange rate for australian to american money ?', \"desc what is the origin of the word ` posh ' ?\", 'manner how can anyone tell if a female had sexual intercourse ?', 'count how many states did richard nixon carry in 1972 ?', 'techmeth what basketball maneuver did bert loomis invent ?', 'cremat what is a good book to read for people who hate to read ?', 'count how many shillings more than 2 were there in a guinea ?', 'food what does a tarantula eat ?', 'color what are the three secondary colors ?', \"def what does the name `` sabrina '' mean ?\", \"ind who took over as conductor of the boston pops after arthur fiedler 's long reign ?\", 'event what were the trials called which followed world war ii ?', 'def what is hebephrenia ?', 'ind what nazi leader killed himself in jail just before he was to be executed as a war criminal ?', 'event what famous events have happened on march 27 ?', \"gr which company claimed to be `` the world 's biggest toy store '' ?\", \"other what brand number graces the black label of a bottle of jack daniel 's ?\", 'termeq what do i call the sons and daughters of my first cousins ?', 'reason what were the causes of the civil war ?', 'def what are maid-rites ?', 'city what city is terrorized by dracula in the night stalker ?', 'manner how can you prevent it ?', 'def what do the names andrew and christina mean ?']\n",
      "(1600, 100)\n",
      "(400, 100)\n",
      "(1600,)\n"
     ]
    }
   ],
   "source": [
    "print(dm.train_str_questions)\n",
    "print(dm.train_numeral_data.shape)\n",
    "print(dm.valid_numeral_data.shape)\n",
    "print(dm.train_numeral_labels.shape)"
   ]
  },
  {
   "cell_type": "markdown",
   "metadata": {
    "id": "pVLw0nC9lx-G"
   },
   "source": [
    "You now have a data manager, named *dm* containing the training and validiation sets in both text and numeric forms. Your task is to play around and read this code to figure out the meanings of some important attributes that will be used in the next parts."
   ]
  },
  {
   "cell_type": "markdown",
   "metadata": {
    "id": "psIanXv3lx-G"
   },
   "source": [
    "## <span style=\"color:#0b486b\">Part 1: Using Word2Vect to transform texts to vectors </span>\n",
    "\n",
    "<div style=\"text-align: right\"><span style=\"color:red; font-weight:bold\">[Total marks for this part: 20 marks]<span></div>"
   ]
  },
  {
   "cell_type": "markdown",
   "metadata": {
    "id": "NJuqaDO_lx-H"
   },
   "source": [
    "In this part, you will be assessed on how to use a pretrained Word2Vect model for realizing a machine learning task. Basically, you will use this pretrained Word2Vect to transform the questions in the above dataset stored in the *data manager object dm* to numeric form for training a classifier using Logistic Regression (https://scikit-learn.org/stable/modules/generated/sklearn.linear_model.LogisticRegression.html)."
   ]
  },
  {
   "cell_type": "code",
   "execution_count": 4,
   "metadata": {
    "id": "lQ5ncz9Rlx-H"
   },
   "outputs": [],
   "source": [
    "import gensim.downloader as api\n",
    "from gensim.models import Word2Vec\n",
    "from sklearn.preprocessing import MinMaxScaler\n",
    "from sklearn.metrics import accuracy_score\n",
    "import numpy as np"
   ]
  },
  {
   "cell_type": "markdown",
   "metadata": {
    "id": "-IDPpqtOlx-H"
   },
   "source": [
    "#### <span style=\"color:red\">**Question 1.1**</span>\n",
    "**Write code to download the pretrained model *glove-wiki-gigaword-100*. Note that this model transforms a word in its dictionary to a $100$ dimensional vector.**\n",
    "\n",
    "**Write code for the function *get_word_vector(word, model)* used to transform a word to a vector using the pretrained Word2Vect model *model*. Note that for a word not in the vocabulary of our *word2vect*, you need to return a vector $0$ with 100 dimensions.**\n",
    "\n",
    "<div style=\"text-align: right\"><span style=\"color:red\">[2 marks]</span></div>"
   ]
  },
  {
   "cell_type": "code",
   "execution_count": 5,
   "metadata": {
    "colab": {
     "base_uri": "https://localhost:8080/"
    },
    "id": "fDAwh_Kilx-H",
    "outputId": "d8e92509-7dad-4348-bc5d-15d8d5378cd1"
   },
   "outputs": [
    {
     "name": "stdout",
     "output_type": "stream",
     "text": [
      "[==================================================] 100.0% 128.1/128.1MB downloaded\n"
     ]
    }
   ],
   "source": [
    "word2vect = api.load(\"glove-wiki-gigaword-100\")"
   ]
  },
  {
   "cell_type": "code",
   "execution_count": null,
   "metadata": {
    "colab": {
     "base_uri": "https://localhost:8080/"
    },
    "collapsed": true,
    "id": "orx4Sc0olx-H",
    "outputId": "0089e044-5422-4443-a21a-0397fd947f72"
   },
   "outputs": [
    {
     "data": {
      "text/plain": [
       "array([ 0.26688  ,  0.39632  ,  0.6169   , -0.77451  , -0.1039   ,\n",
       "        0.26697  ,  0.2788   ,  0.30992  ,  0.0054685, -0.085256 ,\n",
       "        0.73602  , -0.098432 ,  0.5479   , -0.030305 ,  0.33479  ,\n",
       "        0.14094  , -0.0070003,  0.32569  ,  0.22902  ,  0.46557  ,\n",
       "       -0.19531  ,  0.37491  , -0.7139   , -0.51775  ,  0.77039  ,\n",
       "        1.0881   , -0.66011  , -0.16234  ,  0.9119   ,  0.21046  ,\n",
       "        0.047494 ,  1.0019   ,  1.1133   ,  0.70094  , -0.08696  ,\n",
       "        0.47571  ,  0.1636   , -0.44469  ,  0.4469   , -0.93817  ,\n",
       "        0.013101 ,  0.085964 , -0.67456  ,  0.49662  , -0.037827 ,\n",
       "       -0.11038  , -0.28612  ,  0.074606 , -0.31527  , -0.093774 ,\n",
       "       -0.57069  ,  0.66865  ,  0.45307  , -0.34154  , -0.7166   ,\n",
       "       -0.75273  ,  0.075212 ,  0.57903  , -0.1191   , -0.11379  ,\n",
       "       -0.10026  ,  0.71341  , -1.1574   , -0.74026  ,  0.40452  ,\n",
       "        0.18023  ,  0.21449  ,  0.37638  ,  0.11239  , -0.53639  ,\n",
       "       -0.025092 ,  0.31886  , -0.25013  , -0.63283  , -0.011843 ,\n",
       "        1.377    ,  0.86013  ,  0.20476  , -0.36815  , -0.68874  ,\n",
       "        0.53512  , -0.46556  ,  0.27389  ,  0.4118   , -0.854    ,\n",
       "       -0.046288 ,  0.11304  , -0.27326  ,  0.15636  , -0.20334  ,\n",
       "        0.53586  ,  0.59784  ,  0.60469  ,  0.13735  ,  0.42232  ,\n",
       "       -0.61279  , -0.38486  ,  0.35842  , -0.48464  ,  0.30728  ],\n",
       "      dtype=float32)"
      ]
     },
     "execution_count": 15,
     "metadata": {},
     "output_type": "execute_result"
    }
   ],
   "source": [
    "word2vect.get_vector(\"hello\")"
   ]
  },
  {
   "cell_type": "code",
   "execution_count": null,
   "metadata": {
    "id": "HsOZV2n0lx-I"
   },
   "outputs": [],
   "source": [
    "def get_word_vector(word, model):\n",
    "    try:\n",
    "        vector = model.get_vector(word)\n",
    "    except: # word not in the vocabulary\n",
    "        vector = np.zeros(100)\n",
    "    return vector"
   ]
  },
  {
   "cell_type": "markdown",
   "metadata": {
    "id": "5w__uX38lx-I"
   },
   "source": [
    "#### <span style=\"color:red\">**Question 1.2**</span>\n",
    "\n",
    "**Write the code for the function `get_sentence_vector(sentence, important_score=None, model= None)`. Note that this function will transform a sentence to a 100-dimensional vector using the pretrained model *model*. In addition, the list *important_score* which has the same length as the *sentence* specifies the important scores of the words in the sentence. In your code, you first need to apply *softmax* function over *important_score* to obtain the important weight *important_weight* which forms a probability over the words of the sentence. Furthermore, the final vector of the sentence will be weighted sum of the individual vectors for words and the weights in *important_weight*.**\n",
    "- $important\\_weight = softmax(important\\_score)$.\n",
    "- $final\\_vector= important\\_weight[1]\\times v[1] + important\\_weight[2]\\times v[2] + ...+ important\\_weight[T]\\times v[T]$ where $T$ is the length of the sentence and $v[i]$ is the vector representation of the $i-th$  word in this sentence.\n",
    "\n",
    "**Note that if `important_score=None` is set by default, your function should return the average of all representation vectors corresponding to set `important_score=[1,1,...,1]`.**\n",
    "\n",
    "<div style=\"text-align: right\"><span style=\"color:red\">[2 marks]</span></div>"
   ]
  },
  {
   "cell_type": "code",
   "execution_count": null,
   "metadata": {
    "id": "eFpNfMlmlx-I"
   },
   "outputs": [],
   "source": [
    "def get_sentence_vector(sentence, important_score=None, model=None):\n",
    "    words = sentence.split() # break the sentence into words\n",
    "    word_embeddings = np.zeros((len(sentence), 100))  # num_words_in_a_sentence * embedding_size\n",
    "\n",
    "    # convert each word into its embedding\n",
    "    for j, word in enumerate(words):\n",
    "        word_embeddings[j, :] = get_word_vector(word, word2vect)\n",
    "\n",
    "    if important_score is None:\n",
    "        important_score = np.ones(len(word_embeddings))\n",
    "\n",
    "    important_weight = tf.nn.softmax(important_score).numpy()\n",
    "    sentence_normalized = word_embeddings*important_weight.reshape((-1, 1))\n",
    "    return np.sum(sentence_normalized, axis=0).flatten()"
   ]
  },
  {
   "cell_type": "markdown",
   "metadata": {
    "id": "K3ypftmYlx-I"
   },
   "source": [
    "#### <span style=\"color:red\">**Question 1.3**</span>\n",
    "\n",
    "**Write code to transform questions in *dm.train_str_questions* and *dm.valid_str_questions* to feature vectors. Note that after running the following cells, you must have $X\\_train$ and $X\\_valid$ which are two numpy arrays of the feature vectors and $y\\_train$ and $y\\_valid$ which are two arrays of numeric labels (Hint: *dm.train_numeral_labels* and *dm.valid_numeral_labels*). You can add more lines to the following cells if necessary. In addition, you should decide the *important_score* by yourself. For example, you might reckon that the 1st score is 1, the 2nd score is decayed by 0.9, the 3rd is decayed by 0.9, and so on.**\n",
    "\n",
    "<div style=\"text-align: right\"><span style=\"color:red\">[4 marks]</span></div>"
   ]
  },
  {
   "cell_type": "code",
   "execution_count": null,
   "metadata": {
    "id": "e08K4Q21lx-I"
   },
   "outputs": [],
   "source": [
    "def convert_sentences_to_embeddings(sentences):\n",
    "    num_sentences = len(sentences)\n",
    "    sentence_embeddings = np.zeros((num_sentences, 100))\n",
    "\n",
    "    for i, sentence in enumerate(sentences):\n",
    "        sentence_embedding = get_sentence_vector(sentence)\n",
    "        sentence_embeddings[i, :] = sentence_embedding\n",
    "    return sentence_embeddings"
   ]
  },
  {
   "cell_type": "code",
   "execution_count": null,
   "metadata": {
    "colab": {
     "base_uri": "https://localhost:8080/"
    },
    "id": "8wgnbxyAlx-I",
    "outputId": "b3f5c7bd-3689-4f03-9bf4-08e94627c578"
   },
   "outputs": [
    {
     "name": "stdout",
     "output_type": "stream",
     "text": [
      "Transform training set to feature vectors...\n"
     ]
    }
   ],
   "source": [
    "print(\"Transform training set to feature vectors...\")\n",
    "X_train = convert_sentences_to_embeddings(dm.train_str_questions)\n",
    "y_train = dm.train_numeral_labels"
   ]
  },
  {
   "cell_type": "code",
   "execution_count": null,
   "metadata": {
    "colab": {
     "base_uri": "https://localhost:8080/"
    },
    "id": "C3GW3Idflx-J",
    "outputId": "4e507a63-63c4-431b-fbd8-e707b5557b98",
    "scrolled": true
   },
   "outputs": [
    {
     "name": "stdout",
     "output_type": "stream",
     "text": [
      "Transform validation set to feature vectors...\n"
     ]
    }
   ],
   "source": [
    "print(\"Transform validation set to feature vectors...\")\n",
    "X_valid = convert_sentences_to_embeddings(dm.valid_str_questions)\n",
    "y_valid = dm.valid_numeral_labels"
   ]
  },
  {
   "cell_type": "markdown",
   "metadata": {
    "id": "48de6nXVlx-J"
   },
   "source": [
    "#### <span style=\"color:red\">**Question 1.4**</span>\n",
    "\n",
    "**It is now to use *MinMaxScaler(feature_range=(-1,1))* in scikit-learn to scale both training and validation sets to the range $(-1,1)$.**\n",
    "\n",
    "<div style=\"text-align: right\"><span style=\"color:red\">[2 marks]</span></div>"
   ]
  },
  {
   "cell_type": "code",
   "execution_count": null,
   "metadata": {
    "id": "GwyXvxnxlx-J"
   },
   "outputs": [],
   "source": [
    "scaler = MinMaxScaler(feature_range=(-1,1))\n",
    "scaler.fit(X_train)\n",
    "X_train = scaler.transform(X_train)\n",
    "scaler.fit(X_valid)\n",
    "X_valid = scaler.transform(X_valid)"
   ]
  },
  {
   "cell_type": "markdown",
   "metadata": {
    "id": "C9LT3_FZlx-J"
   },
   "source": [
    "#### <span style=\"color:red\">**Question 1.5**</span>\n",
    "**Train a Logistic Regression model on the training set and then evaluate on the validation set.**\n",
    "<div style=\"text-align: right\"><span style=\"color:red\">[2 marks]</span></div>"
   ]
  },
  {
   "cell_type": "code",
   "execution_count": null,
   "metadata": {
    "id": "f3KKTxO5lx-J"
   },
   "outputs": [],
   "source": [
    "from sklearn.linear_model import LogisticRegression\n",
    "from sklearn.metrics import accuracy_score, confusion_matrix"
   ]
  },
  {
   "cell_type": "code",
   "execution_count": null,
   "metadata": {
    "colab": {
     "base_uri": "https://localhost:8080/",
     "height": 214
    },
    "id": "SoqJwGE1lx-J",
    "outputId": "b62a3e41-da52-4325-a5d8-e9afa6ad5918"
   },
   "outputs": [
    {
     "name": "stderr",
     "output_type": "stream",
     "text": [
      "/usr/local/lib/python3.10/dist-packages/sklearn/linear_model/_logistic.py:458: ConvergenceWarning: lbfgs failed to converge (status=1):\n",
      "STOP: TOTAL NO. of ITERATIONS REACHED LIMIT.\n",
      "\n",
      "Increase the number of iterations (max_iter) or scale the data as shown in:\n",
      "    https://scikit-learn.org/stable/modules/preprocessing.html\n",
      "Please also refer to the documentation for alternative solver options:\n",
      "    https://scikit-learn.org/stable/modules/linear_model.html#logistic-regression\n",
      "  n_iter_i = _check_optimize_result(\n"
     ]
    },
    {
     "data": {
      "text/html": [
       "<style>#sk-container-id-1 {color: black;background-color: white;}#sk-container-id-1 pre{padding: 0;}#sk-container-id-1 div.sk-toggleable {background-color: white;}#sk-container-id-1 label.sk-toggleable__label {cursor: pointer;display: block;width: 100%;margin-bottom: 0;padding: 0.3em;box-sizing: border-box;text-align: center;}#sk-container-id-1 label.sk-toggleable__label-arrow:before {content: \"▸\";float: left;margin-right: 0.25em;color: #696969;}#sk-container-id-1 label.sk-toggleable__label-arrow:hover:before {color: black;}#sk-container-id-1 div.sk-estimator:hover label.sk-toggleable__label-arrow:before {color: black;}#sk-container-id-1 div.sk-toggleable__content {max-height: 0;max-width: 0;overflow: hidden;text-align: left;background-color: #f0f8ff;}#sk-container-id-1 div.sk-toggleable__content pre {margin: 0.2em;color: black;border-radius: 0.25em;background-color: #f0f8ff;}#sk-container-id-1 input.sk-toggleable__control:checked~div.sk-toggleable__content {max-height: 200px;max-width: 100%;overflow: auto;}#sk-container-id-1 input.sk-toggleable__control:checked~label.sk-toggleable__label-arrow:before {content: \"▾\";}#sk-container-id-1 div.sk-estimator input.sk-toggleable__control:checked~label.sk-toggleable__label {background-color: #d4ebff;}#sk-container-id-1 div.sk-label input.sk-toggleable__control:checked~label.sk-toggleable__label {background-color: #d4ebff;}#sk-container-id-1 input.sk-hidden--visually {border: 0;clip: rect(1px 1px 1px 1px);clip: rect(1px, 1px, 1px, 1px);height: 1px;margin: -1px;overflow: hidden;padding: 0;position: absolute;width: 1px;}#sk-container-id-1 div.sk-estimator {font-family: monospace;background-color: #f0f8ff;border: 1px dotted black;border-radius: 0.25em;box-sizing: border-box;margin-bottom: 0.5em;}#sk-container-id-1 div.sk-estimator:hover {background-color: #d4ebff;}#sk-container-id-1 div.sk-parallel-item::after {content: \"\";width: 100%;border-bottom: 1px solid gray;flex-grow: 1;}#sk-container-id-1 div.sk-label:hover label.sk-toggleable__label {background-color: #d4ebff;}#sk-container-id-1 div.sk-serial::before {content: \"\";position: absolute;border-left: 1px solid gray;box-sizing: border-box;top: 0;bottom: 0;left: 50%;z-index: 0;}#sk-container-id-1 div.sk-serial {display: flex;flex-direction: column;align-items: center;background-color: white;padding-right: 0.2em;padding-left: 0.2em;position: relative;}#sk-container-id-1 div.sk-item {position: relative;z-index: 1;}#sk-container-id-1 div.sk-parallel {display: flex;align-items: stretch;justify-content: center;background-color: white;position: relative;}#sk-container-id-1 div.sk-item::before, #sk-container-id-1 div.sk-parallel-item::before {content: \"\";position: absolute;border-left: 1px solid gray;box-sizing: border-box;top: 0;bottom: 0;left: 50%;z-index: -1;}#sk-container-id-1 div.sk-parallel-item {display: flex;flex-direction: column;z-index: 1;position: relative;background-color: white;}#sk-container-id-1 div.sk-parallel-item:first-child::after {align-self: flex-end;width: 50%;}#sk-container-id-1 div.sk-parallel-item:last-child::after {align-self: flex-start;width: 50%;}#sk-container-id-1 div.sk-parallel-item:only-child::after {width: 0;}#sk-container-id-1 div.sk-dashed-wrapped {border: 1px dashed gray;margin: 0 0.4em 0.5em 0.4em;box-sizing: border-box;padding-bottom: 0.4em;background-color: white;}#sk-container-id-1 div.sk-label label {font-family: monospace;font-weight: bold;display: inline-block;line-height: 1.2em;}#sk-container-id-1 div.sk-label-container {text-align: center;}#sk-container-id-1 div.sk-container {/* jupyter's `normalize.less` sets `[hidden] { display: none; }` but bootstrap.min.css set `[hidden] { display: none !important; }` so we also need the `!important` here to be able to override the default hidden behavior on the sphinx rendered scikit-learn.org. See: https://github.com/scikit-learn/scikit-learn/issues/21755 */display: inline-block !important;position: relative;}#sk-container-id-1 div.sk-text-repr-fallback {display: none;}</style><div id=\"sk-container-id-1\" class=\"sk-top-container\"><div class=\"sk-text-repr-fallback\"><pre>LogisticRegression()</pre><b>In a Jupyter environment, please rerun this cell to show the HTML representation or trust the notebook. <br />On GitHub, the HTML representation is unable to render, please try loading this page with nbviewer.org.</b></div><div class=\"sk-container\" hidden><div class=\"sk-item\"><div class=\"sk-estimator sk-toggleable\"><input class=\"sk-toggleable__control sk-hidden--visually\" id=\"sk-estimator-id-1\" type=\"checkbox\" checked><label for=\"sk-estimator-id-1\" class=\"sk-toggleable__label sk-toggleable__label-arrow\">LogisticRegression</label><div class=\"sk-toggleable__content\"><pre>LogisticRegression()</pre></div></div></div></div></div>"
      ],
      "text/plain": [
       "LogisticRegression()"
      ]
     },
     "execution_count": 18,
     "metadata": {},
     "output_type": "execute_result"
    }
   ],
   "source": [
    "# Insert your code for training here\n",
    "\n",
    "model = LogisticRegression()\n",
    "model.fit(X_train, y_train)"
   ]
  },
  {
   "cell_type": "code",
   "execution_count": null,
   "metadata": {
    "colab": {
     "base_uri": "https://localhost:8080/"
    },
    "id": "wjIMgQFPlx-J",
    "outputId": "8d73e305-d1b9-4ea1-e023-0586c0db58b2"
   },
   "outputs": [
    {
     "name": "stdout",
     "output_type": "stream",
     "text": [
      "accuracy\n",
      "0.775\n",
      "======\n",
      "[[ 3  3  0  0  0  0]\n",
      " [ 0 83  2  0  2  0]\n",
      " [ 1 21 66  0  6  5]\n",
      " [ 0  8 12 64  1  0]\n",
      " [ 1  4  9  0 44  2]\n",
      " [ 0  2 11  0  0 50]]\n"
     ]
    }
   ],
   "source": [
    "# Insert your code for validation here\n",
    "y_pred = model.predict(X_valid)\n",
    "ac = accuracy_score(y_valid, y_pred)\n",
    "cm = confusion_matrix(y_valid, y_pred)\n",
    "\n",
    "print(\"accuracy\")\n",
    "print(ac)\n",
    "\n",
    "print(\"======\")\n",
    "print(cm)"
   ]
  },
  {
   "cell_type": "markdown",
   "metadata": {
    "id": "2lcgtHtglx-K"
   },
   "source": [
    "### **Embedding visualization**"
   ]
  },
  {
   "cell_type": "markdown",
   "metadata": {
    "id": "vQpn11Kalx-K"
   },
   "source": [
    "**As you know, the embedding matrix is a collection of embedding vectors, each is for one word. In this part, you will base on the cosine similarity of the embedding vectors for the words to find the top-k most relevant words for a given word.**\n",
    "\n",
    "**Good embeddings should have words close in meaning near each other by some similarity metrics. The similarity metric we'll use is the `consine` similarity, which is defined for two vector $\\mathbf{u}$ and $\\mathbf{v}$ as $\\cos(\\mathbf{u}, \\mathbf{v})=\\frac{\\mathbf{u} \\cdot \\mathbf{v}}{\\left\\Vert{\\mathbf{u}}\\right\\Vert\\left\\Vert{\\mathbf{v}}\\right\\Vert}$ where $\\cdot$ means dot product and $\\left\\Vert\\cdot\\right\\Vert$ means the $L^2$ norm.**"
   ]
  },
  {
   "cell_type": "code",
   "execution_count": null,
   "metadata": {
    "id": "aVHqk94Glx-K"
   },
   "outputs": [],
   "source": [
    "def cosine_similarity(u,v):\n",
    "    return np.dot(u,v)/(np.linalg.norm(u)*np.linalg.norm(v))"
   ]
  },
  {
   "cell_type": "markdown",
   "metadata": {
    "id": "EYJdQ6oWlx-K"
   },
   "source": [
    "#### <span style=\"color:red\">**Question 1.6** </span>\n",
    "\n",
    "**Write code for the `function find_most_similar(word=None, k=5, model=None)` which returns a list of the top-`k` most similar words (in descending order) for a given word. This similarity is based on the cosine similarity of embedding vectors obtained from the pretrained model `glove-wiki-gigaword-100` (see Question 1.1). The parameter `include_cur_word` specifies whether the given word should be included in the returned output or not. This means that if `include_cur_word=True`, the function will return `k+1` words.**\n",
    "\n",
    "<div style=\"text-align: right\"><span style=\"color:red\">[3 marks]</span></div>"
   ]
  },
  {
   "cell_type": "code",
   "execution_count": null,
   "metadata": {
    "id": "AIiF7scIlx-K"
   },
   "outputs": [],
   "source": [
    "def topk(scores, k):\n",
    "    # runs in O(n) worst case\n",
    "    topk_unordered = np.argpartition(scores, -k)[-k:]\n",
    "    topk = topk_unordered[np.argsort(-scores[topk_unordered])]\n",
    "    return topk"
   ]
  },
  {
   "cell_type": "code",
   "execution_count": null,
   "metadata": {
    "colab": {
     "base_uri": "https://localhost:8080/"
    },
    "id": "5uQI2m-7lx-K",
    "outputId": "7c62d7a3-031f-4363-9e02-cc9d46849779"
   },
   "outputs": [
    {
     "data": {
      "text/plain": [
       "array([-1.6298e-01,  3.0141e-01,  5.7978e-01,  6.6548e-02,  4.5835e-01,\n",
       "       -1.5329e-01,  4.3258e-01, -8.9215e-01,  5.7747e-01,  3.6375e-01,\n",
       "        5.6524e-01, -5.6281e-01,  3.5659e-01, -3.6096e-01, -9.9662e-02,\n",
       "        5.2753e-01,  3.8839e-01,  9.6185e-01,  1.8841e-01,  3.0741e-01,\n",
       "       -8.7842e-01, -3.2442e-01,  1.1202e+00,  7.5126e-02,  4.2661e-01,\n",
       "       -6.0651e-01, -1.3893e-01,  4.7862e-02, -4.5158e-01,  9.3723e-02,\n",
       "        1.7463e-01,  1.0962e+00, -1.0044e+00,  6.3889e-02,  3.8002e-01,\n",
       "        2.1109e-01, -6.6247e-01, -4.0736e-01,  8.9442e-01, -6.0974e-01,\n",
       "       -1.8577e-01, -1.9913e-01, -6.9226e-01, -3.1806e-01, -7.8565e-01,\n",
       "        2.3831e-01,  1.2992e-01,  8.7721e-02,  4.3205e-01, -2.2662e-01,\n",
       "        3.1549e-01, -3.1748e-01, -2.4632e-03,  1.6615e-01,  4.2358e-01,\n",
       "       -1.8087e+00, -3.6699e-01,  2.3949e-01,  2.5458e+00,  3.6111e-01,\n",
       "        3.9486e-02,  4.8607e-01, -3.6974e-01,  5.7282e-02, -4.9317e-01,\n",
       "        2.2765e-01,  7.9966e-01,  2.1428e-01,  6.9811e-01,  1.1262e+00,\n",
       "       -1.3526e-01,  7.1972e-01, -9.9605e-04, -2.6842e-01, -8.3038e-01,\n",
       "        2.1780e-01,  3.4355e-01,  3.7731e-01, -4.0251e-01,  3.3124e-01,\n",
       "        1.2576e+00, -2.7196e-01, -8.6093e-01,  9.0053e-02, -2.4876e+00,\n",
       "        4.5200e-01,  6.6945e-01, -5.4648e-01, -1.0324e-01, -1.6979e-01,\n",
       "        5.9437e-01,  1.1280e+00,  7.5755e-01, -5.9160e-02,  1.5152e-01,\n",
       "       -2.8388e-01,  4.9452e-01, -9.1703e-01,  9.1289e-01, -3.0927e-01],\n",
       "      dtype=float32)"
      ]
     },
     "execution_count": 22,
     "metadata": {},
     "output_type": "execute_result"
    }
   ],
   "source": [
    "word2vect.get_vector(\"computer\")"
   ]
  },
  {
   "cell_type": "code",
   "execution_count": null,
   "metadata": {
    "id": "Zf6Duij2lx-K"
   },
   "outputs": [],
   "source": [
    "def find_most_similar(word=None, k=5, model=None, include_cur_word=False):\n",
    "    try:\n",
    "        query = model.get_vector(word)\n",
    "        keys = np.array(list(model.key_to_index.keys()))\n",
    "        scores = np.zeros(len(keys))\n",
    "        for i, key in enumerate(keys):\n",
    "            val = word2vect.get_vector(key)\n",
    "            score = cosine_similarity(query, val)\n",
    "            scores[i] = score\n",
    "\n",
    "    except Exception as e: # Word not in the vocabulary\n",
    "        print(\"Word is not in the dictionary!\")\n",
    "        print(e)\n",
    "        return []\n",
    "\n",
    "    if include_cur_word:\n",
    "        k += 1\n",
    "\n",
    "    top_word_indices = topk(scores, k)\n",
    "    return keys[top_word_indices]"
   ]
  },
  {
   "cell_type": "code",
   "execution_count": null,
   "metadata": {
    "colab": {
     "base_uri": "https://localhost:8080/"
    },
    "id": "-pgcZXqglx-L",
    "outputId": "eb84cb71-be5f-4513-cf57-302b70c315a2"
   },
   "outputs": [
    {
     "data": {
      "text/plain": [
       "array(['an', 'another', 'a', 'as', 'one', 'this', 'the', 'was', 'first',\n",
       "       'it', 'with'], dtype='<U68')"
      ]
     },
     "execution_count": 24,
     "metadata": {},
     "output_type": "execute_result"
    }
   ],
   "source": [
    "find_most_similar(word=\"an\", k=10, model=word2vect, include_cur_word=True)"
   ]
  },
  {
   "cell_type": "markdown",
   "metadata": {
    "id": "kYj_W9Grlx-P"
   },
   "source": [
    "Here is the example of the above function. You can check your implementation using the provided `result`. As you can observe, the `result` makes sense which demonstrates that the embedding matrix is meaningful."
   ]
  },
  {
   "cell_type": "code",
   "execution_count": null,
   "metadata": {
    "colab": {
     "base_uri": "https://localhost:8080/"
    },
    "id": "tnasR4nllx-P",
    "outputId": "bd443034-690e-4e2f-8a93-46912d7a1ec9"
   },
   "outputs": [
    {
     "name": "stdout",
     "output_type": "stream",
     "text": [
      "Your implementation is correct.\n"
     ]
    }
   ],
   "source": [
    "result = ['computer','computers','software','technology','pc','hardware','internet','desktop','electronic','systems','computing']\n",
    "output = find_most_similar(word='computer', k=10, model=word2vect, include_cur_word=True)\n",
    "if all(output == result):\n",
    "    print(\"Your implementation is correct.\")\n",
    "else:\n",
    "    print(\"Your implementation is not correct.\")"
   ]
  },
  {
   "cell_type": "markdown",
   "metadata": {
    "id": "ksj0se53lx-P"
   },
   "source": [
    "#### <span style=\"color:red\">**Question 1.7** </span>\n",
    "**Implement the `plot2D_with_groups(word_list, model, k=10)` function to visualize groups of similar words in 2D space. The `word_list` parameter is a list of words, and for each word in the `word_list`, find its top-`k` most similar words (which forms a group) using the `find_most_similar` function. Use tSNE to project embedding vectors into 2D space and plot groups with different colors. You can use the colormaps from `matplotlib`, i.e., `cmap = plt.get_cmap('brg')`.**\n",
    "\n",
    "**The figure bellow is the output obtained by running `plot2D_with_groups` using the input `word_list=['an', 'introduction', 'to', 'deep', 'learning']`. Note that the words within the `word_list` are also visualized (in black) as shown in the figure.**\n",
    "\n",
    "<img src=\"./images/2Dtsne.png\" align=\"center\" width=600/>\n",
    "\n",
    "**As you can observe, words within each group tend to be closer to each other, while words from different groups are more distant.**\n",
    "\n",
    "<div style=\"text-align: right\"><span style=\"color:red\">[5 marks]</span></div>"
   ]
  },
  {
   "cell_type": "code",
   "execution_count": null,
   "metadata": {
    "id": "xYiJ0L-4lx-Q"
   },
   "outputs": [],
   "source": [
    "def words_to_embeddings(words):\n",
    "    embeddings = np.zeros((len(words), 100))\n",
    "\n",
    "    for i, word in enumerate(words):\n",
    "        embeddings[i, :] = word2vect.get_vector(word)\n",
    "    return embeddings"
   ]
  },
  {
   "cell_type": "code",
   "execution_count": null,
   "metadata": {
    "id": "ozxEkQmmlx-Q"
   },
   "outputs": [],
   "source": [
    "def create_classes(num_words, k):\n",
    "    classes = np.zeros(num_words*k)\n",
    "    for i in range(0, len(classes), k):\n",
    "        classes[i: i+k] = [i]*k\n",
    "    return classes"
   ]
  },
  {
   "cell_type": "code",
   "execution_count": null,
   "metadata": {
    "colab": {
     "base_uri": "https://localhost:8080/"
    },
    "id": "QS2FWzHclx-Q",
    "outputId": "a24e3dea-cb3a-4c86-fbe5-91920341141c"
   },
   "outputs": [
    {
     "data": {
      "text/plain": [
       "array([ 0.,  0.,  0.,  0.,  0.,  5.,  5.,  5.,  5.,  5., 10., 10., 10.,\n",
       "       10., 10., 15., 15., 15., 15., 15., 20., 20., 20., 20., 20., 25.,\n",
       "       25., 25., 25., 25., 30., 30., 30., 30., 30., 35., 35., 35., 35.,\n",
       "       35., 40., 40., 40., 40., 40., 45., 45., 45., 45., 45.])"
      ]
     },
     "execution_count": 28,
     "metadata": {},
     "output_type": "execute_result"
    }
   ],
   "source": [
    "create_classes(10, 5)"
   ]
  },
  {
   "cell_type": "code",
   "execution_count": null,
   "metadata": {
    "id": "vNsuZVLZRC_R"
   },
   "outputs": [],
   "source": [
    "import matplotlib.pyplot as plt\n",
    "from sklearn.manifold import TSNE"
   ]
  },
  {
   "cell_type": "code",
   "execution_count": null,
   "metadata": {
    "id": "ob6phQNhlx-Q"
   },
   "outputs": [],
   "source": [
    "tsne = TSNE(perplexity=5, n_components=2, init='pca', n_iter=5000)\n",
    "def plot2D_with_groups(word_list=None, k=10, model=None):\n",
    "#     X = words_to_embeddings(word_list)\n",
    "\n",
    "    X = np.zeros((len(word_list)*11, 100))\n",
    "    all_words = []\n",
    "    for i, word in enumerate(word_list):\n",
    "        words = find_most_similar(word=word, k=10, model=model, include_cur_word=True)\n",
    "        all_words.extend(words)\n",
    "        X[i:i+k+1, :] = words_to_embeddings(words)\n",
    "\n",
    "\n",
    "\n",
    "    X_2d = tsne.fit_transform(X)\n",
    "    x, y = X_2d[:, 0], X_2d[:, 1]\n",
    "\n",
    "    # for coloring\n",
    "    classes = create_classes(len(word_list), k+1)\n",
    "    cmap = plt.get_cmap('brg')\n",
    "    rgbas = cmap(classes / max(classes))\n",
    "    rgbas[list(range(0, len(word_list)*(k+1), k+1)), :] = np.vstack([np.array([0, 0, 0, 1])]*len(word_list))  # change the color of annotation to black for the query words\n",
    "\n",
    "    # plot\n",
    "    plt.figure(figsize=(10, 10))\n",
    "    plt.scatter(x, y, c=classes, cmap=cmap)\n",
    "    plt.xlabel(\"x\")\n",
    "    plt.ylabel(\"y\")\n",
    "\n",
    "    # add annotation\n",
    "    for i in range(len(X_2d)):\n",
    "        x_current, y_current = x[i], y[i]\n",
    "        plt.annotate(all_words[i], (x_current, y_current), color=rgbas[i])"
   ]
  },
  {
   "cell_type": "code",
   "execution_count": null,
   "metadata": {
    "colab": {
     "base_uri": "https://localhost:8080/",
     "height": 854
    },
    "id": "dlxqMRqLlx-Q",
    "outputId": "5bf939b4-854e-40a7-b10d-1ea57bbb7b2a"
   },
   "outputs": [
    {
     "data": {
      "image/png": "[encoded data removed]",
      "text/plain": [
       "<Figure size 1000x1000 with 1 Axes>"
      ]
     },
     "metadata": {},
     "output_type": "display_data"
    }
   ],
   "source": [
    "word_list = ['an', 'introduction', 'to', 'deep', 'learning']\n",
    "plot2D_with_groups(word_list=word_list, k=10, model=word2vect)"
   ]
  },
  {
   "cell_type": "markdown",
   "metadata": {
    "id": "HBUJUB2Jlx-Q"
   },
   "source": [
    "## <span style=\"color:#0b486b\">Part 2: Text CNN for sequence modeling and neural embedding </span>\n",
    "\n",
    "<div style=\"text-align: right\"><span style=\"color:red; font-weight:bold\">[Total marks for this part: 10 marks]<span></div>"
   ]
  },
  {
   "cell_type": "markdown",
   "metadata": {
    "id": "jmKzA2rLlx-Q"
   },
   "source": [
    "#### <span style=\"color:red\">**Question 2.1**</span>\n",
    "\n",
    "**In what follows, you are required to complete the code for Text CNN for sentence classification. The paper of Text CNN can be found at this [link](https://www.aclweb.org/anthology/D14-1181.pdf). Here is the description of the Text CNN that you need to construct.**\n",
    "- There are three attributes (properties or instance variables): *embed_size, state_size, data_manager*.\n",
    "  - `embed_size`: the dimension of the vector space for which the words are embedded to using the embedding matrix.\n",
    "  - `state_size`: the number of filters used in *Conv1D* (reference [here](https://www.tensorflow.org/api_docs/python/tf/keras/layers/Conv1D)).\n",
    "  - `data_manager`: the data manager to store information of the dataset.\n",
    "- The detail of the computational process is as follows:\n",
    "  - Given input $x$, we embed $x$ using the embedding matrix to obtain an $3D$ tensor $[batch\\_size \\times maxlen \\times embed\\_size]$ as $h$.\n",
    "  - We feed $h$ to three *Conv1D* layers, each of which has $state\\_size$ filters, padding=same, activation= relu, and $kernel\\_size= 3, 5, 7$ respectively to obtain $h1, h2, h3$. Note that each $h1, h2, h3$ is a 3D tensor with the shape $[batch\\_size \\times output\\_size \\times state\\_size]$.\n",
    "  - We then apply *GlobalMaxPool1D()* (reference [here](https://www.tensorflow.org/api_docs/python/tf/keras/layers/GlobalMaxPool1D)) over $h1, h2, h3$ to obtain 2D tensors stored in $h1, h2, h3$ again.\n",
    "  - We then concatenate three 2D tensors $h1, h2, h3$ to obtain $h$. Note that you need to specify the axis to concatenate.\n",
    "  - We finally build up one dense layer on the top of $h$ for classification.\n",
    "  \n",
    "  <div style=\"text-align: right\"><span style=\"color:red\">[8 marks]</span></div>\n",
    "  "
   ]
  },
  {
   "cell_type": "code",
   "execution_count": 6,
   "metadata": {
    "id": "NvU4nL6Rlx-Q"
   },
   "outputs": [],
   "source": [
    "class TextCNN:\n",
    "    def __init__(self, embed_size= 128, state_size=16, data_manager=None):\n",
    "        self.data_manager = data_manager\n",
    "        self.embed_size = embed_size\n",
    "        self.state_size = state_size\n",
    "\n",
    "    def build(self):\n",
    "        x = tf.keras.layers.Input(shape=[None])\n",
    "        h = tf.keras.layers.Embedding(self.data_manager.vocab_size +1, self.embed_size, mask_zero=True)(x)\n",
    "        h1 = tf.keras.layers.Conv1D(self.state_size, padding=\"same\", activation=\"relu\", kernel_size=3)(h)\n",
    "        h2 = tf.keras.layers.Conv1D(self.state_size, padding=\"same\", activation=\"relu\", kernel_size=5)(h)\n",
    "        h3 = tf.keras.layers.Conv1D(self.state_size, padding=\"same\", activation=\"relu\", kernel_size=7)(h)\n",
    "        h1 = tf.keras.layers.GlobalMaxPooling1D()(h1)\n",
    "        h2 = tf.keras.layers.GlobalMaxPooling1D()(h2)\n",
    "        h3 = tf.keras.layers.GlobalMaxPooling1D()(h3)\n",
    "        h = tf.keras.layers.Concatenate()([h1, h2, h3])\n",
    "        h = tf.keras.layers.Dense(self.data_manager.num_classes, activation='softmax')(h)\n",
    "        self.model = tf.keras.Model(inputs=x, outputs=h)\n",
    "        return self.model\n",
    "\n",
    "    def compile_model(self, *args, **kwargs):\n",
    "        self.model.compile(*args, **kwargs)\n",
    "\n",
    "    def fit(self, *args, **kwargs):\n",
    "        return self.model.fit(*args, **kwargs)\n",
    "\n",
    "    def evaluate(self, *args, **kwargs):\n",
    "        self.model.evaluate(*args, **kwargs)\n"
   ]
  },
  {
   "cell_type": "markdown",
   "metadata": {
    "id": "djHrh91Zlx-R"
   },
   "source": [
    "#### <span style=\"color:red\">**Question 2.2**</span>\n",
    "**Here is the code to test TextCNN above. You can observe that TextCNN outperforms the traditional approach Word2Vect with Logistic Regression for this task. The reason is that TextCNN enables us to automatically learn the feature that fits to the task. This makes deep learning different from hand-crafted feature approaches. Complete the code to test the model. Note that when compiling the model, you can use the Adam optimizer.**\n",
    "\n",
    "<div style=\"text-align: right\"><span style=\"color:red\">[2 marks]</span></div>"
   ]
  },
  {
   "cell_type": "code",
   "execution_count": null,
   "metadata": {
    "colab": {
     "base_uri": "https://localhost:8080/"
    },
    "id": "lsrz50Mllx-R",
    "outputId": "e5aaf1f5-99ff-4220-e947-cff03143814a"
   },
   "outputs": [
    {
     "name": "stdout",
     "output_type": "stream",
     "text": [
      "Epoch 1/20\n",
      "25/25 [==============================] - 7s 150ms/step - loss: 1.6347 - accuracy: 0.3963 - val_loss: 1.4836 - val_accuracy: 0.4525\n",
      "Epoch 2/20\n",
      "25/25 [==============================] - 4s 171ms/step - loss: 1.2574 - accuracy: 0.7194 - val_loss: 1.0497 - val_accuracy: 0.8375\n",
      "Epoch 3/20\n",
      "25/25 [==============================] - 3s 121ms/step - loss: 0.7291 - accuracy: 0.8975 - val_loss: 0.5204 - val_accuracy: 0.9175\n",
      "Epoch 4/20\n",
      "25/25 [==============================] - 3s 130ms/step - loss: 0.3223 - accuracy: 0.9488 - val_loss: 0.2606 - val_accuracy: 0.9550\n",
      "Epoch 5/20\n",
      "25/25 [==============================] - 5s 192ms/step - loss: 0.1606 - accuracy: 0.9663 - val_loss: 0.1742 - val_accuracy: 0.9550\n",
      "Epoch 6/20\n",
      "25/25 [==============================] - 2s 77ms/step - loss: 0.0925 - accuracy: 0.9875 - val_loss: 0.1350 - val_accuracy: 0.9650\n",
      "Epoch 7/20\n",
      "25/25 [==============================] - 2s 78ms/step - loss: 0.0576 - accuracy: 0.9944 - val_loss: 0.1136 - val_accuracy: 0.9675\n",
      "Epoch 8/20\n",
      "25/25 [==============================] - 2s 75ms/step - loss: 0.0379 - accuracy: 0.9987 - val_loss: 0.1003 - val_accuracy: 0.9725\n",
      "Epoch 9/20\n",
      "25/25 [==============================] - 2s 92ms/step - loss: 0.0258 - accuracy: 0.9994 - val_loss: 0.0913 - val_accuracy: 0.9750\n",
      "Epoch 10/20\n",
      "25/25 [==============================] - 3s 108ms/step - loss: 0.0182 - accuracy: 1.0000 - val_loss: 0.0851 - val_accuracy: 0.9750\n",
      "Epoch 11/20\n",
      "25/25 [==============================] - 2s 81ms/step - loss: 0.0134 - accuracy: 1.0000 - val_loss: 0.0808 - val_accuracy: 0.9725\n",
      "Epoch 12/20\n",
      "25/25 [==============================] - 2s 77ms/step - loss: 0.0102 - accuracy: 1.0000 - val_loss: 0.0777 - val_accuracy: 0.9725\n",
      "Epoch 13/20\n",
      "25/25 [==============================] - 2s 74ms/step - loss: 0.0080 - accuracy: 1.0000 - val_loss: 0.0754 - val_accuracy: 0.9725\n",
      "Epoch 14/20\n",
      "25/25 [==============================] - 3s 111ms/step - loss: 0.0064 - accuracy: 1.0000 - val_loss: 0.0735 - val_accuracy: 0.9750\n",
      "Epoch 15/20\n",
      "25/25 [==============================] - 2s 78ms/step - loss: 0.0053 - accuracy: 1.0000 - val_loss: 0.0721 - val_accuracy: 0.9775\n",
      "Epoch 16/20\n",
      "25/25 [==============================] - 2s 78ms/step - loss: 0.0044 - accuracy: 1.0000 - val_loss: 0.0710 - val_accuracy: 0.9775\n",
      "Epoch 17/20\n",
      "25/25 [==============================] - 2s 78ms/step - loss: 0.0038 - accuracy: 1.0000 - val_loss: 0.0700 - val_accuracy: 0.9775\n",
      "Epoch 18/20\n",
      "25/25 [==============================] - 2s 86ms/step - loss: 0.0033 - accuracy: 1.0000 - val_loss: 0.0692 - val_accuracy: 0.9775\n",
      "Epoch 19/20\n",
      "25/25 [==============================] - 3s 114ms/step - loss: 0.0028 - accuracy: 1.0000 - val_loss: 0.0685 - val_accuracy: 0.9775\n",
      "Epoch 20/20\n",
      "25/25 [==============================] - 2s 79ms/step - loss: 0.0025 - accuracy: 1.0000 - val_loss: 0.0679 - val_accuracy: 0.9775\n"
     ]
    },
    {
     "data": {
      "text/plain": [
       "<keras.src.callbacks.History at 0x7a7f20f42470>"
      ]
     },
     "execution_count": 32,
     "metadata": {},
     "output_type": "execute_result"
    }
   ],
   "source": [
    "text_cnn = TextCNN(data_manager=dm)\n",
    "text_cnn.build()\n",
    "# Insert your code here\n",
    "# You are required to compile the model and train the model on 20 epochs\n",
    "\n",
    "text_cnn.compile_model(optimizer=\"adam\", loss=\"sparse_categorical_crossentropy\", metrics=[\"accuracy\"])\n",
    "text_cnn.fit(dm.tf_train_set.batch(64), epochs=20, validation_data=dm.tf_valid_set.batch(64))"
   ]
  },
  {
   "cell_type": "markdown",
   "metadata": {
    "id": "MMc3baXWlx-R"
   },
   "source": [
    "## <span style=\"color:#0b486b\">Part 3: RNN-based models for sequence modeling and neural embedding</span>\n",
    "\n",
    "<div style=\"text-align: right\"><span style=\"color:red; font-weight:bold\">[Total marks for this part: 32 marks]<span></div>"
   ]
  },
  {
   "cell_type": "markdown",
   "metadata": {
    "id": "rhned3rQlx-R"
   },
   "source": [
    "### <span style=\"color:#0b486b\">3.1. RNNs with different cell types</span> ###\n",
    "\n",
    "<div style=\"text-align: right\"><span style=\"color:red; font-weight:bold\">[Total marks for this part: 12 marks]<span></div>"
   ]
  },
  {
   "cell_type": "markdown",
   "metadata": {
    "id": "y70m26c2lx-R"
   },
   "source": [
    "#### <span style=\"color:red\">**Question 3.1.1**</span>\n",
    "**In this part, you need to construct a vanilla RNN to learn from the dataset of interest. Basically, you are required to construct the class RNN with the following requirements:**\n",
    "- Attribute `data_manager (self.data_manager)`: specifies the data manager used to store data for the model.\n",
    "- Attribute `cell_type (self.cell_type)`: can take one of the three values, i.e., `simple_rnn`, `gru`, or `lstm` which specifies the memory cells formed a hidden layer.\n",
    "- `state_sizes (self.state_sizes)` indicates the list of the hidden sizes  of memory cells. For example, $state\\_sizes = [64, 128]$ means that you have two hidden layers in your network with hidden sizes of $64$ and $128$ respectively.\n",
    "\n",
    "**Note that when declaring an embedding layer for the network, you need to set *mask_zero=True* so that the padding zeros in the sentences will be masked and ignored. This helps to have variable length RNNs. For more detail, you can refer to this [link](https://www.tensorflow.org/guide/keras/masking_and_padding).**\n",
    "\n",
    "<div style=\"text-align: right\"><span style=\"color:red\">[7 marks]</span></div>"
   ]
  },
  {
   "cell_type": "code",
   "execution_count": 7,
   "metadata": {
    "id": "HbeLzM5rlx-R"
   },
   "outputs": [],
   "source": [
    "class BaseRNN:\n",
    "    def __init__(self, cell_type='gru', embed_size=128, state_sizes=[128, 64], data_manager=None):\n",
    "        self.cell_type = cell_type\n",
    "        self.state_sizes = state_sizes\n",
    "        self.embed_size = embed_size\n",
    "        self.data_manager = data_manager\n",
    "        self.vocab_size = self.data_manager.vocab_size + 1\n",
    "\n",
    "    # return the corresponding memory cell\n",
    "    @staticmethod\n",
    "    def get_layer(cell_type='gru', state_size=128, return_sequences=False, activation='tanh'):\n",
    "        if cell_type == 'gru':\n",
    "            return tf.keras.layers.GRU(state_size, return_sequences=return_sequences, activation=activation)\n",
    "        elif cell_type == 'lstm':\n",
    "            return tf.keras.layers.LSTM(state_size, return_sequences=return_sequences, activation=activation)\n",
    "        else:\n",
    "            return tf.keras.layers.SimpleRNN(state_size, return_sequences=return_sequences, activation=activation)\n",
    "\n",
    "    def build(self):\n",
    "        x = tf.keras.layers.Input(shape=[None])\n",
    "        h = tf.keras.layers.Embedding(self.data_manager.vocab_size +1, self.embed_size, mask_zero=True)(x)\n",
    "        num_layers = len(self.state_sizes)\n",
    "        for i in range(num_layers):\n",
    "            return_sequences = i != num_layers-1  # i.e. not the last rnn layer\n",
    "            h = BaseRNN.get_layer(cell_type=self.cell_type, state_size=self.state_sizes[i], return_sequences=return_sequences)(h)\n",
    "        h = tf.keras.layers.Dense(dm.num_classes, activation='softmax')(h)\n",
    "        self.model = tf.keras.Model(inputs=x, outputs=h)\n",
    "\n",
    "    def compile_model(self, *args, **kwargs):\n",
    "        self.model.compile(*args, **kwargs)\n",
    "\n",
    "    def fit(self, *args, **kwargs):\n",
    "        return self.model.fit(*args, **kwargs)\n",
    "\n",
    "    def evaluate(self, *args, **kwargs):\n",
    "        self.model.evaluate(*args, **kwargs)\n"
   ]
  },
  {
   "cell_type": "markdown",
   "metadata": {
    "id": "cXubwctDlx-S"
   },
   "source": [
    "#### <span style=\"color:red\">**Question 3.1.2**</span>\n",
    "**Run with simple RNN ('simple_rnn') cell with $embed\\_size= 128, state\\_sizes= [64, 128], data\\_manager= dm$.**\n",
    "\n",
    "<div style=\"text-align: right\"><span style=\"color:red\">[1 mark]</span></div>"
   ]
  },
  {
   "cell_type": "code",
   "execution_count": null,
   "metadata": {
    "colab": {
     "base_uri": "https://localhost:8080/"
    },
    "id": "uBngSV1ulx-S",
    "outputId": "11720d1a-3460-4bbf-db33-366b9d5fc228"
   },
   "outputs": [
    {
     "name": "stdout",
     "output_type": "stream",
     "text": [
      "Model: \"model_4\"\n",
      "_________________________________________________________________\n",
      " Layer (type)                Output Shape              Param #   \n",
      "=================================================================\n",
      " input_5 (InputLayer)        [(None, None)]            0         \n",
      "                                                                 \n",
      " embedding_4 (Embedding)     (None, None, 128)         573056    \n",
      "                                                                 \n",
      " simple_rnn_6 (SimpleRNN)    (None, None, 64)          12352     \n",
      "                                                                 \n",
      " simple_rnn_7 (SimpleRNN)    (None, 128)               24704     \n",
      "                                                                 \n",
      " dense_4 (Dense)             (None, 6)                 774       \n",
      "                                                                 \n",
      "=================================================================\n",
      "Total params: 610886 (2.33 MB)\n",
      "Trainable params: 610886 (2.33 MB)\n",
      "Non-trainable params: 0 (0.00 Byte)\n",
      "_________________________________________________________________\n",
      "Epoch 1/20\n",
      "25/25 [==============================] - 8s 145ms/step - loss: 0.8403 - accuracy: 0.7138 - val_loss: 0.2723 - val_accuracy: 0.9125\n",
      "Epoch 2/20\n",
      "25/25 [==============================] - 4s 158ms/step - loss: 0.1687 - accuracy: 0.9575 - val_loss: 0.1435 - val_accuracy: 0.9475\n",
      "Epoch 3/20\n",
      "25/25 [==============================] - 3s 121ms/step - loss: 0.0912 - accuracy: 0.9731 - val_loss: 0.1803 - val_accuracy: 0.9400\n",
      "Epoch 4/20\n",
      "25/25 [==============================] - 3s 121ms/step - loss: 0.0470 - accuracy: 0.9850 - val_loss: 0.0987 - val_accuracy: 0.9675\n",
      "Epoch 5/20\n",
      "25/25 [==============================] - 4s 169ms/step - loss: 0.0274 - accuracy: 0.9919 - val_loss: 0.1015 - val_accuracy: 0.9700\n",
      "Epoch 6/20\n",
      "25/25 [==============================] - 3s 115ms/step - loss: 0.0236 - accuracy: 0.9919 - val_loss: 0.0997 - val_accuracy: 0.9650\n",
      "Epoch 7/20\n",
      "25/25 [==============================] - 3s 121ms/step - loss: 0.0064 - accuracy: 0.9987 - val_loss: 0.1132 - val_accuracy: 0.9650\n",
      "Epoch 8/20\n",
      "25/25 [==============================] - 4s 157ms/step - loss: 0.0153 - accuracy: 0.9969 - val_loss: 0.1013 - val_accuracy: 0.9625\n",
      "Epoch 9/20\n",
      "25/25 [==============================] - 3s 125ms/step - loss: 0.0015 - accuracy: 1.0000 - val_loss: 0.1126 - val_accuracy: 0.9700\n",
      "Epoch 10/20\n",
      "25/25 [==============================] - 3s 115ms/step - loss: 7.1850e-04 - accuracy: 1.0000 - val_loss: 0.1282 - val_accuracy: 0.9675\n",
      "Epoch 11/20\n",
      "25/25 [==============================] - 3s 125ms/step - loss: 4.1755e-04 - accuracy: 1.0000 - val_loss: 0.1482 - val_accuracy: 0.9675\n",
      "Epoch 12/20\n",
      "25/25 [==============================] - 4s 156ms/step - loss: 2.6384e-04 - accuracy: 1.0000 - val_loss: 0.1477 - val_accuracy: 0.9650\n",
      "Epoch 13/20\n",
      "25/25 [==============================] - 3s 121ms/step - loss: 1.9322e-04 - accuracy: 1.0000 - val_loss: 0.1533 - val_accuracy: 0.9625\n",
      "Epoch 14/20\n",
      "25/25 [==============================] - 3s 115ms/step - loss: 1.6823e-04 - accuracy: 1.0000 - val_loss: 0.1578 - val_accuracy: 0.9650\n",
      "Epoch 15/20\n",
      "25/25 [==============================] - 3s 115ms/step - loss: 0.0207 - accuracy: 0.9944 - val_loss: 0.1140 - val_accuracy: 0.9675\n",
      "Epoch 16/20\n",
      "25/25 [==============================] - 3s 115ms/step - loss: 3.5230e-04 - accuracy: 1.0000 - val_loss: 0.1133 - val_accuracy: 0.9700\n",
      "Epoch 17/20\n",
      "25/25 [==============================] - 3s 141ms/step - loss: 1.9222e-04 - accuracy: 1.0000 - val_loss: 0.1182 - val_accuracy: 0.9700\n",
      "Epoch 18/20\n",
      "25/25 [==============================] - 3s 135ms/step - loss: 1.3885e-04 - accuracy: 1.0000 - val_loss: 0.1248 - val_accuracy: 0.9700\n",
      "Epoch 19/20\n",
      "25/25 [==============================] - 3s 122ms/step - loss: 1.0618e-04 - accuracy: 1.0000 - val_loss: 0.1317 - val_accuracy: 0.9675\n",
      "Epoch 20/20\n",
      "25/25 [==============================] - 4s 156ms/step - loss: 8.7041e-05 - accuracy: 1.0000 - val_loss: 0.1388 - val_accuracy: 0.9675\n"
     ]
    },
    {
     "data": {
      "text/plain": [
       "<keras.src.callbacks.History at 0x7a7f19ce3310>"
      ]
     },
     "execution_count": 40,
     "metadata": {},
     "output_type": "execute_result"
    }
   ],
   "source": [
    "base_rnn = BaseRNN(cell_type=\"simple_rnn\", embed_size=128, state_sizes=[64, 128], data_manager=dm)\n",
    "base_rnn.build()\n",
    "base_rnn.model.summary()\n",
    "opt = tf.keras.optimizers.RMSprop(learning_rate=0.001)\n",
    "base_rnn.compile_model(optimizer=opt, loss='sparse_categorical_crossentropy', metrics=['accuracy'])\n",
    "base_rnn.fit(dm.tf_train_set.batch(64), epochs=20, validation_data=dm.tf_valid_set.batch(64))"
   ]
  },
  {
   "cell_type": "markdown",
   "metadata": {
    "id": "T6ZBcJ9Rlx-S"
   },
   "source": [
    "#### <span style=\"color:red\">**Question 3.1.3**</span>\n",
    "**Run with GRU ('gru') cell with $embed\\_size= 128, state\\_sizes= [64, 128], data\\_manager= dm$.**\n",
    "\n",
    "<div style=\"text-align: right\"><span style=\"color:red\">[1 mark]</span></div>"
   ]
  },
  {
   "cell_type": "code",
   "execution_count": null,
   "metadata": {
    "colab": {
     "base_uri": "https://localhost:8080/"
    },
    "id": "OXzjoBeIlx-S",
    "outputId": "e88631bd-9985-42e9-f4ad-0fc8cedce8f1"
   },
   "outputs": [
    {
     "name": "stdout",
     "output_type": "stream",
     "text": [
      "Epoch 1/20\n",
      "25/25 [==============================] - 20s 461ms/step - loss: 1.6735 - accuracy: 0.2512 - val_loss: 1.5905 - val_accuracy: 0.3525\n",
      "Epoch 2/20\n",
      "25/25 [==============================] - 11s 446ms/step - loss: 1.2281 - accuracy: 0.4844 - val_loss: 0.6950 - val_accuracy: 0.7300\n",
      "Epoch 3/20\n",
      "25/25 [==============================] - 10s 389ms/step - loss: 0.4026 - accuracy: 0.8506 - val_loss: 0.3020 - val_accuracy: 0.9050\n",
      "Epoch 4/20\n",
      "25/25 [==============================] - 8s 319ms/step - loss: 0.1518 - accuracy: 0.9600 - val_loss: 0.1968 - val_accuracy: 0.9425\n",
      "Epoch 5/20\n",
      "25/25 [==============================] - 9s 334ms/step - loss: 0.0864 - accuracy: 0.9781 - val_loss: 0.1625 - val_accuracy: 0.9550\n",
      "Epoch 6/20\n",
      "25/25 [==============================] - 10s 421ms/step - loss: 0.0287 - accuracy: 0.9931 - val_loss: 0.1824 - val_accuracy: 0.9525\n",
      "Epoch 7/20\n",
      "25/25 [==============================] - 10s 385ms/step - loss: 0.0378 - accuracy: 0.9869 - val_loss: 0.1738 - val_accuracy: 0.9575\n",
      "Epoch 8/20\n",
      "25/25 [==============================] - 8s 320ms/step - loss: 0.0094 - accuracy: 0.9981 - val_loss: 0.1974 - val_accuracy: 0.9550\n",
      "Epoch 9/20\n",
      "25/25 [==============================] - 10s 421ms/step - loss: 0.0116 - accuracy: 0.9969 - val_loss: 0.2017 - val_accuracy: 0.9550\n",
      "Epoch 10/20\n",
      "25/25 [==============================] - 11s 448ms/step - loss: 0.0047 - accuracy: 0.9994 - val_loss: 0.2403 - val_accuracy: 0.9475\n",
      "Epoch 11/20\n",
      "25/25 [==============================] - 8s 319ms/step - loss: 0.0042 - accuracy: 0.9987 - val_loss: 0.2253 - val_accuracy: 0.9550\n",
      "Epoch 12/20\n",
      "25/25 [==============================] - 8s 322ms/step - loss: 0.0018 - accuracy: 0.9994 - val_loss: 0.2537 - val_accuracy: 0.9525\n",
      "Epoch 13/20\n",
      "25/25 [==============================] - 10s 385ms/step - loss: 0.0184 - accuracy: 0.9950 - val_loss: 0.2185 - val_accuracy: 0.9625\n",
      "Epoch 14/20\n",
      "25/25 [==============================] - 9s 381ms/step - loss: 0.0014 - accuracy: 1.0000 - val_loss: 0.2189 - val_accuracy: 0.9675\n",
      "Epoch 15/20\n",
      "25/25 [==============================] - 8s 319ms/step - loss: 7.6357e-04 - accuracy: 1.0000 - val_loss: 0.2232 - val_accuracy: 0.9675\n",
      "Epoch 16/20\n",
      "25/25 [==============================] - 8s 321ms/step - loss: 5.6158e-04 - accuracy: 1.0000 - val_loss: 0.2313 - val_accuracy: 0.9625\n",
      "Epoch 17/20\n",
      "25/25 [==============================] - 9s 340ms/step - loss: 4.2768e-04 - accuracy: 1.0000 - val_loss: 0.2485 - val_accuracy: 0.9575\n",
      "Epoch 18/20\n",
      "25/25 [==============================] - 10s 384ms/step - loss: 3.4965e-04 - accuracy: 1.0000 - val_loss: 0.2544 - val_accuracy: 0.9575\n",
      "Epoch 19/20\n",
      "25/25 [==============================] - 10s 386ms/step - loss: 2.8687e-04 - accuracy: 1.0000 - val_loss: 0.2557 - val_accuracy: 0.9575\n",
      "Epoch 20/20\n",
      "25/25 [==============================] - 9s 374ms/step - loss: 2.4385e-04 - accuracy: 1.0000 - val_loss: 0.2550 - val_accuracy: 0.9600\n"
     ]
    },
    {
     "data": {
      "text/plain": [
       "<keras.src.callbacks.History at 0x7a7f1a9979a0>"
      ]
     },
     "execution_count": 41,
     "metadata": {},
     "output_type": "execute_result"
    }
   ],
   "source": [
    "base_rnn = BaseRNN(cell_type=\"gru\", embed_size=128, state_sizes=[64, 128], data_manager=dm)\n",
    "base_rnn.build()\n",
    "opt = tf.keras.optimizers.RMSprop(learning_rate=0.001)\n",
    "base_rnn.compile_model(optimizer=opt, loss='sparse_categorical_crossentropy', metrics=['accuracy'])\n",
    "base_rnn.fit(dm.tf_train_set.batch(64), epochs=20, validation_data=dm.tf_valid_set.batch(64))"
   ]
  },
  {
   "cell_type": "markdown",
   "metadata": {
    "id": "5vEm9DRElx-S"
   },
   "source": [
    "#### <span style=\"color:red\">**Question 3.1.4**</span>\n",
    "**Run with LSTM ('lstm') cell with $embed\\_size= 128, state\\_sizes= [64, 128], data\\_manager= dm$.**\n",
    "\n",
    "<div style=\"text-align: right\"><span style=\"color:red\">[1 mark]</span></div>"
   ]
  },
  {
   "cell_type": "code",
   "execution_count": null,
   "metadata": {
    "colab": {
     "base_uri": "https://localhost:8080/"
    },
    "id": "Urj1FEFwlx-T",
    "outputId": "8f601365-3e70-436e-e89a-c65941ecd957"
   },
   "outputs": [
    {
     "name": "stdout",
     "output_type": "stream",
     "text": [
      "Epoch 1/20\n",
      "25/25 [==============================] - 23s 596ms/step - loss: 1.6676 - accuracy: 0.2900 - val_loss: 1.4171 - val_accuracy: 0.4825\n",
      "Epoch 2/20\n",
      "25/25 [==============================] - 10s 406ms/step - loss: 0.8815 - accuracy: 0.7081 - val_loss: 0.4096 - val_accuracy: 0.9175\n",
      "Epoch 3/20\n",
      "25/25 [==============================] - 11s 459ms/step - loss: 0.2795 - accuracy: 0.9269 - val_loss: 0.2356 - val_accuracy: 0.9175\n",
      "Epoch 4/20\n",
      "25/25 [==============================] - 11s 431ms/step - loss: 0.1331 - accuracy: 0.9588 - val_loss: 0.1870 - val_accuracy: 0.9150\n",
      "Epoch 5/20\n",
      "25/25 [==============================] - 10s 404ms/step - loss: 0.0780 - accuracy: 0.9812 - val_loss: 0.1045 - val_accuracy: 0.9650\n",
      "Epoch 6/20\n",
      "25/25 [==============================] - 10s 390ms/step - loss: 0.0378 - accuracy: 0.9906 - val_loss: 0.1055 - val_accuracy: 0.9650\n",
      "Epoch 7/20\n",
      "25/25 [==============================] - 13s 519ms/step - loss: 0.0507 - accuracy: 0.9881 - val_loss: 0.0845 - val_accuracy: 0.9725\n",
      "Epoch 8/20\n",
      "25/25 [==============================] - 11s 458ms/step - loss: 0.0232 - accuracy: 0.9937 - val_loss: 0.0845 - val_accuracy: 0.9750\n",
      "Epoch 9/20\n",
      "25/25 [==============================] - 11s 456ms/step - loss: 0.0120 - accuracy: 0.9975 - val_loss: 0.0882 - val_accuracy: 0.9725\n",
      "Epoch 10/20\n",
      "25/25 [==============================] - 12s 476ms/step - loss: 0.0106 - accuracy: 0.9969 - val_loss: 0.0960 - val_accuracy: 0.9725\n",
      "Epoch 11/20\n",
      "25/25 [==============================] - 11s 460ms/step - loss: 0.0056 - accuracy: 0.9987 - val_loss: 0.1036 - val_accuracy: 0.9700\n",
      "Epoch 12/20\n",
      "25/25 [==============================] - 11s 454ms/step - loss: 0.0032 - accuracy: 0.9987 - val_loss: 0.1238 - val_accuracy: 0.9625\n",
      "Epoch 13/20\n",
      "25/25 [==============================] - 13s 516ms/step - loss: 0.0022 - accuracy: 1.0000 - val_loss: 0.1509 - val_accuracy: 0.9625\n",
      "Epoch 14/20\n",
      "25/25 [==============================] - 14s 564ms/step - loss: 0.0034 - accuracy: 0.9994 - val_loss: 0.1489 - val_accuracy: 0.9750\n",
      "Epoch 15/20\n",
      "25/25 [==============================] - 11s 458ms/step - loss: 0.0082 - accuracy: 0.9981 - val_loss: 0.1814 - val_accuracy: 0.9650\n",
      "Epoch 16/20\n",
      "25/25 [==============================] - 9s 374ms/step - loss: 0.0017 - accuracy: 1.0000 - val_loss: 0.1392 - val_accuracy: 0.9750\n",
      "Epoch 17/20\n",
      "25/25 [==============================] - 13s 535ms/step - loss: 8.4837e-04 - accuracy: 1.0000 - val_loss: 0.1476 - val_accuracy: 0.9725\n",
      "Epoch 18/20\n",
      "25/25 [==============================] - 11s 434ms/step - loss: 6.7288e-04 - accuracy: 1.0000 - val_loss: 0.1613 - val_accuracy: 0.9675\n",
      "Epoch 19/20\n",
      "25/25 [==============================] - 13s 530ms/step - loss: 5.4239e-04 - accuracy: 1.0000 - val_loss: 0.1773 - val_accuracy: 0.9675\n",
      "Epoch 20/20\n",
      "25/25 [==============================] - 18s 706ms/step - loss: 4.5405e-04 - accuracy: 1.0000 - val_loss: 0.1811 - val_accuracy: 0.9675\n"
     ]
    },
    {
     "data": {
      "text/plain": [
       "<keras.src.callbacks.History at 0x7a7f1938b040>"
      ]
     },
     "execution_count": 42,
     "metadata": {},
     "output_type": "execute_result"
    }
   ],
   "source": [
    "base_rnn = BaseRNN(cell_type=\"lstm\", embed_size=128, state_sizes=[64, 128], data_manager=dm)\n",
    "base_rnn.build()\n",
    "opt = tf.keras.optimizers.RMSprop(learning_rate=0.001)\n",
    "base_rnn.compile_model(optimizer=opt, loss='sparse_categorical_crossentropy', metrics=['accuracy'])\n",
    "base_rnn.fit(dm.tf_train_set.batch(64), epochs=20, validation_data=dm.tf_valid_set.batch(64))"
   ]
  },
  {
   "cell_type": "markdown",
   "metadata": {
    "id": "rR2cwLs1lx-T"
   },
   "source": [
    "#### <span style=\"color:red\">**Question 3.1.5**</span>\n",
    "**Write code to conduct experiments to compare the accuracies of RNNs with the three different cell types using 2 different lists of `state_sizes` (while the other hyperparameters are fixed). Specifically, for each `state_sizes = [...]`, you should report the accuracies of RNNs with simple RNN ('simple_rnn') cell, GRU ('gru') cell, and LSTM ('lstm') cell. Give your comments on the results.**\n",
    "<div style=\"text-align: right\"><span style=\"color:red\">[2 marks]</span></div>"
   ]
  },
  {
   "cell_type": "code",
   "execution_count": null,
   "metadata": {
    "colab": {
     "base_uri": "https://localhost:8080/"
    },
    "id": "fsflNCK8lx-T",
    "outputId": "feb254b2-c2d4-4f95-ed2b-674c13312ec4"
   },
   "outputs": [
    {
     "name": "stdout",
     "output_type": "stream",
     "text": [
      "============================Model 1 / 6==========================\n",
      "Epoch 1/20\n",
      "25/25 [==============================] - 8s 227ms/step - loss: 0.8544 - accuracy: 0.7031 - val_loss: 0.2839 - val_accuracy: 0.9125\n",
      "Epoch 2/20\n",
      "25/25 [==============================] - 3s 116ms/step - loss: 0.1688 - accuracy: 0.9513 - val_loss: 0.1368 - val_accuracy: 0.9575\n",
      "Epoch 3/20\n",
      "25/25 [==============================] - 4s 161ms/step - loss: 0.0848 - accuracy: 0.9731 - val_loss: 0.1578 - val_accuracy: 0.9425\n",
      "Epoch 4/20\n",
      "25/25 [==============================] - 3s 115ms/step - loss: 0.0490 - accuracy: 0.9869 - val_loss: 0.1603 - val_accuracy: 0.9450\n",
      "Epoch 5/20\n",
      "25/25 [==============================] - 3s 109ms/step - loss: 0.0470 - accuracy: 0.9837 - val_loss: 0.0972 - val_accuracy: 0.9725\n",
      "Epoch 6/20\n",
      "25/25 [==============================] - 3s 110ms/step - loss: 0.0107 - accuracy: 0.9975 - val_loss: 0.0957 - val_accuracy: 0.9650\n",
      "Epoch 7/20\n",
      "25/25 [==============================] - 3s 109ms/step - loss: 0.0239 - accuracy: 0.9925 - val_loss: 0.1033 - val_accuracy: 0.9650\n",
      "Epoch 8/20\n",
      "25/25 [==============================] - 3s 113ms/step - loss: 0.0047 - accuracy: 1.0000 - val_loss: 0.0937 - val_accuracy: 0.9650\n",
      "Epoch 9/20\n",
      "25/25 [==============================] - 3s 125ms/step - loss: 0.0020 - accuracy: 1.0000 - val_loss: 0.1114 - val_accuracy: 0.9650\n",
      "Epoch 10/20\n",
      "25/25 [==============================] - 3s 113ms/step - loss: 0.0011 - accuracy: 1.0000 - val_loss: 0.1075 - val_accuracy: 0.9650\n",
      "Epoch 11/20\n",
      "25/25 [==============================] - 3s 116ms/step - loss: 0.0018 - accuracy: 0.9994 - val_loss: 0.1165 - val_accuracy: 0.9625\n",
      "============================Model 2 / 6==========================\n",
      "Epoch 1/20\n",
      "25/25 [==============================] - 7s 176ms/step - loss: 1.0117 - accuracy: 0.6513 - val_loss: 0.4036 - val_accuracy: 0.9050\n",
      "Epoch 2/20\n",
      "25/25 [==============================] - 3s 120ms/step - loss: 0.2089 - accuracy: 0.9494 - val_loss: 0.2979 - val_accuracy: 0.8900\n",
      "Epoch 3/20\n",
      "25/25 [==============================] - 4s 146ms/step - loss: 0.1009 - accuracy: 0.9706 - val_loss: 0.3978 - val_accuracy: 0.8650\n",
      "Epoch 4/20\n",
      "25/25 [==============================] - 3s 121ms/step - loss: 0.0557 - accuracy: 0.9881 - val_loss: 0.1219 - val_accuracy: 0.9625\n",
      "Epoch 5/20\n",
      "25/25 [==============================] - 3s 120ms/step - loss: 0.0295 - accuracy: 0.9937 - val_loss: 0.1057 - val_accuracy: 0.9675\n",
      "Epoch 6/20\n",
      "25/25 [==============================] - 4s 161ms/step - loss: 0.0549 - accuracy: 0.9837 - val_loss: 0.1108 - val_accuracy: 0.9575\n",
      "Epoch 7/20\n",
      "25/25 [==============================] - 3s 115ms/step - loss: 0.0071 - accuracy: 0.9994 - val_loss: 0.0871 - val_accuracy: 0.9625\n",
      "Epoch 8/20\n",
      "25/25 [==============================] - 3s 121ms/step - loss: 0.0034 - accuracy: 1.0000 - val_loss: 0.1016 - val_accuracy: 0.9600\n",
      "Epoch 9/20\n",
      "25/25 [==============================] - 3s 116ms/step - loss: 0.0016 - accuracy: 1.0000 - val_loss: 0.1238 - val_accuracy: 0.9675\n",
      "Epoch 10/20\n",
      "25/25 [==============================] - 3s 120ms/step - loss: 9.0487e-04 - accuracy: 1.0000 - val_loss: 0.2003 - val_accuracy: 0.9625\n",
      "============================Model 3 / 6==========================\n",
      "Epoch 1/20\n",
      "25/25 [==============================] - 45s 451ms/step - loss: 1.6793 - accuracy: 0.2506 - val_loss: 1.6190 - val_accuracy: 0.2675\n",
      "Epoch 2/20\n",
      "25/25 [==============================] - 8s 331ms/step - loss: 1.4721 - accuracy: 0.3644 - val_loss: 1.0359 - val_accuracy: 0.5725\n",
      "Epoch 3/20\n",
      "25/25 [==============================] - 12s 477ms/step - loss: 0.6006 - accuracy: 0.7681 - val_loss: 0.3480 - val_accuracy: 0.9175\n",
      "Epoch 4/20\n",
      "25/25 [==============================] - 14s 587ms/step - loss: 0.1873 - accuracy: 0.9544 - val_loss: 0.2248 - val_accuracy: 0.9525\n",
      "Epoch 5/20\n",
      "25/25 [==============================] - 16s 660ms/step - loss: 0.0666 - accuracy: 0.9881 - val_loss: 0.2082 - val_accuracy: 0.9450\n",
      "Epoch 6/20\n",
      "25/25 [==============================] - 11s 416ms/step - loss: 0.0511 - accuracy: 0.9912 - val_loss: 0.2127 - val_accuracy: 0.9475\n",
      "Epoch 7/20\n",
      "25/25 [==============================] - 9s 356ms/step - loss: 0.0182 - accuracy: 0.9950 - val_loss: 0.2015 - val_accuracy: 0.9525\n",
      "Epoch 8/20\n",
      "25/25 [==============================] - 10s 406ms/step - loss: 0.0140 - accuracy: 0.9962 - val_loss: 0.1858 - val_accuracy: 0.9600\n",
      "Epoch 9/20\n",
      "25/25 [==============================] - 8s 327ms/step - loss: 0.0225 - accuracy: 0.9950 - val_loss: 0.1946 - val_accuracy: 0.9550\n",
      "Epoch 10/20\n",
      "25/25 [==============================] - 8s 316ms/step - loss: 0.0041 - accuracy: 0.9994 - val_loss: 0.2076 - val_accuracy: 0.9500\n",
      "Epoch 11/20\n",
      "25/25 [==============================] - 9s 356ms/step - loss: 0.0028 - accuracy: 0.9994 - val_loss: 0.2458 - val_accuracy: 0.9475\n",
      "============================Model 4 / 6==========================\n",
      "Epoch 1/20\n",
      "25/25 [==============================] - 20s 484ms/step - loss: 1.6764 - accuracy: 0.2612 - val_loss: 1.6085 - val_accuracy: 0.2575\n",
      "Epoch 2/20\n",
      "25/25 [==============================] - 8s 313ms/step - loss: 1.2336 - accuracy: 0.5437 - val_loss: 0.8079 - val_accuracy: 0.7250\n",
      "Epoch 3/20\n",
      "25/25 [==============================] - 10s 386ms/step - loss: 0.5731 - accuracy: 0.8269 - val_loss: 0.4291 - val_accuracy: 0.8675\n",
      "Epoch 4/20\n",
      "25/25 [==============================] - 9s 351ms/step - loss: 0.1956 - accuracy: 0.9456 - val_loss: 0.3176 - val_accuracy: 0.8825\n",
      "Epoch 5/20\n",
      "25/25 [==============================] - 9s 369ms/step - loss: 0.0922 - accuracy: 0.9725 - val_loss: 0.2261 - val_accuracy: 0.9225\n",
      "Epoch 6/20\n",
      "25/25 [==============================] - 9s 366ms/step - loss: 0.0606 - accuracy: 0.9825 - val_loss: 0.1839 - val_accuracy: 0.9425\n",
      "Epoch 7/20\n",
      "25/25 [==============================] - 8s 317ms/step - loss: 0.0267 - accuracy: 0.9962 - val_loss: 0.1920 - val_accuracy: 0.9400\n",
      "Epoch 8/20\n",
      "25/25 [==============================] - 9s 373ms/step - loss: 0.0180 - accuracy: 0.9969 - val_loss: 0.1992 - val_accuracy: 0.9400\n",
      "Epoch 9/20\n",
      "25/25 [==============================] - 9s 371ms/step - loss: 0.0110 - accuracy: 0.9975 - val_loss: 0.1979 - val_accuracy: 0.9500\n",
      "============================Model 5 / 6==========================\n",
      "Epoch 1/20\n",
      "25/25 [==============================] - 20s 482ms/step - loss: 1.6683 - accuracy: 0.2769 - val_loss: 1.4696 - val_accuracy: 0.3600\n",
      "Epoch 2/20\n",
      "25/25 [==============================] - 9s 342ms/step - loss: 0.9723 - accuracy: 0.6619 - val_loss: 0.6427 - val_accuracy: 0.8075\n",
      "Epoch 3/20\n",
      "25/25 [==============================] - 9s 344ms/step - loss: 0.5354 - accuracy: 0.8206 - val_loss: 0.4869 - val_accuracy: 0.8500\n",
      "Epoch 4/20\n",
      "25/25 [==============================] - 10s 395ms/step - loss: 0.3719 - accuracy: 0.8806 - val_loss: 0.4189 - val_accuracy: 0.8675\n",
      "Epoch 5/20\n",
      "25/25 [==============================] - 10s 394ms/step - loss: 0.2280 - accuracy: 0.9281 - val_loss: 0.3329 - val_accuracy: 0.9000\n",
      "Epoch 6/20\n",
      "25/25 [==============================] - 10s 395ms/step - loss: 0.1436 - accuracy: 0.9712 - val_loss: 0.2007 - val_accuracy: 0.9375\n",
      "Epoch 7/20\n",
      "25/25 [==============================] - 9s 344ms/step - loss: 0.0934 - accuracy: 0.9769 - val_loss: 0.1937 - val_accuracy: 0.9475\n",
      "Epoch 8/20\n",
      "25/25 [==============================] - 9s 343ms/step - loss: 0.0473 - accuracy: 0.9925 - val_loss: 0.1497 - val_accuracy: 0.9575\n",
      "Epoch 9/20\n",
      "25/25 [==============================] - 11s 455ms/step - loss: 0.0597 - accuracy: 0.9844 - val_loss: 0.1607 - val_accuracy: 0.9500\n",
      "Epoch 10/20\n",
      "25/25 [==============================] - 11s 432ms/step - loss: 0.0171 - accuracy: 0.9969 - val_loss: 0.1558 - val_accuracy: 0.9575\n",
      "Epoch 11/20\n",
      "25/25 [==============================] - 18s 709ms/step - loss: 0.0161 - accuracy: 0.9975 - val_loss: 0.1612 - val_accuracy: 0.9575\n",
      "============================Model 6 / 6==========================\n",
      "Epoch 1/20\n",
      "25/25 [==============================] - 25s 674ms/step - loss: 1.6448 - accuracy: 0.2925 - val_loss: 1.3312 - val_accuracy: 0.5425\n",
      "Epoch 2/20\n",
      "25/25 [==============================] - 14s 586ms/step - loss: 0.8557 - accuracy: 0.7431 - val_loss: 0.4056 - val_accuracy: 0.9200\n",
      "Epoch 3/20\n",
      "25/25 [==============================] - 13s 537ms/step - loss: 0.2841 - accuracy: 0.9337 - val_loss: 0.2050 - val_accuracy: 0.9450\n",
      "Epoch 4/20\n",
      "25/25 [==============================] - 16s 633ms/step - loss: 0.1420 - accuracy: 0.9594 - val_loss: 0.1508 - val_accuracy: 0.9525\n",
      "Epoch 5/20\n",
      "25/25 [==============================] - 11s 439ms/step - loss: 0.0909 - accuracy: 0.9781 - val_loss: 0.1420 - val_accuracy: 0.9625\n",
      "Epoch 6/20\n",
      "25/25 [==============================] - 11s 422ms/step - loss: 0.0635 - accuracy: 0.9844 - val_loss: 0.1148 - val_accuracy: 0.9675\n",
      "Epoch 7/20\n",
      "25/25 [==============================] - 14s 554ms/step - loss: 0.0316 - accuracy: 0.9925 - val_loss: 0.1110 - val_accuracy: 0.9675\n",
      "Epoch 8/20\n",
      "25/25 [==============================] - 19s 790ms/step - loss: 0.0233 - accuracy: 0.9950 - val_loss: 0.1003 - val_accuracy: 0.9700\n",
      "Epoch 9/20\n",
      "25/25 [==============================] - 18s 710ms/step - loss: 0.0292 - accuracy: 0.9937 - val_loss: 0.1245 - val_accuracy: 0.9650\n",
      "Epoch 10/20\n",
      "25/25 [==============================] - 16s 635ms/step - loss: 0.0098 - accuracy: 0.9975 - val_loss: 0.1088 - val_accuracy: 0.9700\n",
      "Epoch 11/20\n",
      "25/25 [==============================] - 17s 661ms/step - loss: 0.0132 - accuracy: 0.9969 - val_loss: 0.1114 - val_accuracy: 0.9725\n"
     ]
    }
   ],
   "source": [
    "# Insert your code here\n",
    "state_sizes_options = [[64, 128], [128, 64]]\n",
    "cell_type_options = [\"simple_rnn\", \"gru\", \"lstm\"]\n",
    "early_stopping = tf.keras.callbacks.EarlyStopping(monitor='val_loss', patience=3)\n",
    "\n",
    "hists = []\n",
    "i = 0\n",
    "\n",
    "for cell_type in cell_type_options:\n",
    "    for state_sizes in state_sizes_options:\n",
    "        print(f\"============================Model {i+1} / 6==========================\")\n",
    "        base_rnn = BaseRNN(cell_type=cell_type, embed_size=128, state_sizes=state_sizes, data_manager=dm)\n",
    "        base_rnn.build()\n",
    "        opt = tf.keras.optimizers.RMSprop(learning_rate=0.001)\n",
    "        base_rnn.compile_model(optimizer=opt, loss='sparse_categorical_crossentropy', metrics=['accuracy'])\n",
    "        hist = base_rnn.fit(dm.tf_train_set.batch(64), epochs=20, validation_data=dm.tf_valid_set.batch(64), callbacks=[early_stopping])\n",
    "        hists.append(hist)\n",
    "        i += 1"
   ]
  },
  {
   "cell_type": "code",
   "execution_count": null,
   "metadata": {
    "id": "jwBvUR2pzoxj"
   },
   "outputs": [],
   "source": [
    "import itertools"
   ]
  },
  {
   "cell_type": "code",
   "execution_count": null,
   "metadata": {
    "id": "TC-oyUo6XiI2"
   },
   "outputs": [],
   "source": [
    "def plot_accuracy(options: list[str], hists):\n",
    "  \"\"\"options must be a list of options\"\"\"\n",
    "  for i in range(len(options)):\n",
    "    option = options[i]\n",
    "    acc_hist = hists[i].history[\"val_accuracy\"]\n",
    "    plt.plot(acc_hist, label=option)\n",
    "\n",
    "  plt.legend()\n",
    "\n",
    "def compare_last_acc(options, hists):\n",
    "    accs = [max(hist.history[\"val_accuracy\"]) for hist in hists]\n",
    "    plt.scatter(options, accs)\n",
    "    plt.xticks(rotation=90)"
   ]
  },
  {
   "cell_type": "code",
   "execution_count": null,
   "metadata": {
    "colab": {
     "base_uri": "https://localhost:8080/",
     "height": 431
    },
    "id": "0ItGZQeHlx-T",
    "outputId": "233df426-05c9-4291-b4e7-9998e3fdd959"
   },
   "outputs": [
    {
     "data": {
      "image/png": "[encoded data removed]",
      "text/plain": [
       "<Figure size 640x480 with 1 Axes>"
      ]
     },
     "metadata": {},
     "output_type": "display_data"
    }
   ],
   "source": [
    "plot_accuracy([str(x) for x in list(itertools.product(cell_type_options, state_sizes_options))], hists)"
   ]
  },
  {
   "cell_type": "code",
   "execution_count": null,
   "metadata": {
    "colab": {
     "base_uri": "https://localhost:8080/",
     "height": 583
    },
    "id": "UMciTi47cKt4",
    "outputId": "6b66c96e-9a90-403b-c069-03928e9636b6"
   },
   "outputs": [
    {
     "data": {
      "image/png": "[encoded data removed]",
      "text/plain": [
       "<Figure size 640x480 with 1 Axes>"
      ]
     },
     "metadata": {},
     "output_type": "display_data"
    }
   ],
   "source": [
    "compare_last_acc([str(x) for x in list(itertools.product(cell_type_options, state_sizes_options))], hists)"
   ]
  },
  {
   "cell_type": "markdown",
   "metadata": {
    "id": "NN8oJvK5lx-U"
   },
   "source": [
    "\\# Give your comments on the results here (maximum 150 words)\n",
    "\n",
    "It seems that LSTM with hidden states of [128, 64] has the highest validation accuracy. This makes sense because LSTM has a cell dedicated to long-term memory, unlike SimpleRNN. The fact that the state sizes of [128, 64] is better than [64, 128] overall makes sense as well because a smaller hidden nodes at earlier layers become a bottleneck and only a limited amount of information can be propagated afterwards."
   ]
  },
  {
   "cell_type": "markdown",
   "metadata": {
    "id": "H_aT3Hz1lx-U"
   },
   "source": [
    "### <span style=\"color:#0b486b\">3.2. RNNs with fine-tuning embedding matrix</span> ###\n",
    "\n",
    "<div style=\"text-align: right\"><span style=\"color:red; font-weight:bold\">[Total marks for this part: 8 marks]<span></div>"
   ]
  },
  {
   "cell_type": "markdown",
   "metadata": {
    "id": "inV88U1-lx-U"
   },
   "source": [
    "#### <span style=\"color:red\">**Question 3.2.1**</span>\n",
    "\n",
    "**In what follows, you are required to extend the class BaseRNN in Part 3.1 to achieve a class RNN in which the embedding matrix can be initialized using a pretrained Word2Vect.**\n",
    "\n",
    "**Below are the descriptions of the attributes of the class *RNN*:**\n",
    "- `run_mode (self.run_mode)` has three values (scratch, init-only, and init-fine-tune).\n",
    "  - `scratch` means training the embedding matrix from scratch.\n",
    "  - `init-only` means only initializing the embedding matrix with a pretrained Word2Vect but **not further doing** fine-tuning that matrix.\n",
    "  - `init-fine-tune` means both initializing the embedding matrix with a pretrained Word2Vect and **further doing** fine-tuning that matrix.\n",
    "- `cell_type (self.cell_type)` has three values (simple-rnn, gru, and lstm) which specify the memory cell used in the network.\n",
    "- `embed_model (self.embed_model)` specifes the pretrained Word2Vect model used.\n",
    "-  `embed_size (self.embed_size)` specifes the embedding size. Note that when run_mode is either 'init-only' or 'init-fine-tune', this embedding size is extracted from embed_model for dimension compatability.\n",
    "- `state_sizes (self.state_sizes)` indicates the list of the hidden sizes  of memory cells. For example, $state\\_sizes = [64, 128]$ means that you have two hidden layers in your network with hidden sizes of $64$ and $128$ respectively.\n",
    "\n",
    "**Complete the code of the class *RNN*.**\n",
    "\n",
    "<div style=\"text-align: right\"><span style=\"color:red\">[6 marks]</span></div>"
   ]
  },
  {
   "cell_type": "code",
   "execution_count": 8,
   "metadata": {
    "id": "kkREn_yvlx-U"
   },
   "outputs": [],
   "source": [
    "class RNN(BaseRNN):\n",
    "    def __init__(self, run_mode='scratch', embed_model='glove-wiki-gigaword-100', **kwargs):\n",
    "        super().__init__(**kwargs)\n",
    "        self.run_mode = run_mode\n",
    "        self.embed_model = embed_model\n",
    "        if self.run_mode != 'scratch':\n",
    "            self.embed_size = int(self.embed_model.split(\"-\")[-1])\n",
    "        self.word2idx = dm.word2idx\n",
    "        self.word2vect = None\n",
    "        self.embed_matrix = np.zeros(shape=[self.vocab_size, self.embed_size])\n",
    "\n",
    "    def build_embedding_matrix(self):\n",
    "        # get model\n",
    "        try:\n",
    "          model = word2vect\n",
    "        except:\n",
    "          model = api.load(self.embed_model)\n",
    "\n",
    "        for idx, word in self.data_manager.idx2word.items():\n",
    "            try:\n",
    "                word_embedding = model.get_vector(word)\n",
    "            except:\n",
    "                continue\n",
    "            self.embed_matrix[idx, :] = word_embedding\n",
    "\n",
    "\n",
    "    def build(self):\n",
    "        # Insert your code here to override the 'build' method of BaseRNN\n",
    "        if self.run_mode == \"init-fine-tune\":\n",
    "            self.build_embedding_matrix()\n",
    "            embedding_layer = tf.keras.layers.Embedding(self.data_manager.vocab_size +1, self.embed_size, mask_zero=True, weights=[self.embed_matrix])\n",
    "        elif self.run_mode == \"init-only\":\n",
    "            self.build_embedding_matrix()\n",
    "            embedding_layer = tf.keras.layers.Embedding(self.data_manager.vocab_size +1, self.embed_size, mask_zero=True, weights=[self.embed_matrix], trainable=False)\n",
    "\n",
    "        else:\n",
    "            embedding_layer = tf.keras.layers.Embedding(self.data_manager.vocab_size +1, self.embed_size, mask_zero=True)\n",
    "\n",
    "        x = tf.keras.layers.Input(shape=[None])\n",
    "        h = embedding_layer(x)\n",
    "        num_layers = len(self.state_sizes)\n",
    "        for i in range(num_layers):\n",
    "            return_sequences = i != num_layers-1  # i.e. not the last rnn layer\n",
    "            h = BaseRNN.get_layer(cell_type=self.cell_type, state_size=self.state_sizes[i], return_sequences=return_sequences)(h)\n",
    "        h = tf.keras.layers.Dense(self.data_manager.num_classes, activation='softmax')(h)\n",
    "        self.model = tf.keras.Model(inputs=x, outputs=h)\n",
    "\n",
    "\n",
    "    def compile_model(self, *args, **kwargs):\n",
    "        self.model.compile(*args, **kwargs)\n",
    "\n",
    "    def fit(self, *args, **kwargs):\n",
    "        return self.model.fit(*args, **kwargs)\n",
    "\n",
    "    def evaluate(self, *args, **kwargs):\n",
    "        self.model.evaluate(*args, **kwargs)"
   ]
  },
  {
   "cell_type": "markdown",
   "metadata": {
    "id": "92aqSBlVlx-V"
   },
   "source": [
    "#### <span style=\"color:red\">**Question 3.2.2**</span>\n",
    "\n",
    "**Write code to conduct experiments to compare three running modes for the embedding matrix. Note that you should stick with fixed values for other attributes and only vary *run_mode*. Give your comments on the results.**\n",
    "\n",
    "<div style=\"text-align: right\"><span style=\"color:red\">[2 marks]</span></div>"
   ]
  },
  {
   "cell_type": "code",
   "execution_count": null,
   "metadata": {
    "colab": {
     "base_uri": "https://localhost:8080/"
    },
    "id": "j29y7nCRlx-V",
    "outputId": "a369f16b-a79e-407a-d251-711fc3791d34"
   },
   "outputs": [
    {
     "name": "stdout",
     "output_type": "stream",
     "text": [
      "Epoch 1/20\n",
      "25/25 [==============================] - 26s 657ms/step - loss: 1.6772 - accuracy: 0.2956 - val_loss: 1.4886 - val_accuracy: 0.4475\n",
      "Epoch 2/20\n",
      "25/25 [==============================] - 15s 616ms/step - loss: 1.0297 - accuracy: 0.6375 - val_loss: 0.6659 - val_accuracy: 0.7850\n",
      "Epoch 3/20\n",
      "25/25 [==============================] - 13s 543ms/step - loss: 0.4738 - accuracy: 0.8662 - val_loss: 0.3535 - val_accuracy: 0.9100\n",
      "Epoch 4/20\n",
      "25/25 [==============================] - 17s 698ms/step - loss: 0.2135 - accuracy: 0.9494 - val_loss: 0.2118 - val_accuracy: 0.9475\n",
      "Epoch 5/20\n",
      "25/25 [==============================] - 15s 605ms/step - loss: 0.1389 - accuracy: 0.9650 - val_loss: 0.1838 - val_accuracy: 0.9375\n",
      "Epoch 6/20\n",
      "25/25 [==============================] - 16s 669ms/step - loss: 0.1026 - accuracy: 0.9787 - val_loss: 0.1612 - val_accuracy: 0.9375\n",
      "Epoch 7/20\n",
      "25/25 [==============================] - 14s 552ms/step - loss: 0.0724 - accuracy: 0.9825 - val_loss: 0.1267 - val_accuracy: 0.9650\n",
      "Epoch 8/20\n",
      "25/25 [==============================] - 17s 675ms/step - loss: 0.0509 - accuracy: 0.9875 - val_loss: 0.1434 - val_accuracy: 0.9575\n",
      "Epoch 9/20\n",
      "25/25 [==============================] - 15s 595ms/step - loss: 0.0418 - accuracy: 0.9912 - val_loss: 0.1300 - val_accuracy: 0.9600\n",
      "Epoch 10/20\n",
      "25/25 [==============================] - 16s 648ms/step - loss: 0.0314 - accuracy: 0.9912 - val_loss: 0.1461 - val_accuracy: 0.9500\n",
      "100\n",
      "Epoch 1/20\n",
      "25/25 [==============================] - 21s 499ms/step - loss: 1.2554 - accuracy: 0.5344 - val_loss: 0.7006 - val_accuracy: 0.8025\n",
      "Epoch 2/20\n",
      "25/25 [==============================] - 10s 418ms/step - loss: 0.4875 - accuracy: 0.8494 - val_loss: 0.2588 - val_accuracy: 0.9225\n",
      "Epoch 3/20\n",
      "25/25 [==============================] - 10s 397ms/step - loss: 0.2724 - accuracy: 0.9150 - val_loss: 0.1756 - val_accuracy: 0.9375\n",
      "Epoch 4/20\n",
      "25/25 [==============================] - 9s 347ms/step - loss: 0.1767 - accuracy: 0.9431 - val_loss: 0.1310 - val_accuracy: 0.9575\n",
      "Epoch 5/20\n",
      "25/25 [==============================] - 9s 369ms/step - loss: 0.1350 - accuracy: 0.9544 - val_loss: 0.1150 - val_accuracy: 0.9525\n",
      "Epoch 6/20\n",
      "25/25 [==============================] - 11s 425ms/step - loss: 0.1137 - accuracy: 0.9656 - val_loss: 0.1291 - val_accuracy: 0.9450\n",
      "Epoch 7/20\n",
      "25/25 [==============================] - 10s 404ms/step - loss: 0.0929 - accuracy: 0.9669 - val_loss: 0.1451 - val_accuracy: 0.9450\n",
      "Epoch 8/20\n",
      "25/25 [==============================] - 10s 396ms/step - loss: 0.0711 - accuracy: 0.9781 - val_loss: 0.0926 - val_accuracy: 0.9675\n",
      "Epoch 9/20\n",
      "25/25 [==============================] - 9s 372ms/step - loss: 0.0803 - accuracy: 0.9731 - val_loss: 0.1007 - val_accuracy: 0.9600\n",
      "Epoch 10/20\n",
      "25/25 [==============================] - 10s 410ms/step - loss: 0.0559 - accuracy: 0.9850 - val_loss: 0.1029 - val_accuracy: 0.9650\n",
      "Epoch 11/20\n",
      "25/25 [==============================] - 11s 424ms/step - loss: 0.0545 - accuracy: 0.9825 - val_loss: 0.0940 - val_accuracy: 0.9625\n",
      "100\n",
      "Epoch 1/20\n",
      "25/25 [==============================] - 21s 535ms/step - loss: 1.1971 - accuracy: 0.5562 - val_loss: 0.6140 - val_accuracy: 0.7900\n",
      "Epoch 2/20\n",
      "25/25 [==============================] - 11s 429ms/step - loss: 0.3810 - accuracy: 0.8900 - val_loss: 0.2775 - val_accuracy: 0.9150\n",
      "Epoch 3/20\n",
      "25/25 [==============================] - 10s 408ms/step - loss: 0.1872 - accuracy: 0.9456 - val_loss: 0.2208 - val_accuracy: 0.9050\n",
      "Epoch 4/20\n",
      "25/25 [==============================] - 11s 438ms/step - loss: 0.1323 - accuracy: 0.9513 - val_loss: 0.1649 - val_accuracy: 0.9375\n",
      "Epoch 5/20\n",
      "25/25 [==============================] - 11s 454ms/step - loss: 0.1041 - accuracy: 0.9663 - val_loss: 0.0885 - val_accuracy: 0.9675\n",
      "Epoch 6/20\n",
      "25/25 [==============================] - 11s 425ms/step - loss: 0.0690 - accuracy: 0.9781 - val_loss: 0.0873 - val_accuracy: 0.9700\n",
      "Epoch 7/20\n",
      "25/25 [==============================] - 11s 453ms/step - loss: 0.0656 - accuracy: 0.9781 - val_loss: 0.1655 - val_accuracy: 0.9375\n",
      "Epoch 8/20\n",
      "25/25 [==============================] - 11s 455ms/step - loss: 0.0519 - accuracy: 0.9812 - val_loss: 0.1084 - val_accuracy: 0.9600\n",
      "Epoch 9/20\n",
      "25/25 [==============================] - 10s 402ms/step - loss: 0.0462 - accuracy: 0.9862 - val_loss: 0.1286 - val_accuracy: 0.9525\n"
     ]
    }
   ],
   "source": [
    "run_mode_options = [\"scratch\", \"init-only\", \"init-fine-tune\"]\n",
    "early_stopping = tf.keras.callbacks.EarlyStopping(monitor='val_loss', patience=3)\n",
    "\n",
    "hists = []\n",
    "\n",
    "for run_mode in run_mode_options:\n",
    "\n",
    "    rnn = RNN(run_mode=run_mode, cell_type=\"lstm\", embed_size=128, state_sizes=[128, 64], data_manager=dm)\n",
    "    rnn.build()\n",
    "    opt = tf.keras.optimizers.RMSprop(learning_rate=0.001)\n",
    "    rnn.compile_model(optimizer=opt, loss='sparse_categorical_crossentropy', metrics=['accuracy'])\n",
    "    hist = rnn.fit(dm.tf_train_set.batch(64), epochs=20, validation_data=dm.tf_valid_set.batch(64), callbacks=[early_stopping])\n",
    "    hists.append(hist)"
   ]
  },
  {
   "cell_type": "code",
   "execution_count": null,
   "metadata": {
    "colab": {
     "base_uri": "https://localhost:8080/",
     "height": 430
    },
    "id": "ImOEXDIxVlPB",
    "outputId": "6fa94e87-4f02-4ce1-f53d-f54d46a58bd5"
   },
   "outputs": [
    {
     "data": {
      "image/png": "[encoded data removed]",
      "text/plain": [
       "<Figure size 640x480 with 1 Axes>"
      ]
     },
     "metadata": {},
     "output_type": "display_data"
    }
   ],
   "source": [
    "plot_accuracy(run_mode_options, hists)"
   ]
  },
  {
   "cell_type": "code",
   "execution_count": null,
   "metadata": {
    "colab": {
     "base_uri": "https://localhost:8080/",
     "height": 505
    },
    "id": "ICrpI9dU6p_j",
    "outputId": "767b1a6a-7a6e-4311-c2bc-7dda2042736e"
   },
   "outputs": [
    {
     "data": {
      "image/png": "[encoded data removed]",
      "text/plain": [
       "<Figure size 640x480 with 1 Axes>"
      ]
     },
     "metadata": {},
     "output_type": "display_data"
    }
   ],
   "source": [
    "compare_last_acc(run_mode_options, hists)"
   ]
  },
  {
   "cell_type": "markdown",
   "metadata": {
    "id": "tJp8stxBlx-V"
   },
   "source": [
    "\\# Give your comments on the results here (maximum 150 words)\n",
    "\n",
    "We see that the model created with init-fine-tune model has the highest accuracy of 0.970. Interestingly, the init-only-mode model has the higher accuracy than the scatch-mode model. We also see that both initi-only mode and init-fine-tune mode lead to a high accuracy from the first epoch and faster convergence, indicating that using the pre-trained embeddings is useful."
   ]
  },
  {
   "cell_type": "markdown",
   "metadata": {
    "id": "J2D5n5C2lx-V"
   },
   "source": [
    "### <span style=\"color:#0b486b\">3.3. RNNs with Attention for Text and Sequence Classification</span> ###\n",
    "\n",
    "**In what follows, you are required to implement a RNN with the attention mechanism for text and sequence classification. This attention mechanism is applied at the last hidden layer of our RNN. Specifically, let $\\textbf{h}_1^L, \\textbf{h}_2^L,...,\\textbf{h}_{T-1}^L, \\textbf{h}_T^L$ be the hidden states at the last hidden layer $L$ where $T$ is the sequence length. We compute the context vector $\\textbf{c}$ as $\\textbf{c}=\\sum_{i=1}^{T}\\textbf{a}_{i}\\textbf{h}_{i}^L$ where $\\textbf{a}_1,...,\\textbf{a}_T$ are the alignment weights (i.e., $\\textbf{a}_i\\geq 0$ and $\\sum_{i=1}^{T}\\textbf{a}_{i}=1$).**\n",
    "\n",
    "**The alignment weights are computed as follows:**\n",
    "- $\\textbf{a}=[\\textbf{a}_{i}]_{i=1}^{T}=\\text{softmax}(\\textbf{s})$ where $\\textbf{s}= [\\textbf{s}_{i}]_{i=1}^{T}$ consists of the alignment scores.\n",
    "- The alignment scores are computed as $\\textbf{s}=\\text{tanh}(\\textbf{h}^LU)V$ where $\\textbf{h}^L=\\left[\\begin{array}{c}\n",
    "\\textbf{h}_{1}^L\\\\\n",
    "\\textbf{h}_{2}^L\\\\\n",
    "...\\\\\n",
    "\\textbf{h}_{T-1}^L\\\\\n",
    "\\textbf{h}_{T}^L\n",
    "\\end{array}\\right]\\in\\mathbb{R}^{T\\times state\\_size_{L}}$, $U\\in\\mathbb{R}^{state\\_size_{L}\\times output\\_length}$, $V\\in\\mathbb{R}^{output\\_length\\times1}$, and $output\\_length$ is a hyperparameter. Note that if we consider a mini-batch, the shape of $\\textbf{h}^L$ is $(batch\\_size, T, state\\_size_L)$ where $state\\_size_L$ is the hidden size of the last hidden layer. The figure on the right below illustrates the process of calculating a score $\\textbf{s}_i$ for an individual hidden state $\\textbf{h}_i^L$. Weight matrices $U$ and $V$ are shared across the hidden states $\\textbf{h}_1^L,\\textbf{h}_2^L,\\dots,\\textbf{h}_T^L$.\n",
    "\n",
    "**After having the context vector $\\textbf{c}$, we concatenate with the last hidden state $\\textbf{h}_T^L$. On top of this concatenation, we conduct the output layer with the softmax activation.**\n",
    "\n",
    "<img src=\"./images/attentionRNN.png\" align=\"center\" width=700/>\n",
    "\n",
    "<div style=\"text-align: right\"><span style=\"color:red; font-weight:bold\">[Total marks for this part: 12 marks]<span></div>"
   ]
  },
  {
   "cell_type": "markdown",
   "metadata": {
    "id": "ejTSHGYHlx-V"
   },
   "source": [
    "#### <span style=\"color:red\">**Question 3.3.1**</span>\n",
    "\n",
    "**We declare the  layer `MyAttention` as a class inherited from `tf.keras.layers.Layer` to realize our attention mechanism. You are required to provide the code for this class. Note that in the `def call(self, all_states, last_state)` method, `all_states` is the collection of all hidden states and `last_state` is the last hidden state.**\n",
    "\n",
    "<div style=\"text-align: right\"><span style=\"color:red\">[4 marks]</span></div>"
   ]
  },
  {
   "cell_type": "code",
   "execution_count": 9,
   "metadata": {
    "id": "ZmiRx2eylx-W"
   },
   "outputs": [],
   "source": [
    "@tf.keras.saving.register_keras_serializable()\n",
    "class MyAttention(tf.keras.layers.Layer):\n",
    "    def __init__(self, output_length=50):\n",
    "        super().__init__()\n",
    "        self.output_length = output_length\n",
    "        self.first_dense = tf.keras.layers.Dense(output_length, activation=\"softmax\")  # has U as its parameter\n",
    "        self.second_dense = tf.keras.layers.Dense(1, activation=\"softmax\")  # has V as its parameter\n",
    "\n",
    "\n",
    "    # all_states is the collection of all hidden states and last_state is the last hidden state\n",
    "    def call(self, all_states, last_state):\n",
    "        # all_states.shape = (batch, seq, hidden_size)\n",
    "        # last_state.shape = (batch, hidden_size)\n",
    "        latent = self.first_dense(all_states)  # position-wise dense; output shape = (batch, seq, self.output_length)\n",
    "        a = self.second_dense(latent)  # shape = (batch, seq, 1)\n",
    "        a = tf.squeeze(a, axis=-1) # (batch_dim, seq_dim)\n",
    "\n",
    "        # c = tf.linalg.matmul(a, all_states) # (batch, hidden_size)\n",
    "\n",
    "        a = tf.expand_dims(a, axis=-1)  # for broadcasting (batch, hidden_size, new_axis)\n",
    "        # c = tf.matmul(a, all_states)\n",
    "        pre_c = tf.multiply(a, all_states)  # (batch, seq_size, hidden_size)\n",
    "        c = tf.reduce_sum(pre_c, axis=1)  # (batch, hidden_size)\n",
    "\n",
    "        oup = tf.concat([c, last_state], 1) # (batch, hidden_size*2)\n",
    "\n",
    "        return oup"
   ]
  },
  {
   "cell_type": "markdown",
   "metadata": {
    "id": "_ruvuiMAlx-W"
   },
   "source": [
    "#### <span style=\"color:red\">**Question 3.3.2**</span>\n",
    "\n",
    "**You are required to extend the class `RNN` in Question `3.2.1` to achieve the class `AttentionRNN` in which the attention mechanism mentioned above is applied at the last hidden layer.**\n",
    "\n",
    "<div style=\"text-align: right\"><span style=\"color:red\">[6 marks]</span></div>"
   ]
  },
  {
   "cell_type": "code",
   "execution_count": 10,
   "metadata": {
    "id": "Z1Ul7uBZlx-W"
   },
   "outputs": [],
   "source": [
    "class AttentionRNN(RNN):\n",
    "    def __init__(self, output_length=50, **kwargs):\n",
    "        super().__init__(**kwargs)\n",
    "        self.output_length = output_length\n",
    "\n",
    "    @staticmethod\n",
    "    def get_layer(cell_type='gru', state_size=128, return_sequences=False, activation='tanh'):\n",
    "        # Insert your code here to override the method get_layer() in BaseRNN class.\n",
    "        if cell_type == 'gru':\n",
    "            return tf.keras.layers.GRU(state_size, return_sequences=return_sequences, activation=activation)\n",
    "        elif cell_type == 'lstm':\n",
    "            return tf.keras.layers.LSTM(state_size, return_sequences=return_sequences, activation=activation)\n",
    "        else:\n",
    "            return tf.keras.layers.SimpleRNN(state_size, return_sequences=return_sequences, activation=activation)\n",
    "\n",
    "    def build(self):\n",
    "        # Insert your code here to override the 'build' method of BaseRNN\n",
    "        if self.run_mode == \"init-fine-tune\":\n",
    "            embedding_layer = tf.keras.layers.Embedding(self.data_manager.vocab_size +1, self.embed_size, mask_zero=True, weights=[self.embed_matrix])\n",
    "        elif self.run_mode == \"init-only\":\n",
    "            embedding_layer = tf.keras.layers.Embedding(self.data_manager.vocab_size +1, self.embed_size, mask_zero=True, weights=[self.embed_matrix], trainable=False)\n",
    "\n",
    "        else:\n",
    "            embedding_layer = tf.keras.layers.Embedding(self.data_manager.vocab_size +1, self.embed_size, mask_zero=True)\n",
    "\n",
    "        x = tf.keras.layers.Input(shape=[None])\n",
    "        h = embedding_layer(x)\n",
    "        num_layers = len(self.state_sizes)\n",
    "        for i in range(num_layers):\n",
    "            h = BaseRNN.get_layer(cell_type=self.cell_type, state_size=self.state_sizes[i], return_sequences=True)(h)\n",
    "        h = MyAttention(output_length=self.output_length)(h, h[:, -1])\n",
    "        h = tf.keras.layers.Dense(self.data_manager.num_classes, activation=\"softmax\")(h)\n",
    "#         h = tf.keras.layers.Dense(self.dm.num_classes, activation='softmax')(h)\n",
    "        self.model = tf.keras.Model(inputs=x, outputs=h)\n",
    "\n",
    "        return self.model\n",
    "\n",
    "    def compile_model(self, *args, **kwargs):\n",
    "        self.model.compile(*args, **kwargs)\n",
    "\n",
    "    def fit(self, *args, **kwargs):\n",
    "        return self.model.fit(*args, **kwargs)\n",
    "\n",
    "    def evaluate(self, *args, **kwargs):\n",
    "        self.model.evaluate(*args, **kwargs)"
   ]
  },
  {
   "cell_type": "markdown",
   "metadata": {
    "id": "Qe0zOYgXlx-W"
   },
   "source": [
    "#### <span style=\"color:red\">**Question 3.3.3**</span>\n",
    "\n",
    "**Choose a common setting for standard RNN and RNN with attention and conduct experiments to compare them. The setting here means `run_mode`, `cell_type` and list of `state_sizes`. Give your comments on the results.**\n",
    "\n",
    "<div style=\"text-align: right\"><span style=\"color:red\">[2 marks]</span></div>"
   ]
  },
  {
   "cell_type": "code",
   "execution_count": null,
   "metadata": {
    "colab": {
     "base_uri": "https://localhost:8080/"
    },
    "id": "ba2tagJklx-W",
    "outputId": "73a7716f-1fef-4f26-8958-90643d1e2904"
   },
   "outputs": [
    {
     "name": "stdout",
     "output_type": "stream",
     "text": [
      "Epoch 1/30\n",
      "25/25 [==============================] - 15s 194ms/step - loss: 1.3411 - accuracy: 0.5625 - val_loss: 0.5920 - val_accuracy: 0.8950\n",
      "Epoch 2/30\n",
      "25/25 [==============================] - 1s 23ms/step - loss: 0.2616 - accuracy: 0.9444 - val_loss: 0.2153 - val_accuracy: 0.9250\n",
      "Epoch 3/30\n",
      "25/25 [==============================] - 1s 31ms/step - loss: 0.0790 - accuracy: 0.9800 - val_loss: 0.1365 - val_accuracy: 0.9600\n",
      "Epoch 4/30\n",
      "25/25 [==============================] - 1s 33ms/step - loss: 0.0511 - accuracy: 0.9869 - val_loss: 0.1613 - val_accuracy: 0.9625\n",
      "Epoch 5/30\n",
      "25/25 [==============================] - 1s 24ms/step - loss: 0.0211 - accuracy: 0.9975 - val_loss: 0.1443 - val_accuracy: 0.9675\n",
      "Epoch 6/30\n",
      "25/25 [==============================] - 0s 18ms/step - loss: 0.0126 - accuracy: 0.9975 - val_loss: 0.1949 - val_accuracy: 0.9575\n",
      "Epoch 1/30\n",
      "25/25 [==============================] - 14s 229ms/step - loss: 1.6113 - accuracy: 0.4069 - val_loss: 1.2089 - val_accuracy: 0.6275\n",
      "Epoch 2/30\n",
      "25/25 [==============================] - 0s 16ms/step - loss: 0.6861 - accuracy: 0.8419 - val_loss: 0.2825 - val_accuracy: 0.9400\n",
      "Epoch 3/30\n",
      "25/25 [==============================] - 0s 17ms/step - loss: 0.1869 - accuracy: 0.9563 - val_loss: 0.2420 - val_accuracy: 0.9275\n",
      "Epoch 4/30\n",
      "25/25 [==============================] - 0s 15ms/step - loss: 0.1006 - accuracy: 0.9744 - val_loss: 0.1381 - val_accuracy: 0.9575\n",
      "Epoch 5/30\n",
      "25/25 [==============================] - 0s 16ms/step - loss: 0.0782 - accuracy: 0.9787 - val_loss: 0.1620 - val_accuracy: 0.9450\n",
      "Epoch 6/30\n",
      "25/25 [==============================] - 0s 17ms/step - loss: 0.0691 - accuracy: 0.9800 - val_loss: 0.1523 - val_accuracy: 0.9500\n",
      "Epoch 7/30\n",
      "25/25 [==============================] - 0s 17ms/step - loss: 0.0628 - accuracy: 0.9825 - val_loss: 0.1201 - val_accuracy: 0.9650\n",
      "Epoch 8/30\n",
      "25/25 [==============================] - 0s 15ms/step - loss: 0.0261 - accuracy: 0.9944 - val_loss: 0.1364 - val_accuracy: 0.9625\n",
      "Epoch 9/30\n",
      "25/25 [==============================] - 0s 15ms/step - loss: 0.0152 - accuracy: 0.9987 - val_loss: 0.1166 - val_accuracy: 0.9650\n",
      "Epoch 10/30\n",
      "25/25 [==============================] - 0s 16ms/step - loss: 0.0108 - accuracy: 0.9994 - val_loss: 0.1205 - val_accuracy: 0.9625\n",
      "Epoch 11/30\n",
      "25/25 [==============================] - 0s 16ms/step - loss: 0.0090 - accuracy: 0.9994 - val_loss: 0.1190 - val_accuracy: 0.9650\n",
      "Epoch 12/30\n",
      "25/25 [==============================] - 0s 16ms/step - loss: 0.0076 - accuracy: 0.9994 - val_loss: 0.1190 - val_accuracy: 0.9650\n"
     ]
    }
   ],
   "source": [
    "cell_type = \"lstm\"\n",
    "run_mode = \"scratch\"\n",
    "state_sizes = [128, 64]\n",
    "opt = tf.keras.optimizers.Adam(learning_rate=0.001)\n",
    "early_stopping = tf.keras.callbacks.EarlyStopping(monitor='val_loss', patience=3)\n",
    "output_legnth = 50\n",
    "\n",
    "\n",
    "# LSTM with attention\n",
    "attention_rnn = AttentionRNN(run_mode=run_mode, cell_type=cell_type, embed_size=128, state_sizes=state_sizes, data_manager=dm, output_length=50)\n",
    "attention_rnn.build()\n",
    "opt = tf.keras.optimizers.Adam(learning_rate=0.001)\n",
    "attention_rnn.compile_model(optimizer=opt, loss='sparse_categorical_crossentropy', metrics=['accuracy'])\n",
    "attention_rnn_hist = attention_rnn.fit(dm.tf_train_set.batch(64), epochs=30, validation_data=dm.tf_valid_set.batch(64), callbacks=[early_stopping])\n",
    "\n",
    "\n",
    "# standard LSTM\n",
    "rnn = RNN(run_mode=run_mode, cell_type=cell_type, embed_size=128, state_sizes=state_sizes, data_manager=dm)\n",
    "rnn.build()\n",
    "opt = tf.keras.optimizers.Adam(learning_rate=0.001)\n",
    "rnn.compile_model(optimizer=opt, loss='sparse_categorical_crossentropy', metrics=['accuracy'])\n",
    "standard_rnn_hist = rnn.fit(dm.tf_train_set.batch(64), epochs=30, validation_data=dm.tf_valid_set.batch(64), callbacks=[early_stopping])"
   ]
  },
  {
   "cell_type": "code",
   "execution_count": null,
   "metadata": {
    "colab": {
     "base_uri": "https://localhost:8080/",
     "height": 430
    },
    "id": "c0SXAb_qaXBa",
    "outputId": "21611960-a789-40a4-a322-9312b313839d"
   },
   "outputs": [
    {
     "data": {
      "image/png": "[encoded data removed]",
      "text/plain": [
       "<Figure size 640x480 with 1 Axes>"
      ]
     },
     "metadata": {},
     "output_type": "display_data"
    }
   ],
   "source": [
    "hists = [\n",
    "    standard_rnn_hist,\n",
    "    attention_rnn_hist\n",
    "]\n",
    "plot_accuracy([\"LSTM\", \"LSTM-with-Attention\"], hists)"
   ]
  },
  {
   "cell_type": "markdown",
   "metadata": {
    "id": "ocK9Y_iZlx-W"
   },
   "source": [
    "\\# Give your comments on the results here (maximum 150 words) <br>\n",
    "We see that LSTM with attention has higher accuracy compared to the standard LSTM overall. We also see that LSTM-with-Attention model predicts very with high accuracy (about 0.92) from the first epoch. Therefore, we can argue that is can learn better per epoch."
   ]
  },
  {
   "cell_type": "markdown",
   "metadata": {
    "id": "FD_Thni_lx-W"
   },
   "source": [
    "## <span style=\"color:#0b486b\">Part 4: Transformer-based models for sequence modeling and neural embedding and the overall ranking</span>\n",
    "\n",
    "<div style=\"text-align: right\"><span style=\"color:red; font-weight:bold\">[Total marks for this part: 23 marks]<span></div>"
   ]
  },
  {
   "cell_type": "markdown",
   "metadata": {
    "id": "9iyP_nwYlx-X"
   },
   "source": [
    "#### <span style=\"color:red\">**Question 4.1**</span>\n",
    "\n",
    "**Implement the multi-head attention module of the Transformer for the text classification problem. The provided code is from [this source](https://keras.io/examples/nlp/text_classification_with_transformer/). In this part, we only use the output of the Transformer encoder for the classification task. For further information on the Transformer model, refer to [this paper](https://proceedings.neurips.cc/paper_files/paper/2017/file/3f5ee243547dee91fbd053c1c4a845aa-Paper.pdf).**\n",
    "\n",
    "<div style=\"text-align: right\"><span style=\"color:red\">[11 marks]</span></div>"
   ]
  },
  {
   "cell_type": "code",
   "execution_count": 11,
   "metadata": {
    "id": "vUYfNICplx-X"
   },
   "outputs": [],
   "source": [
    "import tensorflow as tf\n",
    "from tensorflow import keras\n",
    "from tensorflow.keras import layers"
   ]
  },
  {
   "cell_type": "code",
   "execution_count": 12,
   "metadata": {
    "id": "k5NaK6iulx-X"
   },
   "outputs": [],
   "source": [
    "@keras.saving.register_keras_serializable()\n",
    "class MultiHeadAttention(layers.Layer):\n",
    "    def __init__(self, num_heads, embed_dim):\n",
    "        super(MultiHeadAttention, self).__init__()\n",
    "        self.weight_queries = [layers.Dense(embed_dim, use_bias=False) for _ in range(num_heads)]\n",
    "        self.weight_keys = [layers.Dense(embed_dim, use_bias=False) for _ in range(num_heads)]\n",
    "        self.weight_values = [layers.Dense(embed_dim, use_bias=False) for _ in range(num_heads)]\n",
    "\n",
    "        self.num_heads = num_heads\n",
    "        self.embed_dim = embed_dim\n",
    "\n",
    "        self.weight_oup = layers.Dense(embed_dim)\n",
    "\n",
    "    def call(self, inputs):\n",
    "        # input.shape = (batch_dim, sequence_dim, embedding_dim)\n",
    "\n",
    "        # creating Q, K, V for all heads\n",
    "        Q = tf.stack([W_q(inputs) for W_q in self.weight_queries])\n",
    "        K_transposed = tf.stack([tf.transpose(W_k(inputs), perm=[0,2,1]) for W_k in self.weight_keys])\n",
    "        V = tf.stack([W_v(inputs) for W_v in self.weight_values])\n",
    "\n",
    "        # calculate attention\n",
    "        # (head_dim, batch_dim, sequence_dim, embedding_dim)\n",
    "        A_unaligned = tf.linalg.matmul(Q, K_transposed) / tf.math.sqrt(tf.cast(self.embed_dim, dtype=tf.float32))\n",
    "\n",
    "        # (head_dim, batch_dim, query_dim, key_dim)\n",
    "        A = tf.keras.activations.softmax(A_unaligned, axis=-1)\n",
    "        output = tf.linalg.matmul(A, V)  # for each instance, attention for a paricular key vector is broadcated\n",
    "\n",
    "        # (head_dim, batch_dim, seq_dim, embedding_dim)\n",
    "        output_transposed = tf.transpose(output, perm=[1, 2, 3, 0])\n",
    "        _, seq_dim, embedding_dim, head_dim = output_transposed.shape  # note we shouldn't the output fro batch_dim since it's None and you cannot put None into the reshape function\n",
    "        batch_dim = tf.shape(output_transposed)[0]\n",
    "        concatenated_output = tf.reshape(output_transposed, shape=(batch_dim, seq_dim, embedding_dim*head_dim))\n",
    "        # shape = (batch_dim, seq_dim, embed_dim), where embed dim dimensionality = embedding_size*num_heads\n",
    "\n",
    "        final_output = self.weight_oup(concatenated_output)\n",
    "        # shape = (batch_dim, seq_dim, embed_dim) with embed being dimensionality = embedding_size\n",
    "        return final_output"
   ]
  },
  {
   "cell_type": "code",
   "execution_count": 13,
   "metadata": {
    "id": "ZAJk3yDwlx-X"
   },
   "outputs": [],
   "source": [
    "class TransformerBlock(layers.Layer):\n",
    "    def __init__(self, embed_dim, num_heads, ff_dim, rate=0.1):\n",
    "        super().__init__()\n",
    "        self.att = MultiHeadAttention(num_heads, embed_dim)\n",
    "        self.ffn = keras.Sequential([layers.Dense(ff_dim, activation=\"relu\"), layers.Dense(embed_dim),])\n",
    "        self.layernorm1 = layers.LayerNormalization(epsilon=1e-6)\n",
    "        self.layernorm2 = layers.LayerNormalization(epsilon=1e-6)\n",
    "        self.dropout1 = layers.Dropout(rate)\n",
    "        self.dropout2 = layers.Dropout(rate)\n",
    "\n",
    "    def call(self, inputs, training):\n",
    "        attn_output = self.att(inputs)\n",
    "        attn_output = self.dropout1(attn_output, training=training)\n",
    "        out1 = self.layernorm1(inputs + attn_output)\n",
    "        ffn_output = self.ffn(out1)\n",
    "        ffn_output = self.dropout2(ffn_output, training=training)\n",
    "        return self.layernorm2(out1 + ffn_output)"
   ]
  },
  {
   "cell_type": "code",
   "execution_count": 14,
   "metadata": {
    "id": "43AlJjIRlx-X"
   },
   "outputs": [],
   "source": [
    "class TokenAndPositionEmbedding(layers.Layer):\n",
    "    def __init__(self, maxlen, vocab_size, embed_dim):\n",
    "        super().__init__()\n",
    "        self.token_emb = layers.Embedding(input_dim=vocab_size, output_dim=embed_dim, mask_zero=True)\n",
    "        self.pos_emb = layers.Embedding(input_dim=maxlen, output_dim=embed_dim)\n",
    "\n",
    "    def call(self, x):\n",
    "        maxlen = tf.shape(x)[-1]\n",
    "        positions = tf.range(start=0, limit=maxlen, delta=1)\n",
    "        positions = self.pos_emb(positions)\n",
    "        x = self.token_emb(x)\n",
    "        return x + positions"
   ]
  },
  {
   "cell_type": "code",
   "execution_count": 15,
   "metadata": {
    "id": "FfzX0Iwrlx-X"
   },
   "outputs": [],
   "source": [
    "from tensorflow.keras.layers import Input, GlobalAveragePooling1D, Dropout, Dense\n",
    "from tensorflow.keras.models import Sequential\n",
    "\n",
    "vocab_size = dm.vocab_size + 1\n",
    "maxlen = dm.maxlen\n",
    "\n",
    "def create_tfm_model(embed_dim=64, num_heads=8, ff_dim=32, dropout_rate=0.1):\n",
    "    \"\"\"\n",
    "    Creates a Transformer model using the given hyperparameters.\n",
    "\n",
    "    Parameters:\n",
    "        embed_dim (int): The embedding dimension for each token.\n",
    "        num_heads (int): The number of attention heads in the multi-head attention layer.\n",
    "        ff_dim (int): The hidden layer size in the feed forward network inside the transformer block.\n",
    "        dropout_rate (float): The dropout rate for regularization.\n",
    "    Returns:\n",
    "        keras.models.Sequential: A Transformer model.\n",
    "    \"\"\"\n",
    "    tfm = Sequential()\n",
    "    tfm.add(Input(shape=(maxlen,)))\n",
    "    tfm.add(TokenAndPositionEmbedding(maxlen, vocab_size, embed_dim))\n",
    "    transformer_block = TransformerBlock(embed_dim, num_heads, ff_dim, dropout_rate)\n",
    "    tfm.add(transformer_block)\n",
    "    tfm.add(GlobalAveragePooling1D())\n",
    "    tfm.add(Dropout(dropout_rate))\n",
    "    tfm.add(Dense(units=dm.num_classes, activation='softmax'))\n",
    "    tfm.compile(optimizer=\"adam\", loss=\"sparse_categorical_crossentropy\", metrics=[\"accuracy\"])\n",
    "    return tfm"
   ]
  },
  {
   "cell_type": "code",
   "execution_count": null,
   "metadata": {
    "id": "3Mca5Kbulx-X",
    "outputId": "4b90c773-7187-4fc3-fa54-438352f666f8"
   },
   "outputs": [
    {
     "name": "stdout",
     "output_type": "stream",
     "text": [
      "Epoch 1/20\n",
      "25/25 [==============================] - 6s 179ms/step - loss: 1.7993 - accuracy: 0.2094 - val_loss: 1.6382 - val_accuracy: 0.2125\n",
      "Epoch 2/20\n",
      "25/25 [==============================] - 7s 271ms/step - loss: 1.6557 - accuracy: 0.2675 - val_loss: 1.5655 - val_accuracy: 0.3825\n",
      "Epoch 3/20\n",
      "25/25 [==============================] - 9s 372ms/step - loss: 1.4117 - accuracy: 0.4538 - val_loss: 1.2276 - val_accuracy: 0.6375\n",
      "Epoch 4/20\n",
      "25/25 [==============================] - 8s 304ms/step - loss: 0.6320 - accuracy: 0.8163 - val_loss: 0.4336 - val_accuracy: 0.8975\n",
      "Epoch 5/20\n",
      "25/25 [==============================] - 10s 391ms/step - loss: 0.1718 - accuracy: 0.9625 - val_loss: 0.3096 - val_accuracy: 0.9100\n",
      "Epoch 6/20\n",
      "25/25 [==============================] - 9s 381ms/step - loss: 0.0535 - accuracy: 0.9937 - val_loss: 0.1588 - val_accuracy: 0.9500\n",
      "Epoch 7/20\n",
      "25/25 [==============================] - 10s 424ms/step - loss: 0.0266 - accuracy: 0.9962 - val_loss: 0.1488 - val_accuracy: 0.9450\n",
      "Epoch 8/20\n",
      "25/25 [==============================] - 11s 442ms/step - loss: 0.0106 - accuracy: 1.0000 - val_loss: 0.1259 - val_accuracy: 0.9525\n",
      "Epoch 9/20\n",
      "25/25 [==============================] - 9s 376ms/step - loss: 0.0074 - accuracy: 0.9994 - val_loss: 0.1195 - val_accuracy: 0.9525\n",
      "Epoch 10/20\n",
      "25/25 [==============================] - 11s 455ms/step - loss: 0.0054 - accuracy: 1.0000 - val_loss: 0.1183 - val_accuracy: 0.9550\n",
      "Epoch 11/20\n",
      "25/25 [==============================] - 9s 373ms/step - loss: 0.0044 - accuracy: 1.0000 - val_loss: 0.1194 - val_accuracy: 0.9475\n",
      "Epoch 12/20\n",
      "25/25 [==============================] - 10s 387ms/step - loss: 0.0033 - accuracy: 1.0000 - val_loss: 0.1130 - val_accuracy: 0.9575\n",
      "Epoch 13/20\n",
      "25/25 [==============================] - 10s 421ms/step - loss: 0.0028 - accuracy: 1.0000 - val_loss: 0.1063 - val_accuracy: 0.9675\n",
      "Epoch 14/20\n",
      "25/25 [==============================] - 10s 400ms/step - loss: 0.0024 - accuracy: 1.0000 - val_loss: 0.1031 - val_accuracy: 0.9650\n",
      "Epoch 15/20\n",
      "25/25 [==============================] - 9s 367ms/step - loss: 0.0020 - accuracy: 1.0000 - val_loss: 0.1030 - val_accuracy: 0.9675\n",
      "Epoch 16/20\n",
      "25/25 [==============================] - 9s 375ms/step - loss: 0.0019 - accuracy: 1.0000 - val_loss: 0.1023 - val_accuracy: 0.9700\n",
      "Epoch 17/20\n",
      "25/25 [==============================] - 10s 386ms/step - loss: 0.0015 - accuracy: 1.0000 - val_loss: 0.1016 - val_accuracy: 0.9700\n",
      "Epoch 18/20\n",
      "25/25 [==============================] - 11s 433ms/step - loss: 0.0015 - accuracy: 1.0000 - val_loss: 0.1005 - val_accuracy: 0.9700\n",
      "Epoch 19/20\n",
      "25/25 [==============================] - 9s 383ms/step - loss: 0.0013 - accuracy: 1.0000 - val_loss: 0.0999 - val_accuracy: 0.9700\n",
      "Epoch 20/20\n",
      "25/25 [==============================] - 9s 354ms/step - loss: 0.0012 - accuracy: 1.0000 - val_loss: 0.1004 - val_accuracy: 0.9700\n"
     ]
    },
    {
     "data": {
      "text/plain": [
       "<keras.callbacks.History at 0x24497c74af0>"
      ]
     },
     "execution_count": 112,
     "metadata": {},
     "output_type": "execute_result"
    }
   ],
   "source": [
    "model = create_tfm_model()\n",
    "model.fit(dm.tf_train_set.batch(64), epochs=20, validation_data=dm.tf_valid_set.batch(64))"
   ]
  },
  {
   "cell_type": "markdown",
   "metadata": {
    "id": "5BkXN6W0lx-Y"
   },
   "source": [
    "#### <span style=\"color:red\">**Question 4.2**</span>\n",
    "**Write code to conduct experiments to evaluate the impact of hyperparameters `embed_dim`, `num_heads`, `ff_dim`, and `dropout_rate` of the Transformer model on the accuracy. Report (i) your findings from the experiments, (ii) the accuracy of your best Transformer model (i.e., the one with the highest accuracy on the validation set), and (iii) the values of the mentioned hyperparameters of that best model.  \n",
    "Note that the necessary condition to get the full mark for this question is that the accuracy of your best Transformer model should be at least 90%.**\n",
    "<div style=\"text-align: right\"><span style=\"color:red\">[3 marks]</span></div>"
   ]
  },
  {
   "cell_type": "markdown",
   "metadata": {
    "id": "2Zr1rraYlyrG"
   },
   "source": [
    "I did the optimization of the transformer-based model in the next question, so please see the next question."
   ]
  },
  {
   "cell_type": "markdown",
   "metadata": {
    "id": "sLAwbFkrlx-Y"
   },
   "source": [
    "#### <span style=\"color:red\">**Question 4.3**</span>\n",
    "**For any models defined in the previous questions (of all parts), you are free to fine-tune hyperparameters, e.g., `optimizer`, `learning_rate`, `state_sizes`, such that you get a best model, i.e., the one with the highest accuracy on the validation set. You will need to report (i) what is your best model,  (ii) its accuracy on the validation set, and (iii) the values of its hyperparameters. Note that you must report your best model's accuracy with rounding to 4 decimal places, i.e., 0.xxxx. You will also need to upload your best model (or provide us with the link to download your best model). The assessment will be based on your best model's accuracy, with up to 9 marks available, specifically:**\n",
    "* The best accuracy $\\ge$ 0.98: 9 marks\n",
    "* 0.98 $>$ The best accuracy $\\ge$ 0.92: 6 marks\n",
    "* 0.92 $>$ The best accuracy $\\ge$ 0.85: 3 marks\n",
    "* The best accuracy $<$ 0.85: 0 mark\n",
    "<div style=\"text-align: right\"><span style=\"color:red\">[9 marks]</span></div>"
   ]
  },
  {
   "cell_type": "markdown",
   "metadata": {
    "id": "cNwKLR4vFqTO"
   },
   "source": [
    "To make the hyper-parameter optimization process quicker, I use Bayesean optimization implemented in keras-tuner."
   ]
  },
  {
   "cell_type": "code",
   "execution_count": 16,
   "metadata": {
    "colab": {
     "base_uri": "https://localhost:8080/"
    },
    "id": "l1MZtmDy8bJK",
    "outputId": "856b9296-0ca9-4a20-88f1-2605e471c136"
   },
   "outputs": [
    {
     "name": "stdout",
     "output_type": "stream",
     "text": [
      "Collecting keras-tuner\n",
      "  Downloading keras_tuner-1.4.5-py3-none-any.whl (129 kB)\n",
      "\u001b[2K     \u001b[90m━━━━━━━━━━━━━━━━━━━━━━━━━━━━━━━━━━━━━━━━\u001b[0m \u001b[32m129.5/129.5 kB\u001b[0m \u001b[31m3.4 MB/s\u001b[0m eta \u001b[36m0:00:00\u001b[0m\n",
      "\u001b[?25hCollecting keras-core (from keras-tuner)\n",
      "  Downloading keras_core-0.1.7-py3-none-any.whl (950 kB)\n",
      "\u001b[2K     \u001b[90m━━━━━━━━━━━━━━━━━━━━━━━━━━━━━━━━━━━━━━━━\u001b[0m \u001b[32m950.8/950.8 kB\u001b[0m \u001b[31m9.9 MB/s\u001b[0m eta \u001b[36m0:00:00\u001b[0m\n",
      "\u001b[?25hRequirement already satisfied: packaging in /usr/local/lib/python3.10/dist-packages (from keras-tuner) (23.2)\n",
      "Requirement already satisfied: requests in /usr/local/lib/python3.10/dist-packages (from keras-tuner) (2.31.0)\n",
      "Collecting kt-legacy (from keras-tuner)\n",
      "  Downloading kt_legacy-1.0.5-py3-none-any.whl (9.6 kB)\n",
      "Requirement already satisfied: absl-py in /usr/local/lib/python3.10/dist-packages (from keras-core->keras-tuner) (1.4.0)\n",
      "Requirement already satisfied: numpy in /usr/local/lib/python3.10/dist-packages (from keras-core->keras-tuner) (1.23.5)\n",
      "Requirement already satisfied: rich in /usr/local/lib/python3.10/dist-packages (from keras-core->keras-tuner) (13.6.0)\n",
      "Collecting namex (from keras-core->keras-tuner)\n",
      "  Downloading namex-0.0.7-py3-none-any.whl (5.8 kB)\n",
      "Requirement already satisfied: h5py in /usr/local/lib/python3.10/dist-packages (from keras-core->keras-tuner) (3.9.0)\n",
      "Requirement already satisfied: dm-tree in /usr/local/lib/python3.10/dist-packages (from keras-core->keras-tuner) (0.1.8)\n",
      "Requirement already satisfied: charset-normalizer<4,>=2 in /usr/local/lib/python3.10/dist-packages (from requests->keras-tuner) (3.3.1)\n",
      "Requirement already satisfied: idna<4,>=2.5 in /usr/local/lib/python3.10/dist-packages (from requests->keras-tuner) (3.4)\n",
      "Requirement already satisfied: urllib3<3,>=1.21.1 in /usr/local/lib/python3.10/dist-packages (from requests->keras-tuner) (2.0.7)\n",
      "Requirement already satisfied: certifi>=2017.4.17 in /usr/local/lib/python3.10/dist-packages (from requests->keras-tuner) (2023.7.22)\n",
      "Requirement already satisfied: markdown-it-py>=2.2.0 in /usr/local/lib/python3.10/dist-packages (from rich->keras-core->keras-tuner) (3.0.0)\n",
      "Requirement already satisfied: pygments<3.0.0,>=2.13.0 in /usr/local/lib/python3.10/dist-packages (from rich->keras-core->keras-tuner) (2.16.1)\n",
      "Requirement already satisfied: mdurl~=0.1 in /usr/local/lib/python3.10/dist-packages (from markdown-it-py>=2.2.0->rich->keras-core->keras-tuner) (0.1.2)\n",
      "Installing collected packages: namex, kt-legacy, keras-core, keras-tuner\n",
      "Successfully installed keras-core-0.1.7 keras-tuner-1.4.5 kt-legacy-1.0.5 namex-0.0.7\n"
     ]
    }
   ],
   "source": [
    "!pip install keras-tuner"
   ]
  },
  {
   "cell_type": "code",
   "execution_count": 17,
   "metadata": {
    "colab": {
     "base_uri": "https://localhost:8080/"
    },
    "id": "Lu0UX4yIlx-Y",
    "outputId": "2f7bd757-fa5e-47bb-a5ca-ae88f1bbd359"
   },
   "outputs": [
    {
     "name": "stdout",
     "output_type": "stream",
     "text": [
      "Using TensorFlow backend\n"
     ]
    }
   ],
   "source": [
    "import keras_tuner"
   ]
  },
  {
   "cell_type": "markdown",
   "metadata": {
    "id": "RA4dRSuwF84U"
   },
   "source": [
    "Since we already know that the TextCNN, LSTM-wth-Attention, and Transformer models outperforms other models, we will specifically optimize these only. For the TextCNN model, we change state_size (number of filters) and embed_size. For the LSTM-with-Attention model, we change state_sizes, output_length, and embed_size. For the trasformer model, we change embed_dim, num_heads, ff_dim, and dropout_rate."
   ]
  },
  {
   "cell_type": "code",
   "execution_count": 15,
   "metadata": {
    "id": "nuy23Z6Slx-Y"
   },
   "outputs": [],
   "source": [
    "def lstm_with_attention_builder_wrapper(hp):\n",
    "    cell_type = \"lstm\"\n",
    "    run_mode = \"init-fine-tune\"\n",
    "    state_size1 = hp.Choice(\"state_size1\", [64, 128, 224, 288])\n",
    "    state_size2 = hp.Choice(\"state_size2\", [24, 32, 64, 128])\n",
    "    state_sizes = [state_size1, state_size2]\n",
    "    output_length = hp.Int(\"output_length\", min_value=50, max_value=170, step=40)\n",
    "    embed_size = hp.Int(\"embed_dim\", min_value=64, max_value=256, step=32)\n",
    "\n",
    "    optimizer = tf.keras.optimizers.Adam(learning_rate=0.001)\n",
    "\n",
    "    model_wrapper = AttentionRNN(run_mode=run_mode, cell_type=cell_type, embed_size=embed_size, state_sizes=state_sizes, data_manager=dm, output_length=output_length)\n",
    "    model = model_wrapper.build()\n",
    "    model.compile(optimizer=optimizer, loss=\"sparse_categorical_crossentropy\", metrics=[\"accuracy\"])\n",
    "    return model\n",
    "\n",
    "\n",
    "\n",
    "def transformer_builder_wrapper(hp):\n",
    "    embed_dim = hp.Int(\"embed_dim\", min_value=64, max_value=256, step=32)\n",
    "    num_heads = hp.Int(\"num_heads\", min_value=8, max_value=24, step=8)\n",
    "    ff_dim = hp.Int(\"ff_dim\", min_value=32, max_value=160, step=20)\n",
    "    dropout_rate = hp.Choice(\"dropout_rate\", [0.01, 0.02, 0.05, 0.1, 0.2, 0.3])\n",
    "\n",
    "    optimizer = tf.keras.optimizers.Adam(learning_rate=0.001)\n",
    "\n",
    "    model = create_tfm_model(embed_dim=embed_dim, num_heads=num_heads, ff_dim=ff_dim, dropout_rate=dropout_rate)\n",
    "    model.compile(optimizer=optimizer, loss=\"sparse_categorical_crossentropy\", metrics=[\"accuracy\"])\n",
    "    return model\n",
    "\n",
    "\n",
    "def textCNN_builder_wrapper(hp):\n",
    "\n",
    "    embed_size = hp.Int(\"embed_size\", min_value=64, max_value=256, step=32)\n",
    "    state_size = hp.Int(\"state_size\", min_value=8, max_value=256, step=32)\n",
    "\n",
    "    optimizer = tf.keras.optimizers.Adam(learning_rate=0.001)\n",
    "\n",
    "    text_cnn_wrapper = TextCNN(data_manager=dm, embed_size= embed_size, state_size=state_size)\n",
    "    text_cnn = text_cnn_wrapper.build()\n",
    "\n",
    "    text_cnn.compile(optimizer=optimizer, loss=\"sparse_categorical_crossentropy\", metrics=[\"accuracy\"])\n",
    "    return text_cnn"
   ]
  },
  {
   "cell_type": "markdown",
   "metadata": {
    "id": "apLxy51lGnwQ"
   },
   "source": [
    "We first optimize LSTM-wth-Attention model."
   ]
  },
  {
   "cell_type": "code",
   "execution_count": null,
   "metadata": {
    "id": "COtxpiGOlx-Y"
   },
   "outputs": [],
   "source": [
    "lstm_with_attention_tuner = keras_tuner.RandomSearch(\n",
    "    hypermodel=lstm_with_attention_builder_wrapper,\n",
    "    objective=\"val_accuracy\",\n",
    "    max_trials=100,\n",
    "    overwrite=True,\n",
    "    directory=\"trained_models\",\n",
    "    project_name=\"lstm_with_attention_tuner\",\n",
    ")"
   ]
  },
  {
   "cell_type": "markdown",
   "metadata": {
    "id": "nC0AYrsWGvde"
   },
   "source": [
    "We see that the the best validation accuracy for the model is 0.977500."
   ]
  },
  {
   "cell_type": "code",
   "execution_count": null,
   "metadata": {
    "colab": {
     "base_uri": "https://localhost:8080/"
    },
    "id": "wcmpJkomlx-Y",
    "outputId": "30ace3ed-538b-41da-8f62-19a33ed91e63"
   },
   "outputs": [
    {
     "name": "stdout",
     "output_type": "stream",
     "text": [
      "Trial 100 Complete [00h 00m 20s]\n",
      "val_accuracy: 0.9725000262260437\n",
      "\n",
      "Best val_accuracy So Far: 0.9775000214576721\n",
      "Total elapsed time: 00h 37m 41s\n"
     ]
    }
   ],
   "source": [
    "early_stopping = tf.keras.callbacks.EarlyStopping(monitor='val_loss', patience=3)\n",
    "lstm_with_attention_tuner.search(dm.tf_train_set.batch(64), epochs=20, validation_data=dm.tf_valid_set.batch(64), callbacks=[early_stopping])"
   ]
  },
  {
   "cell_type": "markdown",
   "metadata": {
    "id": "PrwmoFQVG7aP"
   },
   "source": [
    "The best hyperparameters are as follow:"
   ]
  },
  {
   "cell_type": "code",
   "execution_count": null,
   "metadata": {
    "colab": {
     "base_uri": "https://localhost:8080/"
    },
    "id": "CPD_t97gD0Ft",
    "outputId": "9e8597c4-c23d-491c-e25d-fe479ded7b80"
   },
   "outputs": [
    {
     "data": {
      "text/plain": [
       "{'state_size1': 288, 'state_size2': 128, 'output_length': 130, 'embed_dim': 64}"
      ]
     },
     "execution_count": 34,
     "metadata": {},
     "output_type": "execute_result"
    }
   ],
   "source": [
    "lstm_with_attention_tuner.get_best_hyperparameters()[0].values"
   ]
  },
  {
   "cell_type": "markdown",
   "metadata": {
    "id": "GKMQvS8U-kJC"
   },
   "source": [
    "Now we tune the transformer model."
   ]
  },
  {
   "cell_type": "code",
   "execution_count": 27,
   "metadata": {
    "id": "q50eKzeQlx-Y"
   },
   "outputs": [],
   "source": [
    "transformer_tuner = keras_tuner.RandomSearch(\n",
    "    hypermodel=transformer_builder_wrapper,\n",
    "    objective=\"val_accuracy\",\n",
    "    max_trials=50,\n",
    "    overwrite=True,\n",
    "    directory=\"trained_models\",\n",
    "    project_name=\"transformer\",\n",
    ")"
   ]
  },
  {
   "cell_type": "code",
   "execution_count": 28,
   "metadata": {
    "colab": {
     "base_uri": "https://localhost:8080/"
    },
    "id": "t7UxcJwplx-Z",
    "outputId": "78dbf440-9919-47ac-ca36-dbafc8608fe9"
   },
   "outputs": [
    {
     "name": "stdout",
     "output_type": "stream",
     "text": [
      "Trial 50 Complete [00h 01m 33s]\n",
      "val_accuracy: 0.9800000190734863\n",
      "\n",
      "Best val_accuracy So Far: 0.9800000190734863\n",
      "Total elapsed time: 00h 34m 25s\n"
     ]
    }
   ],
   "source": [
    "early_stopping = tf.keras.callbacks.EarlyStopping(monitor='val_loss', patience=5)\n",
    "transformer_tuner.search(dm.tf_train_set.batch(64), epochs=20, validation_data=dm.tf_valid_set.batch(64), callbacks=[early_stopping])"
   ]
  },
  {
   "cell_type": "markdown",
   "metadata": {
    "id": "fD9GZx-p-o2U"
   },
   "source": [
    "The accuracy reaches 0.9800.. with the following best hyper-parameters."
   ]
  },
  {
   "cell_type": "code",
   "execution_count": 31,
   "metadata": {
    "colab": {
     "base_uri": "https://localhost:8080/"
    },
    "id": "Nq-ruvA98qVo",
    "outputId": "162e6c65-c1e9-48d4-f25d-cf59db1a41b0"
   },
   "outputs": [
    {
     "data": {
      "text/plain": [
       "{'embed_dim': 224, 'num_heads': 24, 'ff_dim': 32, 'dropout_rate': 0.1}"
      ]
     },
     "execution_count": 31,
     "metadata": {},
     "output_type": "execute_result"
    }
   ],
   "source": [
    "transformer_tuner.get_best_hyperparameters(num_trials=3)[0].values"
   ]
  },
  {
   "cell_type": "code",
   "execution_count": 30,
   "metadata": {
    "colab": {
     "base_uri": "https://localhost:8080/"
    },
    "id": "cCiGz7pHHq7Q",
    "outputId": "e32042dc-bf8a-47de-cb3e-42737e4fce2d"
   },
   "outputs": [
    {
     "name": "stdout",
     "output_type": "stream",
     "text": [
      "Results summary\n",
      "Results in trained_models/transformer\n",
      "Showing 10 best trials\n",
      "Objective(name=\"val_accuracy\", direction=\"max\")\n",
      "\n",
      "Trial 30 summary\n",
      "Hyperparameters:\n",
      "embed_dim: 224\n",
      "num_heads: 24\n",
      "ff_dim: 32\n",
      "dropout_rate: 0.1\n",
      "Score: 0.9800000190734863\n",
      "\n",
      "Trial 49 summary\n",
      "Hyperparameters:\n",
      "embed_dim: 256\n",
      "num_heads: 16\n",
      "ff_dim: 52\n",
      "dropout_rate: 0.2\n",
      "Score: 0.9800000190734863\n",
      "\n",
      "Trial 14 summary\n",
      "Hyperparameters:\n",
      "embed_dim: 128\n",
      "num_heads: 16\n",
      "ff_dim: 92\n",
      "dropout_rate: 0.05\n",
      "Score: 0.9775000214576721\n",
      "\n",
      "Trial 25 summary\n",
      "Hyperparameters:\n",
      "embed_dim: 160\n",
      "num_heads: 8\n",
      "ff_dim: 32\n",
      "dropout_rate: 0.02\n",
      "Score: 0.9775000214576721\n",
      "\n",
      "Trial 39 summary\n",
      "Hyperparameters:\n",
      "embed_dim: 224\n",
      "num_heads: 24\n",
      "ff_dim: 112\n",
      "dropout_rate: 0.1\n",
      "Score: 0.9775000214576721\n",
      "\n",
      "Trial 46 summary\n",
      "Hyperparameters:\n",
      "embed_dim: 224\n",
      "num_heads: 8\n",
      "ff_dim: 32\n",
      "dropout_rate: 0.3\n",
      "Score: 0.9775000214576721\n",
      "\n",
      "Trial 00 summary\n",
      "Hyperparameters:\n",
      "embed_dim: 160\n",
      "num_heads: 8\n",
      "ff_dim: 72\n",
      "dropout_rate: 0.01\n",
      "Score: 0.9750000238418579\n",
      "\n",
      "Trial 16 summary\n",
      "Hyperparameters:\n",
      "embed_dim: 256\n",
      "num_heads: 24\n",
      "ff_dim: 152\n",
      "dropout_rate: 0.01\n",
      "Score: 0.9750000238418579\n",
      "\n",
      "Trial 31 summary\n",
      "Hyperparameters:\n",
      "embed_dim: 192\n",
      "num_heads: 16\n",
      "ff_dim: 72\n",
      "dropout_rate: 0.2\n",
      "Score: 0.9750000238418579\n",
      "\n",
      "Trial 01 summary\n",
      "Hyperparameters:\n",
      "embed_dim: 160\n",
      "num_heads: 8\n",
      "ff_dim: 32\n",
      "dropout_rate: 0.1\n",
      "Score: 0.9725000262260437\n"
     ]
    }
   ],
   "source": [
    "transformer_tuner.results_summary()"
   ]
  },
  {
   "cell_type": "markdown",
   "metadata": {
    "id": "Oc8i0QdAWmcE"
   },
   "source": [
    "Finally, we tune the textCNN model. (I could only test for a few trials because of RAM usage limits on colab.)"
   ]
  },
  {
   "cell_type": "code",
   "execution_count": 16,
   "metadata": {
    "id": "84gFpvAuWd2c"
   },
   "outputs": [],
   "source": [
    "text_cnn__tuner = keras_tuner.RandomSearch(\n",
    "    hypermodel=textCNN_builder_wrapper,\n",
    "    objective=\"val_accuracy\",\n",
    "    max_trials=4,\n",
    "    overwrite=True,\n",
    "    directory=\"trained_models\",\n",
    "    project_name=\"textCNN\",\n",
    ")"
   ]
  },
  {
   "cell_type": "code",
   "execution_count": 17,
   "metadata": {
    "colab": {
     "base_uri": "https://localhost:8080/"
    },
    "id": "ZDClFu8OZjUi",
    "outputId": "b4f00e84-b168-4d4f-8a2d-0cb756c1e485"
   },
   "outputs": [
    {
     "name": "stdout",
     "output_type": "stream",
     "text": [
      "Trial 4 Complete [00h 00m 14s]\n",
      "val_accuracy: 0.9775000214576721\n",
      "\n",
      "Best val_accuracy So Far: 0.9800000190734863\n",
      "Total elapsed time: 00h 01m 06s\n"
     ]
    }
   ],
   "source": [
    "early_stopping = tf.keras.callbacks.EarlyStopping(monitor='val_loss', patience=5)\n",
    "text_cnn__tuner.search(dm.tf_train_set.batch(64), epochs=20, validation_data=dm.tf_valid_set.batch(64), callbacks=[early_stopping])"
   ]
  },
  {
   "cell_type": "markdown",
   "metadata": {
    "id": "1tv2Z0Eo_aoq"
   },
   "source": [
    "The best model obtains 0.9800... of the validation accuracy. The best hyper-parameters are as shown below."
   ]
  },
  {
   "cell_type": "code",
   "execution_count": 21,
   "metadata": {
    "colab": {
     "base_uri": "https://localhost:8080/"
    },
    "id": "Okvqpbe-dwDR",
    "outputId": "71176138-2cfb-4870-85cc-fb4b59339242"
   },
   "outputs": [
    {
     "data": {
      "text/plain": [
       "{'embed_size': 224, 'state_size': 200}"
      ]
     },
     "execution_count": 21,
     "metadata": {},
     "output_type": "execute_result"
    }
   ],
   "source": [
    "text_cnn__tuner.get_best_hyperparameters(num_trials=3)[0].values"
   ]
  },
  {
   "cell_type": "code",
   "execution_count": 20,
   "metadata": {
    "colab": {
     "base_uri": "https://localhost:8080/"
    },
    "id": "imxWHTKbyxBZ",
    "outputId": "74db1f16-9bf9-4675-f87f-ad41bb931db6"
   },
   "outputs": [
    {
     "name": "stdout",
     "output_type": "stream",
     "text": [
      "Results summary\n",
      "Results in trained_models/textCNN\n",
      "Showing 10 best trials\n",
      "Objective(name=\"val_accuracy\", direction=\"max\")\n",
      "\n",
      "Trial 2 summary\n",
      "Hyperparameters:\n",
      "embed_size: 224\n",
      "state_size: 200\n",
      "Score: 0.9800000190734863\n",
      "\n",
      "Trial 1 summary\n",
      "Hyperparameters:\n",
      "embed_size: 256\n",
      "state_size: 40\n",
      "Score: 0.9775000214576721\n",
      "\n",
      "Trial 3 summary\n",
      "Hyperparameters:\n",
      "embed_size: 224\n",
      "state_size: 136\n",
      "Score: 0.9775000214576721\n",
      "\n",
      "Trial 0 summary\n",
      "Hyperparameters:\n",
      "embed_size: 64\n",
      "state_size: 40\n",
      "Score: 0.9725000262260437\n"
     ]
    }
   ],
   "source": [
    "text_cnn__tuner.results_summary()"
   ]
  },
  {
   "cell_type": "code",
   "execution_count": 23,
   "metadata": {
    "id": "9W-hOhamiyqW"
   },
   "outputs": [],
   "source": [
    "lstm_with_attention_best_params = {'state_sizes': [288, 128], 'output_length': 130, 'embed_size': 64}\n",
    "\n",
    "transformer_best_params = {\"embed_dim\": 224, \"num_heads\": 24, \"ff_dim\": 32, \"dropout_rate\": 0.1}\n",
    "\n",
    "text_cnn_best_params = {'embed_size': 224, 'state_size': 200}"
   ]
  },
  {
   "cell_type": "markdown",
   "metadata": {
    "id": "05_ub0XEmzxm"
   },
   "source": [
    "We train each model again with the best hyper-parameters.(Note: the hyper-praramters are hard-coded because I trained the models on Google Colab and I no longer have access to some variables. )"
   ]
  },
  {
   "cell_type": "code",
   "execution_count": 29,
   "metadata": {
    "colab": {
     "base_uri": "https://localhost:8080/"
    },
    "id": "FFYSY-Sgjl3t",
    "outputId": "028c7d5d-c996-4f6a-8b7a-dbe3eb8c961e"
   },
   "outputs": [
    {
     "name": "stdout",
     "output_type": "stream",
     "text": [
      "Epoch 1/20\n",
      "25/25 [==============================] - 14s 189ms/step - loss: 1.3672 - accuracy: 0.5300 - val_loss: 0.6648 - val_accuracy: 0.8200\n",
      "Epoch 2/20\n",
      "25/25 [==============================] - 1s 45ms/step - loss: 0.2948 - accuracy: 0.9419 - val_loss: 0.2397 - val_accuracy: 0.9300\n",
      "Epoch 3/20\n",
      "25/25 [==============================] - 1s 45ms/step - loss: 0.1162 - accuracy: 0.9719 - val_loss: 0.2204 - val_accuracy: 0.9400\n",
      "Epoch 4/20\n",
      "25/25 [==============================] - 1s 32ms/step - loss: 0.0466 - accuracy: 0.9906 - val_loss: 0.2006 - val_accuracy: 0.9600\n",
      "Epoch 5/20\n",
      "25/25 [==============================] - 1s 29ms/step - loss: 0.0253 - accuracy: 0.9962 - val_loss: 0.1872 - val_accuracy: 0.9675\n",
      "Epoch 6/20\n",
      "25/25 [==============================] - 1s 31ms/step - loss: 0.0150 - accuracy: 0.9969 - val_loss: 0.2617 - val_accuracy: 0.9500\n",
      "Epoch 7/20\n",
      "25/25 [==============================] - 1s 27ms/step - loss: 0.0436 - accuracy: 0.9894 - val_loss: 0.2337 - val_accuracy: 0.9525\n",
      "Epoch 8/20\n",
      "25/25 [==============================] - 1s 29ms/step - loss: 0.0125 - accuracy: 0.9975 - val_loss: 0.2375 - val_accuracy: 0.9650\n",
      "Epoch 9/20\n",
      "25/25 [==============================] - 1s 33ms/step - loss: 0.0217 - accuracy: 0.9956 - val_loss: 0.3553 - val_accuracy: 0.9500\n",
      "Epoch 10/20\n",
      "25/25 [==============================] - 1s 37ms/step - loss: 0.0188 - accuracy: 0.9969 - val_loss: 0.1707 - val_accuracy: 0.9650\n",
      "Epoch 11/20\n",
      "25/25 [==============================] - 1s 30ms/step - loss: 0.0347 - accuracy: 0.9956 - val_loss: 0.2835 - val_accuracy: 0.9725\n",
      "Epoch 12/20\n",
      "25/25 [==============================] - 1s 28ms/step - loss: 0.0120 - accuracy: 0.9987 - val_loss: 0.2525 - val_accuracy: 0.9750\n",
      "Epoch 13/20\n",
      "25/25 [==============================] - 0s 17ms/step - loss: 0.0062 - accuracy: 0.9981 - val_loss: 0.2852 - val_accuracy: 0.9625\n",
      "Epoch 14/20\n",
      "25/25 [==============================] - 0s 16ms/step - loss: 0.0038 - accuracy: 0.9994 - val_loss: 0.2577 - val_accuracy: 0.9700\n",
      "Epoch 15/20\n",
      "25/25 [==============================] - 0s 15ms/step - loss: 0.0022 - accuracy: 1.0000 - val_loss: 0.2397 - val_accuracy: 0.9625\n",
      "Epoch 16/20\n",
      "25/25 [==============================] - 1s 21ms/step - loss: 0.0019 - accuracy: 1.0000 - val_loss: 0.2346 - val_accuracy: 0.9650\n",
      "Epoch 17/20\n",
      "25/25 [==============================] - 1s 26ms/step - loss: 0.0016 - accuracy: 1.0000 - val_loss: 0.2328 - val_accuracy: 0.9650\n",
      "Epoch 18/20\n",
      "25/25 [==============================] - 1s 27ms/step - loss: 0.0015 - accuracy: 1.0000 - val_loss: 0.2326 - val_accuracy: 0.9675\n"
     ]
    },
    {
     "data": {
      "text/plain": [
       "<keras.src.callbacks.History at 0x7dbe30171ea0>"
      ]
     },
     "execution_count": 29,
     "metadata": {},
     "output_type": "execute_result"
    }
   ],
   "source": [
    "best_lstm_with_attention_wrapper = AttentionRNN(run_mode=\"init-fine-tune\",\n",
    "                                                cell_type=\"lstm\",\n",
    "                                                data_manager=dm,\n",
    "                                                **lstm_with_attention_best_params)\n",
    "\n",
    "early_stopping = tf.keras.callbacks.EarlyStopping(monitor='val_loss', patience=8)\n",
    "best_lstm_with_attention = best_lstm_with_attention_wrapper.build()\n",
    "optimizer = tf.keras.optimizers.Adam(learning_rate=0.001)\n",
    "best_lstm_with_attention.compile(optimizer=optimizer, loss=\"sparse_categorical_crossentropy\", metrics=[\"accuracy\"])\n",
    "best_lstm_with_attention.fit(dm.tf_train_set.batch(64), epochs=20, validation_data=dm.tf_valid_set.batch(64), callbacks=[early_stopping])"
   ]
  },
  {
   "cell_type": "code",
   "execution_count": 30,
   "metadata": {
    "colab": {
     "base_uri": "https://localhost:8080/"
    },
    "id": "DOhtRwMXo3kO",
    "outputId": "366f225c-946c-4b0f-829c-25d4fb048f0a"
   },
   "outputs": [
    {
     "name": "stdout",
     "output_type": "stream",
     "text": [
      "Epoch 1/20\n",
      "25/25 [==============================] - 21s 237ms/step - loss: 1.9759 - accuracy: 0.2031 - val_loss: 1.8121 - val_accuracy: 0.2125\n",
      "Epoch 2/20\n",
      "25/25 [==============================] - 3s 113ms/step - loss: 1.8057 - accuracy: 0.2194 - val_loss: 1.6845 - val_accuracy: 0.4300\n",
      "Epoch 3/20\n",
      "25/25 [==============================] - 3s 110ms/step - loss: 1.7332 - accuracy: 0.2194 - val_loss: 1.6339 - val_accuracy: 0.2700\n",
      "Epoch 4/20\n",
      "25/25 [==============================] - 3s 111ms/step - loss: 1.5673 - accuracy: 0.3413 - val_loss: 1.1993 - val_accuracy: 0.4525\n",
      "Epoch 5/20\n",
      "25/25 [==============================] - 3s 110ms/step - loss: 0.4972 - accuracy: 0.8388 - val_loss: 0.1602 - val_accuracy: 0.9375\n",
      "Epoch 6/20\n",
      "25/25 [==============================] - 3s 114ms/step - loss: 0.0245 - accuracy: 0.9906 - val_loss: 0.0716 - val_accuracy: 0.9675\n",
      "Epoch 7/20\n",
      "25/25 [==============================] - 3s 112ms/step - loss: 0.0056 - accuracy: 0.9987 - val_loss: 0.0714 - val_accuracy: 0.9650\n",
      "Epoch 8/20\n",
      "25/25 [==============================] - 3s 111ms/step - loss: 0.0013 - accuracy: 1.0000 - val_loss: 0.0660 - val_accuracy: 0.9775\n",
      "Epoch 9/20\n",
      "25/25 [==============================] - 3s 111ms/step - loss: 4.7692e-04 - accuracy: 1.0000 - val_loss: 0.0648 - val_accuracy: 0.9725\n",
      "Epoch 10/20\n",
      "25/25 [==============================] - 3s 111ms/step - loss: 2.8174e-04 - accuracy: 1.0000 - val_loss: 0.0667 - val_accuracy: 0.9725\n",
      "Epoch 11/20\n",
      "25/25 [==============================] - 3s 116ms/step - loss: 2.3114e-04 - accuracy: 1.0000 - val_loss: 0.0671 - val_accuracy: 0.9725\n",
      "Epoch 12/20\n",
      "25/25 [==============================] - 3s 112ms/step - loss: 2.0143e-04 - accuracy: 1.0000 - val_loss: 0.0675 - val_accuracy: 0.9725\n",
      "Epoch 13/20\n",
      "25/25 [==============================] - 3s 111ms/step - loss: 1.7434e-04 - accuracy: 1.0000 - val_loss: 0.0678 - val_accuracy: 0.9725\n",
      "Epoch 14/20\n",
      "25/25 [==============================] - 3s 111ms/step - loss: 1.6085e-04 - accuracy: 1.0000 - val_loss: 0.0688 - val_accuracy: 0.9725\n",
      "Epoch 15/20\n",
      "25/25 [==============================] - 3s 115ms/step - loss: 1.3914e-04 - accuracy: 1.0000 - val_loss: 0.0696 - val_accuracy: 0.9700\n",
      "Epoch 16/20\n",
      "25/25 [==============================] - 3s 113ms/step - loss: 1.3429e-04 - accuracy: 1.0000 - val_loss: 0.0703 - val_accuracy: 0.9700\n",
      "Epoch 17/20\n",
      "25/25 [==============================] - 3s 115ms/step - loss: 1.1656e-04 - accuracy: 1.0000 - val_loss: 0.0707 - val_accuracy: 0.9700\n"
     ]
    },
    {
     "data": {
      "text/plain": [
       "<keras.src.callbacks.History at 0x7dbe39708220>"
      ]
     },
     "execution_count": 30,
     "metadata": {},
     "output_type": "execute_result"
    }
   ],
   "source": [
    "best_transformer_model = create_tfm_model(**transformer_best_params)\n",
    "\n",
    "early_stopping = tf.keras.callbacks.EarlyStopping(monitor='val_loss', patience=8)\n",
    "optimizer = tf.keras.optimizers.Adam(learning_rate=0.001)\n",
    "best_transformer_model.compile(optimizer=optimizer, loss=\"sparse_categorical_crossentropy\", metrics=[\"accuracy\"])\n",
    "best_transformer_model.fit(dm.tf_train_set.batch(64), epochs=20, validation_data=dm.tf_valid_set.batch(64), callbacks=[early_stopping])"
   ]
  },
  {
   "cell_type": "code",
   "execution_count": 31,
   "metadata": {
    "colab": {
     "base_uri": "https://localhost:8080/"
    },
    "id": "2azbHIJrr4Ro",
    "outputId": "b17f52a0-1f43-4e9d-a717-71c065b994d1"
   },
   "outputs": [
    {
     "name": "stdout",
     "output_type": "stream",
     "text": [
      "Epoch 1/20\n",
      "25/25 [==============================] - 8s 226ms/step - loss: 1.3527 - accuracy: 0.5656 - val_loss: 0.8015 - val_accuracy: 0.8850\n",
      "Epoch 2/20\n",
      "25/25 [==============================] - 0s 19ms/step - loss: 0.3754 - accuracy: 0.9244 - val_loss: 0.1817 - val_accuracy: 0.9500\n",
      "Epoch 3/20\n",
      "25/25 [==============================] - 0s 13ms/step - loss: 0.0845 - accuracy: 0.9831 - val_loss: 0.0982 - val_accuracy: 0.9700\n",
      "Epoch 4/20\n",
      "25/25 [==============================] - 0s 13ms/step - loss: 0.0339 - accuracy: 0.9969 - val_loss: 0.0838 - val_accuracy: 0.9700\n",
      "Epoch 5/20\n",
      "25/25 [==============================] - 0s 13ms/step - loss: 0.0172 - accuracy: 0.9994 - val_loss: 0.0762 - val_accuracy: 0.9725\n",
      "Epoch 6/20\n",
      "25/25 [==============================] - 0s 13ms/step - loss: 0.0113 - accuracy: 0.9987 - val_loss: 0.0644 - val_accuracy: 0.9750\n",
      "Epoch 7/20\n",
      "25/25 [==============================] - 0s 13ms/step - loss: 0.0054 - accuracy: 1.0000 - val_loss: 0.0602 - val_accuracy: 0.9750\n",
      "Epoch 8/20\n",
      "25/25 [==============================] - 0s 13ms/step - loss: 0.0027 - accuracy: 1.0000 - val_loss: 0.0557 - val_accuracy: 0.9800\n",
      "Epoch 9/20\n",
      "25/25 [==============================] - 0s 15ms/step - loss: 0.0019 - accuracy: 1.0000 - val_loss: 0.0551 - val_accuracy: 0.9800\n",
      "Epoch 10/20\n",
      "25/25 [==============================] - 0s 16ms/step - loss: 0.0015 - accuracy: 1.0000 - val_loss: 0.0542 - val_accuracy: 0.9800\n",
      "Epoch 11/20\n",
      "25/25 [==============================] - 0s 16ms/step - loss: 0.0012 - accuracy: 1.0000 - val_loss: 0.0534 - val_accuracy: 0.9800\n",
      "Epoch 12/20\n",
      "25/25 [==============================] - 0s 16ms/step - loss: 0.0010 - accuracy: 1.0000 - val_loss: 0.0528 - val_accuracy: 0.9800\n",
      "Epoch 13/20\n",
      "25/25 [==============================] - 0s 16ms/step - loss: 8.7702e-04 - accuracy: 1.0000 - val_loss: 0.0524 - val_accuracy: 0.9800\n",
      "Epoch 14/20\n",
      "25/25 [==============================] - 0s 13ms/step - loss: 7.5795e-04 - accuracy: 1.0000 - val_loss: 0.0520 - val_accuracy: 0.9775\n",
      "Epoch 15/20\n",
      "25/25 [==============================] - 0s 13ms/step - loss: 6.6217e-04 - accuracy: 1.0000 - val_loss: 0.0517 - val_accuracy: 0.9775\n",
      "Epoch 16/20\n",
      "25/25 [==============================] - 0s 15ms/step - loss: 5.8390e-04 - accuracy: 1.0000 - val_loss: 0.0515 - val_accuracy: 0.9775\n",
      "Epoch 17/20\n",
      "25/25 [==============================] - 0s 13ms/step - loss: 5.1903e-04 - accuracy: 1.0000 - val_loss: 0.0513 - val_accuracy: 0.9775\n",
      "Epoch 18/20\n",
      "25/25 [==============================] - 0s 13ms/step - loss: 4.6458e-04 - accuracy: 1.0000 - val_loss: 0.0511 - val_accuracy: 0.9775\n",
      "Epoch 19/20\n",
      "25/25 [==============================] - 0s 13ms/step - loss: 4.1846e-04 - accuracy: 1.0000 - val_loss: 0.0509 - val_accuracy: 0.9775\n",
      "Epoch 20/20\n",
      "25/25 [==============================] - 0s 13ms/step - loss: 3.7896e-04 - accuracy: 1.0000 - val_loss: 0.0508 - val_accuracy: 0.9775\n"
     ]
    },
    {
     "data": {
      "text/plain": [
       "<keras.src.callbacks.History at 0x7dbe11f5dd80>"
      ]
     },
     "execution_count": 31,
     "metadata": {},
     "output_type": "execute_result"
    }
   ],
   "source": [
    "best_text_cnn_wrapper = TextCNN(data_manager=dm, **text_cnn_best_params)\n",
    "best_text_cnn = best_text_cnn_wrapper.build()\n",
    "\n",
    "early_stopping = tf.keras.callbacks.EarlyStopping(monitor='val_loss', patience=8)\n",
    "optimizer = tf.keras.optimizers.Adam(learning_rate=0.001)\n",
    "best_text_cnn.compile(optimizer=optimizer, loss=\"sparse_categorical_crossentropy\", metrics=[\"accuracy\"])\n",
    "best_text_cnn.fit(dm.tf_train_set.batch(64), epochs=20, validation_data=dm.tf_valid_set.batch(64), callbacks=[early_stopping])"
   ]
  },
  {
   "cell_type": "code",
   "execution_count": 32,
   "metadata": {
    "id": "LX8aLnYasIbw"
   },
   "outputs": [],
   "source": [
    "best_lstm_with_attention.save(\"best_lstm_with_attention_model.keras\")\n",
    "best_transformer_model.save(\"best_transformer_model.keras\")\n",
    "best_text_cnn.save(\"best_text_cnn_model.keras\")"
   ]
  },
  {
   "cell_type": "markdown",
   "metadata": {
    "id": "QPXd_gZWlx-Z"
   },
   "source": [
    "\\# Give your answer here.\n",
    "\n",
    "(i) What is your best model?\n",
    "Both the TextCNN and Transformer models. However, it seems that the TextCNN model consistenly (with a lower variance) predicts with a higher accuracy.\n",
    "\n",
    "(ii) The accuracy of your best model on the validation set\n",
    "They achieve validation accuracies of 0.9800....\n",
    "\n",
    "(iii) The values of the hyperparameters of your best model\n",
    "transformer_best_params = {\"embed_size\": 224, \"num_heads\": 24, \"ff_dim\": 32, \"dropout_rate\": 0.1}\n",
    "\n",
    "text_cnn_best_params = {'embed_size': 224, 'state_size': 200}\n",
    "\n",
    "(iv) The link to download your best model\n",
    "I will attach it in the same zip folder."
   ]
  },
  {
   "cell_type": "markdown",
   "metadata": {
    "id": "n-lKkvTslx-Z"
   },
   "source": [
    "---\n",
    "<div style=\"text-align: center\"> <span style=\"color:green\">GOOD LUCK WITH YOUR ASSIGNMENT 2!</span> </div>\n",
    "<div style=\"text-align: center\"> <span style=\"color:black\">END OF ASSIGNMENT</span> </div>"
   ]
  },
  {
   "cell_type": "code",
   "execution_count": null,
   "metadata": {
    "id": "gqZtRStZZrj7"
   },
   "outputs": [],
   "source": []
  }
 ],
 "metadata": {
  "accelerator": "GPU",
  "colab": {
   "gpuType": "T4",
   "provenance": []
  },
  "kernelspec": {
   "display_name": "Python 3 (ipykernel)",
   "language": "python",
   "name": "python3"
  },
  "language_info": {
   "codemirror_mode": {
    "name": "ipython",
    "version": 3
   },
   "file_extension": ".py",
   "mimetype": "text/x-python",
   "name": "python",
   "nbconvert_exporter": "python",
   "pygments_lexer": "ipython3",
   "version": "3.9.13"
  }
 },
 "nbformat": 4,
 "nbformat_minor": 1
}
